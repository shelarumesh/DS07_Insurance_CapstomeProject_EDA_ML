{
  "nbformat": 4,
  "nbformat_minor": 0,
  "metadata": {
    "colab": {
      "private_outputs": true,
      "provenance": [],
      "collapsed_sections": [
        "vncDsAP0Gaoa",
        "FJNUwmbgGyua",
        "w6K7xa23Elo4",
        "yQaldy8SH6Dl",
        "PH-0ReGfmX4f",
        "mDgbUHAGgjLW",
        "O_i_v8NEhb9l",
        "HhfV-JJviCcP",
        "Y3lxredqlCYt",
        "3RnN4peoiCZX",
        "x71ZqKXriCWQ",
        "7hBIi_osiCS2",
        "JlHwYmJAmNHm",
        "35m5QtbWiB9F",
        "PoPl-ycgm1ru",
        "H0kj-8xxnORC",
        "nA9Y7ga8ng1Z",
        "PBTbrJXOngz2",
        "u3PMJOP6ngxN",
        "dauF4eBmngu3",
        "bKJF3rekwFvQ",
        "MSa1f5Uengrz",
        "GF8Ens_Soomf",
        "0wOQAZs5pc--",
        "K5QZ13OEpz2H",
        "lQ7QKXXCp7Bj",
        "448CDAPjqfQr",
        "KSlN3yHqYklG",
        "t6dVpIINYklI",
        "ijmpgYnKYklI",
        "-JiQyfWJYklI",
        "EM7whBJCYoAo",
        "fge-S5ZAYoAp",
        "85gYPyotYoAp",
        "RoGjAbkUYoAp",
        "4Of9eVA-YrdM",
        "iky9q4vBYrdO",
        "F6T5p64dYrdO",
        "y-Ehk30pYrdP",
        "bamQiAODYuh1",
        "QHF8YVU7Yuh3",
        "GwzvFGzlYuh3",
        "qYpmQ266Yuh3",
        "OH-pJp9IphqM",
        "bbFf2-_FphqN",
        "_ouA3fa0phqN",
        "Seke61FWphqN",
        "PIIx-8_IphqN",
        "t27r6nlMphqO",
        "r2jJGEOYphqO",
        "b0JNsNcRphqO",
        "BZR9WyysphqO",
        "jj7wYXLtphqO",
        "eZrbJ2SmphqO",
        "rFu4xreNphqO",
        "YJ55k-q6phqO",
        "gCFgpxoyphqP",
        "OVtJsKN_phqQ",
        "lssrdh5qphqQ",
        "U2RJ9gkRphqQ",
        "1M8mcRywphqQ",
        "tgIPom80phqQ",
        "JMzcOPDDphqR",
        "x-EpHcCOp1ci",
        "X_VqEhTip1ck",
        "8zGJKyg5p1ck",
        "PVzmfK_Ep1ck",
        "n3dbpmDWp1ck",
        "ylSl6qgtp1ck",
        "ZWILFDl5p1ck",
        "M7G43BXep1ck",
        "Ag9LCva-p1cl",
        "E6MkPsBcp1cl",
        "2cELzS2fp1cl",
        "3MPXvC8up1cl",
        "NC_X3p0fY2L0",
        "UV0SzAkaZNRQ",
        "YPEH6qLeZNRQ",
        "q29F0dvdveiT",
        "EXh0U9oCveiU",
        "22aHeOlLveiV",
        "JcMwzZxoAimU",
        "8G2x9gOozGDZ",
        "gCX9965dhzqZ",
        "gIfDvo9L0UH2"
      ],
      "gpuType": "T4",
      "include_colab_link": true
    },
    "kernelspec": {
      "name": "python3",
      "display_name": "Python 3"
    },
    "language_info": {
      "name": "python"
    },
    "accelerator": "GPU"
  },
  "cells": [
    {
      "cell_type": "markdown",
      "metadata": {
        "id": "view-in-github",
        "colab_type": "text"
      },
      "source": [
        "<a href=\"https://colab.research.google.com/github/shelarumesh/DA01_Hospitality_Analysis_codebasics/blob/main/EDA_HealthCare_Insurance.ipynb\" target=\"_parent\"><img src=\"https://colab.research.google.com/assets/colab-badge.svg\" alt=\"Open In Colab\"/></a>"
      ]
    },
    {
      "cell_type": "markdown",
      "source": [
        "# **Project Name**    - HealthCare Insurance Analysis\n",
        "\n",
        "\n",
        "\n"
      ],
      "metadata": {
        "id": "vncDsAP0Gaoa"
      }
    },
    {
      "cell_type": "markdown",
      "source": [
        "##### **Project Type**    - EDA/Regression/Classification/Unsupervised\n",
        "##### **Contribution**    - Individual\n",
        "##### **Mr. Umesh Prakash Shelar **\n"
      ],
      "metadata": {
        "id": "beRrZCGUAJYm"
      }
    },
    {
      "cell_type": "markdown",
      "source": [
        "# **Project Summary **"
      ],
      "metadata": {
        "id": "FJNUwmbgGyua"
      }
    },
    {
      "cell_type": "markdown",
      "source": [
        "Our client is an Insurance company that has provided Health Insurance to its customers now they need your help in building a model to predict whether the policyholders (customers) from past year will also be interested in Vehicle Insurance provided by the company. An insurance policy is an arrangement by which a company undertakes to provide a guarantee of compensation for specified loss, damage, illness, or death in return for the payment of a specified premium. A premium is a sum of money that the customer needs to pay regularly to an insurance company for this guarantee. For example, you may pay a premium of Rs. 5000 each year for a health insurance cover of Rs. 200,000/- so that if, God forbid, you fall ill and need to be hospitalised in that year, the insurance provider company will bear the cost of hospitalisation etc. for upto Rs. 200,000. Now if you are wondering how can company bear such high hospitalisation cost when it charges a premium of only Rs. 5000/-, that is where the concept of probabilities comes in picture. For example, like you, there may be 100 customers who would be paying a premium of Rs. 5000 every year, but only a few of them (say 2-3) would get hospitalised that year and not everyone. This way everyone shares the risk of everyone else.\n",
        "\n",
        "Just like medical insurance, there is vehicle insurance where every year customer needs to pay a premium of certain amount to insurance provider company so that in case of unfortunate accident by the vehicle, the insurance provider company will provide a compensation (called ‘sum assured’) to the customer.\n",
        "\n",
        "Building a model to predict whether a customer would be interested in Vehicle Insurance is extremely helpful for the company because it can then accordingly plan its communication strategy to reach out to those customers and optimise its business model and revenue.\n",
        "\n",
        "Now, in order to predict, whether the customer would be interested in Vehicle insurance, you have information about demographics (gender, age, region code type), Vehicles (Vehicle Age, Damage), Policy (Premium, sourcing channel) etc."
      ],
      "metadata": {
        "id": "F6v_1wHtG2nS"
      }
    },
    {
      "cell_type": "markdown",
      "source": [
        "# **GitHub Link**"
      ],
      "metadata": {
        "id": "w6K7xa23Elo4"
      }
    },
    {
      "cell_type": "markdown",
      "source": [
        "1. Github : https://github.com/shelarumesh/DA01_Hospitality_Analysis_codebasics/blob/main/EDA_HealthCare_Insurance.ipynb\n",
        "2. Drive :  https://drive.google.com/file/d/1NGg9nRUCE4z56ycswSQ1VlIwBqVv49pg/view?usp=sharing"
      ],
      "metadata": {
        "id": "h1o69JH3Eqqn"
      }
    },
    {
      "cell_type": "markdown",
      "source": [
        "# **Problem Statement**\n"
      ],
      "metadata": {
        "id": "yQaldy8SH6Dl"
      }
    },
    {
      "cell_type": "markdown",
      "source": [
        "- **Insurance company want to check policyholder customer is interested in the vehicle insurance or not**"
      ],
      "metadata": {
        "id": "DpeJGUA3kjGy"
      }
    },
    {
      "cell_type": "markdown",
      "source": [
        "#### **Define Your Business Objective?**"
      ],
      "metadata": {
        "id": "PH-0ReGfmX4f"
      }
    },
    {
      "cell_type": "markdown",
      "source": [
        "- This is Insurance compan, wants to grow business\n",
        "- Target to vehicle insurance from existing customer\n",
        "- Check how many existing customer are interested in Vehicle insurance"
      ],
      "metadata": {
        "id": "PhDvGCAqmjP1"
      }
    },
    {
      "cell_type": "markdown",
      "source": [
        "# **General Guidelines** : -  "
      ],
      "metadata": {
        "id": "mDgbUHAGgjLW"
      }
    },
    {
      "cell_type": "markdown",
      "source": [
        "1.   Well-structured, formatted, and commented code is required.\n",
        "2.   Exception Handling, Production Grade Code & Deployment Ready Code will be a plus. Those students will be awarded some additional credits.\n",
        "     \n",
        "     The additional credits will have advantages over other students during Star Student selection.\n",
        "       \n",
        "             [ Note: - Deployment Ready Code is defined as, the whole .ipynb notebook should be executable in one go\n",
        "                       without a single error logged. ]\n",
        "\n",
        "3.   Each and every logic should have proper comments.\n",
        "4. You may add as many number of charts you want. Make Sure for each and every chart the following format should be answered.\n",
        "        \n",
        "\n",
        "```\n",
        "# Chart visualization code\n",
        "```\n",
        "            \n",
        "\n",
        "*   Why did you pick the specific chart?\n",
        "*   What is/are the insight(s) found from the chart?\n",
        "* Will the gained insights help creating a positive business impact?\n",
        "Are there any insights that lead to negative growth? Justify with specific reason.\n",
        "\n",
        "5. You have to create at least 20 logical & meaningful charts having important insights.\n",
        "\n",
        "\n",
        "[ Hints : - Do the Vizualization in  a structured way while following \"UBM\" Rule.\n",
        "\n",
        "U - Univariate Analysis,\n",
        "\n",
        "B - Bivariate Analysis (Numerical - Categorical, Numerical - Numerical, Categorical - Categorical)\n",
        "\n",
        "M - Multivariate Analysis\n",
        " ]\n",
        "\n",
        "\n",
        "\n"
      ],
      "metadata": {
        "id": "ZrxVaUj-hHfC"
      }
    },
    {
      "cell_type": "markdown",
      "source": [
        "# ***Let's Begin !***"
      ],
      "metadata": {
        "id": "O_i_v8NEhb9l"
      }
    },
    {
      "cell_type": "markdown",
      "source": [
        "## ***1. Know Your Data***"
      ],
      "metadata": {
        "id": "HhfV-JJviCcP"
      }
    },
    {
      "cell_type": "markdown",
      "source": [
        "### Import Libraries"
      ],
      "metadata": {
        "id": "Y3lxredqlCYt"
      }
    },
    {
      "cell_type": "code",
      "source": [
        "# Import Libraries\n",
        "import pandas as pd\n",
        "import numpy as np\n",
        "import matplotlib.pyplot as plt\n",
        "import seaborn as sns\n",
        "from sklearn.preprocessing import StandardScaler\n",
        "from scipy import stats"
      ],
      "metadata": {
        "id": "M8Vqi-pPk-HR"
      },
      "execution_count": null,
      "outputs": []
    },
    {
      "cell_type": "markdown",
      "source": [
        "### Dataset Loading"
      ],
      "metadata": {
        "id": "3RnN4peoiCZX"
      }
    },
    {
      "cell_type": "code",
      "source": [
        "path = '/content/drive/MyDrive/Colab_Notebooks/ALMABETTER/Module6 ML/Health_Insurance_classification/TRAIN-HEALTH INSURANCE CROSS SELL PREDICTION.csv'"
      ],
      "metadata": {
        "id": "lYYjja7TQqJf"
      },
      "execution_count": null,
      "outputs": []
    },
    {
      "cell_type": "code",
      "source": [
        "from google.colab import drive\n",
        "drive.mount('/content/drive')"
      ],
      "metadata": {
        "id": "O0-S9A7AOCJN"
      },
      "execution_count": null,
      "outputs": []
    },
    {
      "cell_type": "code",
      "source": [
        "# Load Dataset\n",
        "df = pd.read_csv(path)"
      ],
      "metadata": {
        "id": "4CkvbW_SlZ_R"
      },
      "execution_count": null,
      "outputs": []
    },
    {
      "cell_type": "markdown",
      "source": [
        "### Dataset First View"
      ],
      "metadata": {
        "id": "x71ZqKXriCWQ"
      }
    },
    {
      "cell_type": "code",
      "source": [
        "# Dataset First Look\n",
        "df.head()"
      ],
      "metadata": {
        "id": "LWNFOSvLl09H"
      },
      "execution_count": null,
      "outputs": []
    },
    {
      "cell_type": "code",
      "source": [
        "df.tail()"
      ],
      "metadata": {
        "id": "lRsoKJbLRMe1"
      },
      "execution_count": null,
      "outputs": []
    },
    {
      "cell_type": "markdown",
      "source": [
        "### Dataset Rows & Columns count"
      ],
      "metadata": {
        "id": "7hBIi_osiCS2"
      }
    },
    {
      "cell_type": "code",
      "source": [
        "# Dataset Rows & Columns count\n",
        "df.shape"
      ],
      "metadata": {
        "id": "Kllu7SJgmLij"
      },
      "execution_count": null,
      "outputs": []
    },
    {
      "cell_type": "markdown",
      "source": [
        "### Dataset Information"
      ],
      "metadata": {
        "id": "JlHwYmJAmNHm"
      }
    },
    {
      "cell_type": "code",
      "source": [
        "# Dataset Info\n",
        "df.info()"
      ],
      "metadata": {
        "id": "e9hRXRi6meOf"
      },
      "execution_count": null,
      "outputs": []
    },
    {
      "cell_type": "markdown",
      "source": [
        "![image.png](data:image/png;base64,iVBORw0KGgoAAAANSUhEUgAAAeUAAAHXCAIAAAAN4NWTAAAYfGlDQ1BJQ0MgUHJvZmlsZQAAWIWVeQdUFE3Tbs/ORmDJOecoOSfJOecgKkuOCy4ZAREQSQpIEAUMgAoGMCIgAhJEEUkGFBVRUEBRMZBB/iHo9/7vd8+95/Y5Pf1sdXVVV3WoqR0AuDpJ4eEhKHoAQsmRFHsTfX5XN3d+3BTAAA5AD4SBMsk7IlzP1tYSIOVP+7/L/HMAbbRPpDdk/Xf//7Uw+vhGeAMAeSDYyyfCOxTBbQCgU7zDKZEAYA0RulBMZPgGDkAwMwWZIIITNrD/Fs7bwF5buGqTx9HeAMENAOBpSCSKPwC0nQidP9rbH5FDO4H0MZJ9AskI6yKCd3oHkHwA4FJDeHaEhoZtYKQCcYQ/HME5CFbz+odM//8l3+uvfBLJ/y/esmuz4A0DI8JDSHH/n675f5fQkKg/OkSRShNAMbXfsB/x4YvgMIsNTIPgGbKXtc2GrxG8GOiz5XcAUFQBUaZOW/wobu8IA8R/gBXBcj4kQwsEcyPYmBxibblN9/ILNDZDMLJbULGBkWaO22MzfCOMHLZlllHC7G3+YD+Kgd722FoSZVPvBn9nVLCT3rb8FwG+Zn/k/4oPcHRBMBUAMFV0oLM1gmkRzBwR7GCxxQMLxgcYWP/hoUTZb8xfGMFqvmQT/S35sIcfxdh+mz88NOKPvXB6QKCZ9TYuiQxwNN3yD3zRm7Q5f3YE1/uS9Zz+yPGNcLX8Y4uPr6HRlu1wny/ZadteeDQ8Ut9+e+xseIjtNj8a7xtiskEXRDBnRLTD9li0ViSyObfkoy3DI20dt+aJ9gwimdtuzQcdDSyBATAE/CAKqV4gDASBwL6Z2zPIr60eY0ACFOAPfIH0NuXPCJfNHjLydADx4AuCfEHE33H6m72+IBqhr/2lbj2lgd9mb/TmiGDwEcGhwAKEIL+jNkeR/2pzBhMIJfC/tHsjcw1B6kbff9P0EIrlNiXqj1x+uj+cWCOsIdYUa4yVQHOid6I10ZbIUxepCmg1tPqf2f6HH/MRM4h5j3mGGcO83BuYQvnXXKzAGCLfeNtir39ajBZFZCqj9dHaiHREMpoVzQmk0UqIHj20DqJZGaEabM97w3b+/4Odfy34h8+3+QhyBBSBjaBLEP/3SFpJWuW/UjY8+k//bM3V669XDf72/Fu/wT/87IO0Fv/mhDPgG3A3fA9+CDfDtwE/3Ao3wL3w3Q38dw9NbO6hP9rsN+cTjMgJ/C99pG2dG56MkLskNy23ut0HIn1jIzcOmEFYeBwl0D8gkl8PiQK+/GZkb5kd/ApyCkoAbMSUrWvqp/1mrIBY+/9DIyExQ00BOdL6/6GFIXdDbRFyNE78hyaKnF0OdQCu23tHUaK3aOiNBwa5DeiQE8UBeIEQEEcsUgAqQBPoAiNgDmyAI3ADexA/ByD7mQJiQAI4CNJBNsgDReAkOA0qQTW4Aq6D26AZ3AP3wSMwAJ6BV8j++QA+g1kwD1YgCMJBRIgJ4oD4IBFIClKA1KCdkBFkCdlDbpAn5A+RoSgoAUqFsqFj0EnoLFQDXYMaoXvQQ2gQegm9g6ahH9AyCkbRoJhRPChRlCxKDaWHskA5onaj/FH7UPGoNNRRVAmqAnUZVY+6h3qEeoYaQ31GzcEApoZZYQFYGlaDDWAb2B32gylwEpwFF8MVcC3chKz0E3gMnoGX0Fg0E5ofLY3sYVO0E9obvQ+dhM5Bn0RXo+vRnegn6HfoWfRvDBHDjZHCaGDMMK4Yf0wMJh1TjDmPuYXpQk7TB8w8FotlxYphVZHT6IYNwu7H5mDLsXXYNuwgdhw7h8PhOHBSOG2cDY6Ei8Sl407gLuNacUO4D7hFPDWeD6+AN8a748n4FHwx/iK+BT+En8SvEOgJIgQNgg3BhxBHyCVUEZoI/YQPhBUqBioxKm0qR6ogqoNUJVS1VF1Ur6l+UlNTC1KrU9tRB1InU5dQX6V+QP2OeomGkUaSxoDGgyaK5ijNBZo2mpc0P4lEoihRl+hOjCQeJdYQO4ijxEVaJloZWjNaH9oDtKW09bRDtF/pCHQidHp0e+ji6YrpbtD1083QE+hF6Q3oSfRJ9KX0jfTD9HMMTAzyDDYMoQw5DBcZHjJMMeIYRRmNGH0Y0xgrGTsYx5lgJiEmAyZvplSmKqYupg/MWGYxZjPmIOZs5ivMfcyzLIwsSizOLLEspSx3WcZYYVZRVjPWENZc1uusz1mX2XjY9Nh82TLZatmG2BbYudh12X3Zs9jr2J+xL3PwcxhxBHPkc9zmeMOJ5pTktOOM4TzF2cU5w8XMpcnlzZXFdZ1rhBvFLcltz72fu5K7l3uOh5fHhCec5wRPB88MLyuvLm8QbyFvC+80HxPfTr5AvkK+Vr5P/Cz8evwh/CX8nfyzAtwCpgJRAmcF+gRWBMUEnQRTBOsE3whRCakJ+QkVCrULzQrzCVsJJwhfEh4RIYioiQSIHBfpFlkQFRN1ET0selt0SoxdzEwsXuyS2GtxoriO+D7xCvGnElgJNYlgiXKJAUmUpLJkgGSpZL8USkpFKlCqXGpwB2aH+g7yjoodw9I00nrS0dKXpN/JsMpYyqTI3Jb5Kiss6y6bL9st+1tOWS5ErkrulTyjvLl8inyT/A8FSQVvhVKFp4pERWPFA4oNit+VpJR8lU4pvVBmUrZSPqzcrrymoqpCUalVmVYVVvVULVMdVmNWs1XLUXugjlHXVz+g3qy+pKGiEalxXeObprRmsOZFzSktMS1frSqtcW1BbZL2We2xnfw7PXee2TmmI6BD0qnQea8rpOuje153Uk9CL0jvst5XfTl9iv4t/QUDDYNEgzZD2NDEMMuwz4jRyMnopNGosaCxv/El41kTZZP9Jm2mGFML03zTYTMeM2+zGrNZc1XzRPNOCxoLB4uTFu8tJS0plk1WKCtzqwKr19Yi1mTr2zbAxsymwOaNrZjtPts7dlg7W7tSu4/28vYJ9t0OTA57HS46zDvqO+Y6vnISd4pyanemc/ZwrnFecDF0OeYy5irrmuj6yI3TLdCtwR3n7ux+3n1ul9Guol0fPJQ90j2e7xbbHbv74R7OPSF77u6l20vae8MT4+niedFzlWRDqiDNeZl5lXnNeht4H/f+7KPrU+gz7avte8x30k/b75jflL+2f4H/dIBOQHHATKBB4MnA70GmQaeDFoJtgi8Er4e4hNSF4kM9QxvJjORgcmcYb1hs2GC4VHh6+Ng+jX1F+2YpFpTzEVDE7oiGSGbk5b03SjzqUNS76J3RpdGLMc4xN2IZYsmxvXGScZlxk/HG8ef2o/d7729PEEg4mPAuUS/xbBKU5JXUfkDoQNqBD8kmydUHqQ4GH3ycIpdyLOVXqktqUxpPWnLa+CGTQ5fSadMp6cOHNQ+fzkBnBGb0ZSpmnsj8neWT1ZMtl12cvZrjndNzRP5IyZH1o35H+3JVck/lYfPIec/zdfKrjzEciz82XmBVUF/IX5hV+Ktob9HDYqXi08epjkcdHyuxLGk4IXwi78TqyYCTz0r1S+vKuMsyyxbKfcqHTumeqj3Nczr79PKZwDMvzpqcra8QrSiuxFZGV36scq7qPqd2ruY85/ns82sXyBfGqu2rO2tUa2oucl/MvYS6FHVp+rLH5YErhlcaaqVrz9ax1mVfBVejrn665nnt+XWL6+031G7U3hS5WXaL6VZWPVQfVz97O+D2WINbw2CjeWN7k2bTrTsydy40CzSX3mW5m9tC1ZLWst4a3zrXFt42c8//3nj73vZXHa4dTzvtOvu6LLoe3De+39Gt1936QPtB80ONh409aj23H6k8qu9V7r31WPnxrT6Vvvp+1f6GAfWBpkGtwZYhnaF7Twyf3H9q9vTRM+tng8+dnr8Y9hgee+HzYuplyMvvI9EjK6+SX2NeZ72hf1M8yj1a8Vbibd2Yytjdd4bvet87vH817j3+eSJiYvVD2kfix+JJvsmaKYWp5mnj6YFPuz59+Bz+eWUm/QvDl7Kv4l9vftP91jvrOvvhO+X7+o+cnxw/L/xS+tU+Zzs3Oh86v7KQtcixWL2kttS97LI8uRKzilstWZNYa/pt8fv1euj6ejiJQtp8FYCRivLzA+DHBQCIbgAwDSDvFLu2cr7tAiMvHyikdYZkoM+oTjgV7YDRxYrhOPHsBD4qbWprmmBiHm0j3QyDNKMvUyXzOKskWxx7Kycdlwt3Fc9PPi3+NIHHQgzC9iJHRB+JAwlFST+p4zt6pBdkxeXs5JMVLik+U0apyKvuVstSr9d4p0XUVtvpqZOpe03vtQHeUMXI2zjPpMF01ByyELY0sQqyzrW5afvCbtGB1VHRycY51OWIa63bI/d3u2Y9Fnav7AWeVCQOL2lvPR97371+vv6kAIdArSD+YCh4LKQ19Aw5NSwg3HafGoU/Ah/xLfJ5VEt0dUxBbFJcSLzbfrME7UTVJJUD6sl6By1SXFJ90yIPHUovPFyVcSOzLas3+3nO2yOTR7/k/siby58/NlcwV7hcjD7OUrLjhMlJ79IDZSXltadaTz868/TsSMVY5XTVr/PwBZZqyRr9ix6XYi4XXrleO1j3/RrDdcUbDjcjbuXV19xuarjX2NHUdudO8627dS01rZVt5feK2rM6EjqDuhzuq3Szdy89GHvY33P/UUfvvcfNfXX9JQMRgwZDxKEnT0qf+j1Tfo55Pjxc/SL6pe4IdqQb2V/Kryff5I9qjo6/PTKmOfb53en39uPweN2E08TSh8KPOz62TtpPTkwdmpadnvhU/Zk8ozgz96Xuq/c3hm+3Zm1nP35P+MH24/7P3F/kOdK8H7KPJpa71mTW1zfXXwi6igqCFeAp9DVMMtYVp42XJohRiVEL0sgRNWjt6LzpkxhOM7YwTbPQs6qxkdgzOG5yjnJT8yjy7uJL5j8r0Cr4SmhOhFqUT0xZ3EzCUzJOqmDHNelemSk5tLyAgpaiu1KkcrZKlWqj2mP19xq/tLDaXDvldax0Q/Ry9a8aDBh+Mcab8JgqmBmZO1l4W5KtYq2TbFJtD9ml22c4ZDnmOGU5p7nEuQa4Obob7tLxMN7tvidmb5HnVVK7V493l88t3zK//f4uAXKBNIEzQQPBTSE1oaXk3LCUcMo+D4puBF/ESuSzqCvR6TFesUZxcvHC+3kSOBJZkugPYA/MJ78/2JNyLbUoLebQ7nTzw4YZlpmkrIPZ53LuHxk9+jV3Lm8hf+7Yz4LZwi9FM8Vfjy+eoD+pXkouO1/ed2r89PSZD2ffVrysHKx6cK7lfPOFnuovFwUu7b5cduVlHfNV62sZyO21dEum3ud2acNQE+aOUvPeu4dazrc2t7Xcu9ie15HYGdOVfD+3u/xB5cNTPUcfRfU6PJbuQ/eN9F8fyB4MGrJ7YvTU6Jndc6/hqBdpLw+PJL7ye23whvPNzGjj28Njru+k3+PffxzvmCj/sO+j7iTN5NOpyukDnwI/+8wEfAn9Gv4tfDb8O+VH9M+4XzFzgfMmC3QLNxaNFh8tuS99WR5YpVkb2Vx/KdAJWUAvUL4wFs5FS6H7MfFYWew07hw+gCBLWKLqoT5NE0O0p1Wgo6Wbp3/J0MZYw1TAnMjiz2rPps0uwcHCsco5xTXE3cJTy1vJV8pfLFAomCuULhwtQhI1EuMXWxTvlTgtGSFlukNAGiU9LTMs+0CuSf6iQolispKnsroKVqVftUjNVZ1D/aVGuaaPloI2Vnt0Z71Orm6AnqG+qAG9ITD8aTRp/Nzkjmmxma+5iPmYRYmljRXOqsM61cbMlt32k12LfYFDgKOmE9Fp1PmKS4KruRuL21v36l1hSPxf2n13T/JeA0+85yCpzCvYW8uHxmfE94LfPn81/9WA1sDkIN1gENwWcjDUgIwmd4UdCtcLX9x3ieKGxOyaSJvIX1El0VrRozHJsTyxd+M841njR/ZfSkhNdE0ST5o/0JFccNA/xTBVMo39EHU6SP91eDzjcWZdVk42KUfpCO7IyNGruVl5wfkmxxiP3S/YVTBTGF+kV6x/POME/mRW6UQ5xymF0+pn1M8qV8hWilcJnOM4z3CBqppQQ4fsJO3LnlcO116pe3J19br4Dfebx24N3mZucGssaxpuxtyVaDFp9Wo7cO9Ue0vH2871+wLdBg/8H+b0XHv0vHetT6J/18DxwdEnCk+PPPs67PCicUTgVdEb2be072Imsqfivlj/mF+y21j/rf/+NgpWBYACJM90PoLUaQDybyN55h0A2KgAsCUC4KgOUIdrAcqkFkDBh/7GDwhJPPFIzskK+IAEUEIyTUvgjuTNsSATySgvgxYwBD6CVYgRkoB0kfwwAjqC5INd0DgKQgmg9FE+qMNIljeEWoaFYCs4Hq6Gh9F4tAY6FF2JfolhxFggGVkHFsLqYpOx7TgMzhyXh3uBF8CH4BsJOIILoZqwTGVFdZZqgdqaupoGTeNF00EUIWYSv9I60jYjmU4+PaDfRz/B4MbQz2jMeJdJjameWYO5g8WeZZw1ig3LVswuyt7AYc0xxZnBJc81zn2ax4tXineR7z5/kYCPoJIQVuiV8A2RXNEQMQtxKQmixKzkM6k7O05JJ8l4yKrLMcvNyj9WuKiYqRSgbK4io8qiuq72RX1UY0izR6tLu3Nnt06f7ojelP68ITDCIvcc3hRvRjCnsWC2FLBSsra2IdsW2jXbf3AkOik5u7kkup5x63Sf9KDeLbfHeW+CZxWpz2vRR9jXwe+Qf3PAcpBB8ImQJbJ32NA+Y0pzpFJUXYx07LV4rf0DiWEHuJOfpxSmWR6aP1yYuSOrK8f3KEvu2/zHBW+K1kv4T6qXWZ7aeyau4kzVyAXpmjOX5WrHrp29uec2dWNt8+5WqXa+LuMHFb00/eKD80/zh8VfDr4+9fb4+6GPntNLXxi/Xf4BfsnNqy+sL2UtN6w8Xb2zVvk7fF118/6ANv9zYARcQBQoAB1gBTxAKEgC+aAKNIJ+8AGsQayQLGQO+UGpUAV0D3qPQqPEUJYoCuokqgP1DeaGLeAEuA6eQHOi7dHZ6C4MhNHG7MfcwaxidbCp2Ic4epwb7hzuB14PX4D/SNAkFBBmqIyRNV+ldqW+iWTCFJqnRHXiGVpq2ljaSTo3uj56Y/o2hp0MrYwGjD1MDkxvkMx0mSWXVZL1Eds+dlb2eg47jo+ccVxEripuXe4Jnnxecz5avjf8NwSOCgYK6QuzC38WuSuaJ+Ynri8hIskohd+BkcbL0MoyyjHI4+WXFKYUh5V6lO+p3FPtUXul/kOTVktO225noE6kLkUvQN/VwMRQ3UjJWM3ExHSvWZL5WYtuy1lrLhsj22AkphU6HHcscip0PuPS6vrdXXlXssfjPbx7Iz37vYS8/XyKfG/59flPBKwEsQYrhjiGRpNPhrWFf6KwRRhHRkddiB6JpY+zis/d/yJRNCnxwPhB/1T6tJ70yAxs5uFsdE7GUa7cjvyUAtcig+OaJzRLNcvVT0ucRVfcr4o+z3Xhbo3XJZbLb2q7rvZfn7slfzuh8VEzXYthG6X9fOd0t/7D673yfWUDb4Z+Pf3+fPLF+MjU619voXdU48wfhCdNp4tnVL9l/Ty/ELLUt5K22rH26/fS5vqjkNPPAHiBNNgJ7IAfSATF4CroBZ8gAiQFWUEUqARqgz6hWFGGqEjUedQIzACbwWlwG7yG1kTHo5vQqxg9TBZmGCuBPYh9g9uJq8Dj8WH4pwR1QjkViiqI6hm1IfUdGnWae0Rb4kfaFDoBujZ6D/p5hjxGacbHTGRmInM1iz7La9Y4Nl62PvajHF6c+lyS3MzcKzxveBv4jvGHClgKygmxC2OFl0S+i34T+ym+JkkrJbxDV9pTJlm2XK5B/onCTyVOZTOVFNUOdRoND82r2jjkXbVFT1C/wJDVqNbE3YzBfNDypHWYrZO9gsOIk7tzr6up25Ndfh6Le1I9IVK41zMfVd8yf0LAwSCq4MpQqzAQfpsSFskb1RETFeez/2tSVXLcwecpq2moQ/h0+sOKGRGZT7OdcqaPZuTJ5L8syCjSLP5eUnNyTxlV+YXTqmfuVuhUtp0zPN9TbVvz9JLj5YFa47rGa+LXj9/E30qsX23IbBK9M3A3pVWlbbq9rNPmPrr7zsOIR1K9E32nBlyHmJ8MPcsdNn+xPnL5tc2bqbdRY2vvUybgDymTqKnUT+jPB2a+fjX+Fjdb/v3Ij6ifhj8Xfl2cs557NR8wP78QvTC96LHYv2SwdGmZuBy+PLSivFKy8n3VbLVidWXNce3Kb/i36+/L69C60/rFjfWP8FNU2AwfEI0+AJjR9fWfogDgjgGwlr++vlKxvr5WiSQbrwFoC9n6nrQZa+gBKHu7gXokn5D//S1n61vTP/KYf7dgMxJtakUi0UbZiErgfwA37Oo3m+OESgAAADhlWElmTU0AKgAAAAgAAYdpAAQAAAABAAAAGgAAAAAAAqACAAQAAAABAAAB5aADAAQAAAABAAAB1wAAAABCMOtQAABAAElEQVR4Aey9d7wURfb+/xMlKDnnJCAIEiRnEJXwJS1BokuQKOIKgoIIiERBEJAgkllgASUsQXKUKDkHkRxEkhKVRd3f+0O9tiy6e9K9M3MnnPnj3prqqlOnnj711KlTPV1P/Pe///3/5CMICAKCgCAQ8gjEC3kNRUFBQBAQBASB/0NA+FrsQBAQBASB8EBA+Do87pNoKQgIAoLAUxqCJ554QqclIQgIAoKAIBBSCLDX+Bdfo5nsPYbU7RFlYoMA/ofYc2wAlLohhYDypyUeElI3RZQRBAQBQcAlAsLXLqGRC4KAICAIhBQCwtchdTtEGUFAEBAEXCIgfO0SGrkgCAgCgkBIISB8HVK3Q5QRBAQBQcAlAsLXLqGRC4KAICAIhBQCwtchdTtEGUFAEBAEXCLgM1//8ccfEydOfOedd27cuOEo9bvvvnv22We//vpr8+oPP/xQoUKFYcOGmZmSFgQiDAGPo8Psr0+FzYqSjloEPPA1DAv5mh/o+Lfffjt16tT9+/ejFjXpeJgioO35ueeea968+bZt2/z+mxqPowMd8F3wYMDQY+EwxVnUDhACj/2+0bGNxIkT16tXL1WqVOpqhgwZ/vHo41hYMgWBEEdA2XPy5Mm3bt3aqlWrwYMHN2jQwF8vY3jyySe9Hx0+FQ5xVEW94CDgwb9GiRQpUrRo0aLL/z742tpBwDfZvXt348aNyaxTpw5pU2mufvPNN+XKlStVqtT8+fP//PNPdfXw4cO4NlQhf9q0aawKzVqSFgQCioCy527duk2ePLlEiRIzZ868evWqoyXj/E6YMOHFF1/EGW/ZsuXp06dR7Oeffx4wYMDzzz9PPlcpowKAffr0YQiMHz9ejw6VT+SwRo0alB8yZAhLUq5S69KlS1WrVqWALoxkxgWt0NbLL7+8cOFCxoWS0KtXL8YL+QxBWg8oOCI8xBHwzNfw7O3btzEUPiTM9SNRka5du967d69v375Jkyb98MMPz58/rzt84sSJgQMHpkyZEo/j2LFjP/74I5eQgI3+5z//mTRp0v/7f/8PI167dq2uIglBIGgIsGTEmTh06NDZs2cdLXnDhg2fffZZu3btRowYcfHiRWiaPRvSkOmbb77ZsGFDruKIKIXnzZv38OHDHDlyWPRHcrNmzaBsDB735W9/+1vt2rVTp049dOjQPHny6MIMHKYQ/nbv3v2FF17o2bPnqlWr1NXt27e/+uqrtWrVWrJkycaNG3UVSUQhAp7jIfAspqmgwYOAYTVMq1ev/uWXX0aPHl20aFHm/9dff/3IkSM6cgJH//TTT6w3X3rppZIlS7L2pCLs/+uvv5JIly4d/gJUnihRIi1QEoJAMBFImzatas7RkvGduZogQYLSpUsvWLCANHy9ZcuWRo0avf322zjLGTNmJLqiFogwbOvWrYmr4CabXcBlfu211yDc77//Hn+ZEZQ5c2ZsHvdcjxTK79mz5+TJk1OmTGGwXLlyBZZfv3495M6lTp06IYGrVOevKVzS0YaAZ77GKMeMGZMzZ06gIeJm0uvdu3dxrjWbU4AcbYW///47Oc888wx/seN48f7Pl2c12qNHDxaPdevWfeqpp5o2bQprP/3001ySjyAQZASuXbumWnS05Jo1ax4/fhyHGp8je/bsH3/8MWMBdmYUYM8w9RtvvEF1aJS/rC/JdKV/woQJ4X1GhI4KWkqag4XYeu7cuQm/qAlDldQjyFJRvkYVAp75Gp5NliwZYQ07LkmSJCEf/7pAgQLqKmx+8OBBlYaOSajHSIiiKEtlzZgrVy68FWyRdSWxkSJFirCfaRcuOYJAQBFg8UfEo2DBggQxcG8tlgzDwqHEPd59911c4/79++O19O7dG7KGsrFnLBlTp5grCjaVf/DgATFARoTyWsxLKm0Ollu3bvH0SL58+UzfyF5FcqIQAc987QaUihUrsl3zySef4CYTmCYYQiBbl2ePJX369Lgnly9fZr2p4tf8JSBI5I4tFLWQFKPUiEkiCAgQwfvnP/+png8hdoHvTGjObsksARctWvTll1+y3YcZoxirQEIZ5cuX/+qrr3Cu79y5M2PGDAzeDEPb9WcHkjUozH706NEOHTrA7wRh2G/kRwzEVXT5YsWKIYdZ4dy5cxRmhiAMEj9+fF1AEoIACHjeb3QDExsj7KKwecJScfr06XzFE9fl8+bNO2jQIHYphw8fjo0qo8+WLRsMTiZ8PXXqVKJ+7IbrKpIQBAKNAOw5a9YsiBj+xWjVw3x2S4bQ2XGBYSH0tm3bEtaDwdOkScOuYP369b/44gt2GnG9zWCgo+bEqVlHrlixonPnzkSxKVOlShWeS/n3v/+NH6OrqHHBX5ojwIIPVK1aNX1VEoKAQuCvMzgIkJnPfghAgkBYIxDn9gztsu7kORB2C8MaSVE+FBBQ9hwr/zoUuiE6CAKCgCAQJQgIX0fJjZZuCgKCQNgj8FcMJM7Xj2GPpXQglBAQew6luyG6xBYBiYfEFkGpLwgIAoJAMBGQeEgw0Za2BAFBQBCIOQLC1zHHTmoKAoKAIBBMBISvg4m2tCUICAKCQMwREL6OOXZSUxAQBASBYCLw2O/R2YIMZtvSliAQUATEngMKrwgPPgKP8bX8vjH4N0BaDBAC8jxfgIAVsXGCgHI+JB4SJ+BLo4KAICAI+IyA8LXPkEkFQUAQEATiBAHh6ziBXRoVBAQBQcBnBISvfYZMKggCgoAgECcICF/HCezSqCAgCAgCPiMgfO0zZFJBEBAEBIE4QUD4Ok5gl0YFAUFAEPAZAQ98zcFdHEtqkcrBGRxq/uuvv1ry5asgEEkIcELu2bNnvTlON0C95vcQ33zzTbly5WS4BQjhsBPrga85cnTChAkcFB12HROFBQE7AsMefXQ+x5C/8cYbOCU6x0xw6G2PHj3s/opZxtf0119/jQrUoukKFSo8++jDEaacZfrbb79ZpF28eJHzrDkiddSoUZw2abkaoK/4YUwP+GQBki9iY4OAB77Gmj/66KOnnnrsZ5CxaU/qCgLhggCH8M6bNy9jxowBUpjTe1evXn369OkFCxYwKwwcOBCP3mzrwYMHnPMbOAXMtiQdFgh44GvtDjD5f/bZZ88//3yNGjXWrFkTFn0TJQUBLxHAnXzzzTfHjBnDcebEH4hCEIvQ3jfp9evXk4/9f/jhh//4xz+4ZPFDzZHCkhQ5fPCa//jjD486pEiRgtYvXbp0+PBhXRiVqlatunHjxmLFiiGcfK42b94cj7xOnTo7d+5UGpLDkeovvfQSKum6NDpt2rRSpUqh8KBBg+7evetKWxrt1KnTc889p3p98uRJGl2yZAknBat1gL1RJWr8+PE0TcV33nnnwIEDSgg5TD+oAV1YQFC1RowYgaqqO1pbSXiPgAe+1oKWLl3Kvdy8eTMRkqAtzXTrkhAEAo3Ajh07YJ/du3dDcLNmzTKDJKdOnYLKP//88yNHjtSuXfvMmTOulIFDp0+fTiCFkbJy5cpt27Zt2bLFVWEzH8qGW2lIZ8K2eN+VK1fes2cPJ6yfP3++T58+7dq1Yxj269fv008/VYUh3MyZM+Oh58yZU9ddvHjx/v37mXX27duXKFGiGTNmoJi+qhMPHz4cN25c+fLljx8/PmXKlMmTJ0P0NMp8MGfOnPfff99Vo0i4ceMGgZq9e/cimZXBBx98cOzYMQI7BHAIn7oCAYH//Oc/a9WqpXWQhE8IeMXXrMuY7Rs1asQKjtvPDfapDSksCIQ+ApUqVapYseKTTz5ZuHBhPJKbN29qnQ8dOlTk0SdevHh58+ZNmzatvmRJ3Lp1C95v06ZNkiRJ0qdPX61aNZ8CwZcvX7YI1F9hbVQg5I2GeO7wOFMCV3PkyAH9pUqVinxVmNHKPNG4cWM1Wlu3bk2/HHdN6U7ixInxiK9du8ZcBa3nypVLt0jCVaNcwg0nVkM3y5YtW6JEiaxZs6JAgQIFmOeuX7/uCgS0oqQ4fCbIPqW9Ckxzs5kzuT0+iZbCgkBkIIDxQzGaEN10Cmfz9u3b+OC6TP369SHQhAkT6hw3iUyZMrm6aurAq9rSpUun3Hw4l49Zi8gDTrfWFirnQ6ZZRqUp07Vr17lz58LpzDTdunWrW7euWcxVo2YZ3ZDOhC7sIKjQvL2wriUJbxDwiq8xCLYc79+/741EKSMIhCwCuMZXrlyBVdXbKUk4Op4W/TF++I5YgUe6QSzkuGrVqjx58liEuP/6yy+/EE945ZVXXBUzdUDtq1ev4ts6FmZqIUKi4+YEPVDe8ZEB5Ye1bNmSxwouXLjw3nvvZcuWDR9Zi/W+UV2FBHRhB8FxwjBrSdobBB6bmV1VwDsgmvbVV1+x0mEnwcuQnCtpki8IxBUChBS2bt3KMh+qunPnzvz58yHWZMmSudenYMGChIP5UOvEiRNEDyhPYBBa/Pbbb2FGnu5gQ5LMpEmTFipUaPbs2fAv+cuWLSM04V44V6nORhzSeCLFVWF2HVGAGAhijx49unbt2ipVqjgWZrQSo1i4cCE64NUSeSeanCBBAru2jOVevXotX76cflkIHQcZ4d43amrCRBIDEEwJknaFgFd8TWWWeFgt4TO2FLj3ruZ2V81IviAQCgjA1zAUm3W5c+fGmU2ZMiUBAY9eM1Hdt99+m8dC8D3ZiFPUhivN4xDsQML47777LgEKOoio9u3bZ8iQgacgIF+2+9hFdNVxvB+iwDzv0axZM3YLe/fuzchyVRjPd8CAAWzx0Rybe3yIpLsqTFgDVYme42ZB2W3btkVnu7ZEOLt37862ZL58+Ro2bMgYJzKOe85MwGYjz4P51KhWxicQdC1JeIPAE6ytVDnsT6e9qSllBIFQRiBA9sx+GnFeSB/GD+Xui24RhoCyZ2/96wjrvHRHEBAEBIGwQ0D4OuxumSgsCAgCUYrAXzGQAK0foxRX6XZcIyD2HNd3QNr3JwISD/EnmiJLEBAEBIFAIyDxkEAjLPIFAUFAEPAPAsLX/sFRpAgCgoAgEGgEhK8DjbDIFwQEAUHAPwg89nt0Qtr+kSpSBIEQQEDsOQRugqjgTwQe42v5vYw/oRVZcYqAPB8Sp/BL435GQDkfEg/xM6wiThAQBASBACEgfB0gYEWsICAICAJ+RkD42s+AijhBQBAQBAKEgPB1gIAVsYKAICAI+BkB4Ws/AyriBAFBQBAIEALC1wECVsQKAoKAIOBnBISv/QyoiBMEBAFBIEAIBJWvOcOtS5cuPp0YHaBui1hBwHsEvv7662HDhnlfPqAlQ0qZgPZUhNsR8MzXnLX8zjvvcKwRHxJ8tUuRHEEgLBCA7J577rlNmzaZ2nJ8Igdo4UnE5kxYjlWE0/fu3fvDDz9wbB6nfOlP6HC92WtJhyMCHvj6xx9/xI4rV658+PDhAwcOFC9enFPmOMczHLsqOgsCIPD7779zwiynGmo0du7ceejQIf01Zgn8mBs3bqgzFdOkSbN69erT//twFmLMZEotQcCCgAe+5ih03Oo6depwhiaHgTZo0CBLliznz59HCgbaqVMnvJUaNWrs3r2bHDyLVq1acRhzuXLlOLhz6tSpOB3kHzx4EAnI6devHxOA0oCzmSdMmEAxXZLqHAk6ePBgziolrYrJX0HAvwhwxO3FixfhUiX2/v37q1at+vvf/66+arPEXIcMGcJVS+s4LlgpvjN/tRDKEOXjQOrEiRNbyuuv9or43XzUIEIag4gTdWlXDyjeD8H563y1N6fE2mXq5iQRkQh44OszZ87kz59fHyDNgcqYFIfV42LjaON3Hzt27KOPPho5ciSLSgA6e/YshTds2DB79uylS5dS/dq1a8OHD8cosa0WLVpwJjTFMERo/fvvv9+8efPKlSu3bdvGxEA+c0DmzJkXLFjAcdERCbd0Ks4RwLTKli27bt069bYcTPTBgwdlypRRis2fP1+Z5a5du/AtODvcVBhPpU+fPh06dDh58mSTJk04QVwROn/3799fsWJFs7CZdlWR1vv378/QKFy4MCe116tXjzQr2smTJ9+7d+/EiROMLD64LzVr1vz888/NiI0rmWa7ko4wBDzwNb1VZM2x0PXr11chOVwJDChhwoTYEFcxtbRp08LUFKZArVq18MQZFdmzZ2eFeO7cOVieiB4luYoPQrFbt27t2LGjTZs2SZIkSZ8+fbVq1dQmZI4cOaieKlUq1Sgl5SMI+BcBWBh2JgCCEULZGzdurFSpkuJuGoIxBw0ahFnygdbhU7P1PXv2FClShOUj9lm+fHlo+vLlyxQ4fvw4Ro6roQrjlODFq8HCqGHsuKpYpUoVgieMF6QVK1YsV65cSOYv4Ro+JGbMmEGMJV68eCVKlMBJwv3X+riSqQtIIvIQeOz9fI7dUzGNlClTLly4kOn9gw8+oBiZROgU+apaGH3q1KntEiiZKFEiDM68xPC4fft27dq1dSZmjYFSzFJSF5CEIOAvBGBS7Jn9mHz58rFDyAJRP7OEEY4bN44VHmxOcx07djQbJfYNgfJRmU899RQcijHjfEC42smAgqdNm5Y7d25d17GivkpC1zUzGQtr165FHzVtMFWYVz3KNAtLOjIQ8MDXRNOIVECmuABmhzEv2JYAH26FzncMOlMSp+DPP//UxUjwbkCcaOKGefLk0fmO1fVVSQgC/kKApWH16tUJxBGsg7u1X4xvMX78eNyO7du342TwMInFv4ag27Vr17NnT/PN2kQCWUQ2a9bMjXqOFdevX++mCpcYemyNzpo1K2PGjIwOtnbM8o4yzQKSjjwEHnN77d1jScj6cc6cOXAufgSrP/ZqoGDCHXfv3oVwMXFcDMJtV65csVcnh6gIy0bi1JRkf0ZtxCdNmpQgODFu6pK/bNkyQtiO1SVTEAgEAgTxMOYRI0awm6d9W7wKosbJkiWLHz8+LKz2VMzWMVr8cbxpSjIuJk6ceOfOHXIw8hQpUpglLWnHipYy9q8MHPyhp59+mtG3detWlqRmmZjJNCVIOuwQ8MDX+Bpsqly4cIGQH3G0Hj16dO7cuWjRouSzT7JmzRoccKLYOMuEsB07Tz7PM7E8pCQLSYyMYoyQ9u3bZ8iQgUdBXnjhhX379nHVsbpkCgKBQAB6ffXVV4kwEBLR8qHptm3b4tKy7MPU8bsJAOJP6AIElAmejB07lljHG2+8QV3WnTwOSBhal3FM2CsSH3csaWYSY8SzZui9/PLLTCS4/GyN6gIxk6mrSyIcEXhC77TIeRzheP9EZ1cIBMee2WmcN28emzqWgKErrSRfEIgZAsqeha9jhp7UCnUEgsPXoY6C6BcpCCh79hAPiZTOSj8EAUFAEAh7BISvw/4WSgcEAUEgShAQvo6SGy3dFAQEgbBHQPg67G+hdEAQEASiBAHh6yi50dJNQUAQCHsEhK/D/hZKBwQBQSBKEHjs9+g8MhIl3ZZuRgMCYs/RcJejqo+P8bX+7UxUQSCdjUgE5PnriLytUdsp5XxIPCRqDUA6LggIAmGGgPB1mN0wUVcQEASiFgHh66i99dJxQUAQCDMEhK/D7IaJuoKAIBC1CAhfR+2tl44LAoJAmCEgfB1mN0zUFQQEgahFQPg6am+9dFwQEATCDAHh6zC7YaJuiCPAjxi++eYbzlDv0qULx9OEuLaiXngh4BVfc8pi8+bNly5dGl59E20FAUcEAmrPHHA6c+bMSZMmjRo1iqMXHRXwNZPj24X9fQUtIst7xdcHDhzgJOkNGzZwAGhEoiCdiioEAmrPHLHIIbmcuxhVkEpng4OAZ77+z3/+wwmkHLNLgtPqlFos+r799ltOy+Wc3A8//LBly5a4AFy6dOlSp06dnnvuOY6d3r17d3D6IK0IAt4j4Ed71tbOebisPjk0nVFQtWrVjRs3FitW7Ouvvza1YjjUqVPn2WefZal68uRJLg0bNkyX0R70zz//PGDAAIbViy++OHXqVE77pVjTpk2XLFmC5B9++IGz0idMmMBVPkOGDLl7964SRTE19JBPW0qIOQwPHz7MJaXA6dOnVS2OD27cuDF1TVUlHboIwLzqg4r/Sz72/9y5cxwFfeXKFVZ53FeMkstk1qtXb/v27djTpk2bOGd6x44dmFqrVq04fvT333/nUrNmzaj1mCz5IggEC4FA27Oy9jlz5mDtZ86cwdq3bt1K5+Di1q1b37x50+woPNukSZM9e/ZQmHUqA4rqQ4cO/eqrr1Qxhs8777zD+nXcuHHk46RfvnwZmVA/BfRVRt8XX3zRtWtXqnNi+uDBg0eMGIFMqnTs2JFFMBVJly9f/tChQ+SvXLmyQ4cOcDoD9m9/+xtDlUyo/6233qI6JRs2bHjixAkKmNpKOgQRUPbs2b/Gj2ZOTpMmTfHixffv33/16lVqYnn58uXDiYgXL17BggVz5sxJJkaZMGHCmjVrPvnkk4ULF06bNu3Zs2fJl48gEDoI+MuelbXXrl0ba8+RIwd0vGbNGtwXx54ePHiwUKFCeMQULlu2LKvVp5567FVrulayZMnOnz//448/pk+ffuLEiSVLltSXSNy6dQvubtOmTYoUKYi64C8jGZrmUpUqVRikHNMOWTMwc+XKRVv8ZT3BhwGLU8UuKJkUYGJgPqBWgwYNWA0nTpzYbEXSIYuAs9FoddmZWb16NfbBbc6ePTsUvHPnTmyUWRqLiR8/vi5JAmOlMPStMytVqqTTkhAE4hwBP9oz1p4oUSL8FdWpdOnS4fPCjI59hIIZQeoVa1AqxO1YjMxGjRolT568W7du+Ozt2rVjwWqWxO+jRbwilZk0aVK+qpCILkZDOq0TDNgZjz4qh9kCKEg7Fta1JBFqCHjga9ZKzOdbtmzRerPgIlqXJEkSnlXCZM37TRoqJ6bGzK/LS0IQCB0E/GjPWDuhZAIUqnesOzF7V15ztmzZ2PuBbaFsqsCwji4tBZBZvXp1xhF82rdv3xUrVhB41ACq6oxBlXPnzh3Smr51MXsCxWD/nj17qjlDFVi/fr29pOSEMgLu4iHQ8dq1awmrnTp1ig0KPkTTrl+/jrNQoEABti927dqF8REpwxegk0RFMMRVq1ZREWubPHky8etQ7rzoFlUI+Neec+fODVeyzYhYnuGbO3dutWrVLCtODS/BEAIXR48eZbzg/RCAZoAwXkgTmoB2WZhSmKtjxoyZMmUKfrqF+hlZDx8+xPUuXbo0BagOs7NdmT9//kyZMumGXCVQYO/evfheNEGwhUgLjboqLPkhi4A7vmb7m4A1Vqjn5KxZs1auXHndunVZsmR57733Pv74Y4h7wYIFuNv0MHXq1P379yeKx+42UexUqVIRPwnZnoti0YaAf+2ZeODAgQOJhmPtPB9F/LpChQquICWOTIjjgw8+YNcHtuWRKgYLz3vwgDZhZWIgakmKz862IezP9g/SqMXoQyZzA2OQx0vYECJCQsSZR7PKlCkDreNOmWtcNwrwKMjYsWMRxW4naqgx66q85IcmAk+wBFOaYRA67Y2uuBXKUAjb4S9ggnny5PGmopQRBIKAgNhzEECWJoKGgLJnd/61G1VYUr377rvM9iyvcKiRJa60G7jkUogjIPYc4jdI1FMI/OVT++SP4Ilv3ryZrUVC26zLWGrxzJ9gKgiEDgJiz6FzL0ST2COg7DmGfB375kWCIBBQBHzi64BqIsIFgdgjoOw5hvGQ2DcvEgQBQUAQEAR8QkD42ie4pLAgIAgIAnGGgPB1nEEvDQsCgoAg4BMCwtc+wSWFBQFBQBCIMwSEr+MMemlYEBAEBAGfEHjs/SFsQfpUWQoLAqGMgNhzKN8d0S0GCDzG1z79vjEGjUkVQSBoCMjzfEGDWhoKAgLK+ZB4SBCgliYEAUFAEPADAsLXfgBRRAgCgoAgEAQEhK+DALI0IQgIAoKAHxAQvvYDiCJCEBAEBIEgICB8HQSQpQlBQBAQBPyAgPC1H0AUEYKAICAIBAEB4esggCxNCAKCgCDgBwT8w9c//fQTp8w4qkM+Vx0vxSyTM5DUOQkxqy61BIFwQYAjrbt06fLdd9+Fi8KiZ6AR8MDXHOjJQQR8ODKuefPm27Zts/+m5vfff58wYcKiRYscdSWfq5RxvOo+E66vX7++xV6///77Hj16+HcOcK+GXI0kBDjFkTMPOXSRT+/evX01pB9++IHzD115J6EJlBpHaiCXKlVq5MiRWn8GOFMCE0MwNZd5KMZoe+Br5HLK55EjR44fP96vX7/Ro0evWLHC0hgHOXO+DEZsyVdfyeeq5bBnx5JeZr7wwgvz5s3LmDGjl+WlmCCgEbh69SoczZnRhw8f3rdvHyeODhgwgBPKdYEITsyZM+f06dMbNmzgIGwO8+OE9QjubKR2zTNfq57HixcP48axZULmTuPzciY0Xxs2bMhcPWzYMPL37t3buXPne/fuUYUynPQMy5PPVXL4O2bMGFwb5apjOmT+9ttv48ePx9MpV67c0KFDOftZz/yqXftf08FBCGogsEaNGjt37lS+P0ORpQDeBH9VK45N0xBjlaZffPHFqVOncnwwbeF8derUSQncvXu3vXXJCWsENm3alDVrVlwQjopOlChR7dq1b9y4wYoNe9ZuJoaBk4GZYRILFy7EMrEH7JaSGDOHmm/cuLFYsWJU0QWwIo6cVq46+W3atBk+fDh2Rd3FixfPnz+fhHszswwoE2TUw5K1Dlxyb7q09c0339jXwUomB7E3bdo0Xbp0nOdntuKYdtVBc+yrisplnjlzpkVVBjjLa/rOh+MD7969C7BguGTJEtRQzODYtGQ6IuAtX6vKOXPm5Gfs169f5+vBgwfxUyZPnpw8eXJ1NXfu3MQ9CC7zlb8JEybMli2buqT+fvvtt5g1fFq4cOEFCxZgUpzVCy0yAJj248ePf/v2bbO8+zTjZ9CgQc2aNTt27BjDg1XehQsXzp8/36dPnw4dOpw8ebJJkyafffaZ8p7sTeNuoOGBAweWL1++bt26LVu2MMco5wuBrAkQ6Oti2b3CcjXOEThz5kzBggUha6UJniZmUKRIEUfFDh06hJXCtlhs9uzZ4R2ic6tXr8bs9+zZQ2Bh1apVFGC1hxUVLVr0k08+UYEFGPall16iDPaJRT148ADzg7ipiwfjyszsA0ppxQBhXYszxHhZv349HIqLkzhxYmW6yKTAw4cPx40bV758eeRPmTKFUXnixAnHTpGZIEGC4sWLY+SuCuh8Vx30UlUUnj59Omgwurdu3YrYiRMnwiHozJQJ8u+//75uSxLeIOAbXyPxzp07ilUrVKhQqVKlFClS4HqrlpIlS4YR4+fylUh3iRIlmMxNJRo1apQjRw7MhYp4srdu3cLfee2119KnT08mfoFZ2GOasZckSRLUYPjly5evV69efGWQMPwQRSbmC1lfvnwZUZammfbRFnLnYGxax4xKlizJzA+D16xZk7rMKJz4ruYej5pIgbBAADJVxuCltjjg2A8TPz7K248+2tSRAAvDnm3bts2SJQvWi6uO86jWc3jf+fPnpzBzA2kGBRaFOWXIkEE5mI5mZh9QSk88kjRp0ihTx+YRq5ShUQRiqJgxmTA4rV+7dg1PfMaMGbly5XLfTbwuuuCmjJsOeqkqA3zHjh2sNmAJqADXG6JHQzeNyiX3CPjM10mTJoXpEIqJqFdGmQ1wVvrRo0dxSzGs0qVLm5fsaaZf/HF8HPslb3KgWhRQOjAeGBuIQiDGSuiGeAhDRXnNjtJg8GrVqnXr1o15hXUccvBcmPmRQ90CBQqwZPNpeDu2Ipmhg8DTTz+dKVMm7/XJmzcvETNiIFgy8RA8FWVsSsKff/6JsWmPBAqGMaFjUz5jhI+ZQ9qVmVHSlG+ppb9SBk26d+9OEAZSnjRpEpewf1au9K5169aQ6dq1a+3tagkqwRyAzpZM86ubDnqpKgOckroVqIOvFojMFiXtEQGrMbmvAAtzD7jTroqpAAheM3ZsCYbYq2BkFIvxbg9bjijDB8n8xetnVcjGZrt27U6dOoWvwYe1GEs/e9OUx8WuXr06q12CIcwx7KOiD14Si19Vl7/16tWz15Wc8EUARiPKAWOqLty8eZMo6v79+x17hIWweGfThSUjKzbiY6ZDCvVgbNp6uYQ7qbnJUaDKjKWZ0SKB4CpVqihDZZcIsYpbCSsT3Js7d+5XX33FbqorHXgilhAKdO+qgMqPcQe1WKYWFNOgMc2Q9gYiLUESFgS85WtwxwIGDx5M+ILVjUWK/gr/EljAK4ElWa/pfMcEAWtCFrNnz8Yfx4ZUhMuxpGMmY4m5mrGEbkTriFmzMCxUqBCRPlZhZOKAE+jASuzVuco4JNJHu/rZFSWQmB3jmSAjQcArV67Y60pO+CLAThebHOyacIuh46VLlxJSwI9OnTr1uXPnuET+9u3bSdBHTAu3GuOEd/joXkM61IV3IE2M5OLFi9RauXIl/jWxCF3MVSKWZoZTT2BHrXFxKXbt2kVD6EM8ELLGsLU9OyrAcPjyyy95TgY33LGAzoxxB7UEdrZYmjDKGE1oyEqFMJFe4vi0WaVlRnnCM18TFiA4QICYPT0eA+JJDPeQEa2DNF3t4VjqvvLKK2XLlsXPZX8Gu7dcVV/xgNSjo/w1N5QZYx9++OG0adPQjY0LIhssD/mwVTh27Fg2P9nl5xKBP7tYfBwcE1ok/IfhUovYCAL79+/PYMb1IIpNdIWYo72u5IQvAjwXMXDgQNZSPBVK7A5e7tu3L3ESOJQwcePGjfEz2MejGH3EmcAs2WPEitgw5NknKCxz5szYIXaLi4rNNGjQgFpI4wEPNrp1eMQNRLE0M5j6zTffZCBgpWyBKvanXSIkPBaCqjyyxTKR5zEsOqhxhOYwPvvw2utSA1wNMcYCuzi6Ysw6qKszyfHEF3MYMII2vhHzH0MPwJnqGLOooQtLwhsEnlDxBIoCrk57U9MvZWiRDysvpGHx+Npssntj9H5pXYREMAJxYs8RjKd0LW4RUPbs2b8OqJbEjvEUCMkR2eC5KJZLzL0BbVGECwKCgCAQpgjEMV+z5GRdxmYOCzEWoS1atGAaCVMoRW1BQBAQBAKKwF8xEFk/BhRoER5kBMSegwy4NBdQBEIiHhLQHopwQUAQEAQiCYE4jodEEpTSF0FAEBAEAoqA8HVA4RXhgoAgIAj4DQHha79BKYIEAUFAEAgoAk+Z0uXZDBMNSYc7AmLP4X4HRX8LAo/xNT9dsVyWr4JAmCIgz4eE6Y0TtR0RUM6HxEMcwZFMQUAQEARCDgHh65C7JaKQICAICAKOCAhfO8IimYKAICAIhBwCwtchd0tEIUFAEBAEHBEQvnaERTIFAUFAEAg5BISvQ+6WiEKCgCAgCDgiIHztCItkCgKCgCAQcggEnK85Tunnn3+Oq35zclKXLl04CSGuFJB2wxcBzkM5e/YsJ2zFeRc4Scs8WcmVPvx+giNmeDsxNo/luyrmPp/BEpvq7oWbVwEWeAHZzIx9+saNG5xiw6E2rkZ90DoY+77YJXjgawxFn8XFQV+DBg3yiXw5eYgjixYtWmRv2NecS5cucRs4A4lP7969mQZ8lSDlBQFYzyQ+zr7i0DhXJs1hzT169AgjS+N8u5kzZ3Ji+qhRo3w698M9DgEyG4AFXkD2r3yOPeHMNg4jhq+05DjpoG7djwkPfE1LderUOXLkCCd7rl27lilx/PjxnC7qpQYc/clpigwJL8u7KsbxoHB05cqVuQ0c+5snTx6O9NVHU7uqJfmCQGwQ4FRGBn/GjBljIySYdTkImLP0wkVh9AReQPYvRJxUxZmWHg/79m+jQZPmma+1KkmTJuV46WvXrrGE4bRjHGfO9OQzdepUxeCQKWePshLBEf7HP/6Bb05d3BmVMKsMGTIEWLnK2oTDQzmqHDms41jNOf4mftOmTVmzZmXm4LDORIkScZwoqx41M9No8+bNWQRwlQOtVfWDBw/yFU+8X79+nJKuumAqoHXWvZNENCPgaIfaKcOo1q9fj31iURzxjG1zyRJq0yEL92aGk8EJpY/Gzf8NHBUNcLRhvH5OpGU0Yd7qEHRukBvhdIHhuXHjxmLFiqkRZxeL2kgbPHgwB+CSVnecwroiQsiE9zn33TIktTQk4L2Z1kKtli1b4ixz1C9qsxTu1KkTmnM2N6cSUxIAObCYRhWAFKYKJfHklBq6yssvv8yh9fiFCl6WCzSnKIUhbzYK5yxcuFDdlK5du+KtqyrwEppwSrJeNsW+g2a7cZv2ga85lJ75kAOYOSV6+vTp0OXmzZtXrly5bdu2LVu2cBVqfv31148fPw4F45KbHeOGqSobNmzYunUrlyZOnKhYfseOHdwP7ivBllmzZmmUzepnzpwpWLAgZK0yObl8zpw5HMF+/vx5DqVu167dyZMnoeZPP/301KlTzCgc5Y7FYGEcMHb9+nVqaQVMnc0mJB3lCLixQ4wKl+Lzzz/HqvEVsEZXWLk3MwweHqQMQ4CBgH2uWrXK0YYpOW3aNDyk/fv3jxs3jrgiLboXzvJ/9erVrEH37Nnz2muvOYpFCMxIuGDBggU4oaoXFNYVVQzBDoWS1qFDBwZakyZNONfcsrrFQ6Jp1Tu1FD527Bhr65EjR8KknENPiAYvDQA5c53CJoBQB1UqVqxIlSlTpsydOxcFVAFoYfTo0Xv37qXvTJlmLaCjFzAS59kXLVqUWZCrtNKxY8ehQ4dC5SlTplTl/dJBs+k4THvma33cfcmSJXFjOaD+9u3bANqmTZskSZKkT5+eG8BsyTzJG0kqVarEYefZs2eHXs1e3bp1S1XhtEaWbMyZ3DOIlTJU4VbBxYULFybodvPmTbMiaabNy5cvWzLVV0wT1ubsR6rjDmAx0PG5c+doQmWisNJEK2Dq7ChTMqMTATd2eOjQIcyMD7adN2/etGnTuoLIvZnduXMHs8cJxT4ZCHiFSHO0YVUSJ1GVLFOmDC26F25RyVEsZXLkyFGrVi08Hu39WCry1Q6FkoYzSy3OXIWsLUOS4UYtOoXrjT9Xs2ZNNaLBik1FquPn4fgDIONRTxWqaaiDKkyEVEE95oM1a9YoZ65Zs2Zp0qRhzCLfnCZZAUDfbdu2zZIlC6EP6rJet3j99n7pnBh0UNeN28Rj7+dzVIXAAhMjUPbv3x92JhwBgULZYKTLY1is1JjQ4sePrzPNBNMjt4q7ojJxHPiqQiJmMcc0JJ4pUybHS/gdXEU3rjJbcGIvN5U7jZLIN6uggF1n7rpWySwsaUHARMA0MzPfnnZvZhAuH/WiNeoS4uMv7qHdhi3jRTXkXrhFGVNnPTQow7iwDA1LRcevSJvx6KOusi+FU2yWRKbqF6MPb9101yBHqkPlrsjBMmAZxSyyHz58aMq3pAmYIJPJTOUzihMnTuwln1hEqa8eO+hYK/iZnvla6cQk1qBBA5Yb+LDgzvzMeoR9P60xCzf6DI46x0xwL7kEP6pM3AefuBK+xsdhVlDUjA/+1ltvEaXCbpg8uN/kY81sSzIVk2bysGiCAnadTQ0lHQ0I4O5duXIFU1HkQsJiJ44gmGbmWEBnujez5I8+NKrKY7q0bgrXNmwZL6q8e+FaB5VwFGsp4/1XpBF17Nmzp8LNTUVGH54cHp4mUwqvWLFCj1N7XcuAZRRTl0x7SZ3D9IBKOiYDmTARxsb38r6DWoc4STzmhLrXoECBAngE0DTecaFChWbPns0cC1cuW7aMEDYLmXv37rFIwQSJSECvpjQMtXTp0gSnqAKZsgOQP39+V16zWVGl2Q8hBKZWSVRnRyJDhgysJVlhMU8QA0GNo0eP8gRLlSpViMZwI1UmSySliaPO9oYkJ7IRIKZB7JjlOVaK0zB//nx8jmTJkrnvNd4iZsaHWidOnFBxPNZwBILZRsP2CNGq6Kp7M1NXCTBiwziDbL0wmhxtWJUkCIslM2S2b9+Ohu6FW7rgKNZSxvwK5aGVmWOmGe8EkQlpggAb+Gw+gZ5ZQKeJddA1+gUsaE5EmwkS6iBYz64p1RmPZmSDirlz56Z1BjVVeCSR+DUhVlfOuGoIamakI5zy1GIXDf+abTCthj3hrw7aJQczxwe+Vi724sWLmQDbt28PY7Lhy+M4PGDHti/rnV69eoE1gSri/RC02Q2mZQLfAEoVgnFsi/MMifsp1KzOEmngwIHM0jRHdbi7b9++rCKzZcvGg308cMqo++DRR4UX2VhnuwatWMNhaoiiLbvOZhOSjgYE4GuslH1pOOKVV14hgkcQ2aMd5sqV6+233+axEHiHjW58MbDCpNmGYQMN23v33XcxUTLdmxlXCbmy0seGeRACaXXr1nW0YUq2bt2aBSsKs2fONoxH4Zbb5yjWUkZ/ZeKhCQBRj3PofJ0AATYPx44dC2481MEYZyGrr5qJ1KlTEzjFtWL0EcVmUcuaBj/vvffe+/jjj+kym4SWulAHo5uZjyo8OkL8mmi1KdMxDaez4ueBNDiB/TMmP9Ojt1TxYwctkoP89Qm9OsP+dDpmSjDRKdNn7QN5NmrUqGzZsr6KYvMBS2UXW1dkwxf+1V8lIQh4g0Ds7dmxFUKr3bp1g/RhLscCkumIgCYHAGSO5LFIM5rqWEUyTQSUPXsbvzZrOqZZBDGvMjfiEbDwISTC1q1jSfeZDANCGe7LyFVBQBAIIwQIofC8HTSN14/rDfW4ecYmjPoVfFX9xtescVi4sc9ArI0VCvEK7k3w+yMtCgKCQKghQOyU2AU/y+BJdmJBhFaIgYSakmGhz18xkACtH8MCBVEy8hAQe468exrNPVL27MN+YzSDJX0XBAQBQSDOERC+jvNbIAoIAoKAIOAVAsLXXsEkhQQBnnqSd6mLGcQtAsLXcYu/tC4ICAKCgLcICF97i5SUiwAEeAqYH1LxFjp+msH7IHkIlef99ZEFpget3/CpXvPLe+n4kS0/TWzatKk68UC/X1S/yBdR/IKG93lShbeP8bpUfvTIO0Vpi+em1I+n+Q2h5UXEqpblHacRALV0IRAICF8HAlWRGaII8OtcflbOa9b5US4/KOfnr46/EeMniLzFlBfR8XJgXqLA754hel5jBDXz+0Z+veXqbaX89JcXM/ADAt7WwMTADxE4XIm3NfCOOn6DR1v2FxGDlP0dpyEKn6gV1wgIX8f1HZD2g4UAb5CAOvkFM6/ohKz5GS0v8nXka14nxPsoePkMrwrhJQrQOj/INtV09bZSfniN8051WFu94JeG+NU71XkPO+8ksr+IGLEU9viOU7N1SUctAsLXUXvro67jhDvwZNUrE+g8r7bgRU5wqx0IyvBjPN5HBqfzLgveI2Ypxps9LC9BVS+B0qJ4WtZShUvMDeqlvrysgw8vmMQf5106lLQX1qIkIQhoBPz2+0YtURKCQGgiAMPy3h8iG0o9gh4wuKN/zWvkYGTePURom5eL8a4ifqzLu4p0v3jlE3XVOzGQAO1a3mGkS5oJSNz+Ul/i12YZSQsCbhBwcC7clJZLgkD4IsBLOHkBGS8p5T2feLUc8UU0mR9Gw7y85BOOZguRQAcdZFeQNzotX76cTPU2Pt1rHGTSvr6tVFX36YWoukVJCAIaAeFrDYUkIh8B3l+Km8yrOIkyQ9m83ZQXD3EsIa+TJP/f//43YQpQ4M2c3bt3Z1uSF4dyfBcv4CcYjXvOO5fZbOT0Qtxt+4t8PcJHmEVe6usRJSngBgF5f4gbcORSGCMg7w8J45snqtsQkPeH2CCRDEFAEBAEQhgBiYeE8M0R1QQBQUAQMBAQvjbAkKQgIAgIAiGMgPB1CN8cUU0QEAQEAQMB4WsDDEkKAoKAIBDCCAhfh/DNEdUEAUFAEDAQEL42wJCkICAICAIhjIDwdQjfHFFNEBAEBAEDgcfeH8Ij2cYlSQoC4Y2A2HN43z/R3obAY3zt+O4bWxXJEATCAAH5fWMY3CRR0WsElPMh8RCvAZOCgoAgIAjEKQLC13EKvzQuCAgCgoDXCAhfew2VFBQEBAFBIE4REL6OU/ilcUFAEBAEvEZA+NprqKSgICAICAJxioDwdZzCL40LAoKAIOA1AsLXXkMlBQUBQUAQiFMEgsfXP//8808//RT7znI+KaegIs0bUf5q1Ju2dJnvvvuuS5cunAqocyQhCPgRgWHDhn399dd+EYgcpLkXFWR7duyd+4HsWMXeKfjHS96w1w2RHA98ze3kRDv1ef755zt16nTq1KmYqb5o0aIJEyZw7HTMqsesVpw0GjNVpVZwELh06dI777yDMfPp3bu3rz6ET+5CcHoUDa3EfiDDPPAPcsIarsd+3+jYkzp16gwZMoTDRv/44w8OJP34449HjBjBKaWOhd1k4hS7uRqgS3HSaID6ImJjj8DVq1fhaEyaM3MfPnw4b948js3FO+OA3dgLFwmBQyD2A5lz7j/66KPAaRgcyR78a1MJTnfmfGi6fevWLUyczjdu3JgEZQ4fPty8eXPccP6ePn36/PnzrVq1unLlCpc4hZrDpzdt2mSuvHR5Rs7OnTv5HbzpthBJIJ7AKoz8b7/9tkaNGlqy1ue3336jzIoVK1TOtGnTPv30U/vv6XWjSHvzzTfHjBnDQdflypXj6GsKMwMtXLiQr8899xw+140bN3TTSqyu7r6/FEYfKACXDW3XrFmj9ZRESCGAHWbNmhWrw5gTJUrEwefc9O+//95c8rNkhh0wSLt5YA9Vq1bduHFjsWLFqKILcN+7du2qXHXy27RpM3z4cGVpixcvnj9/PjbG16lTp1IFQPDxWapidVjL7t27yaFWy5Yte/TowXHs5pqdNDMK8s3qClJlqzhPL730EoqZyuBg3b9/n2KO1cnklHdaZ7Tu2rWLYnS2SZMmFy5cIH3v3r2OHTuij2pF/X3w4MHkyZPNseM4NrUOekBpIY6coMvTQa0zVaAOxqPSED4hR49EqjDYOd6eKoMGDbp7965uggTDECcaPflotHUBRjFy+EoCKrA0YcfKkZQssNtrqQIzZ84EXhMH7sgnn3yidYMY0cRuCVpbx4QPfA1S27dvv3PnTtKkSZF19OhRLOmtt97iTvTp06dDhw4nT57krkNbyZMnz5Qp07FjxyiGEV+/fj1fvny6eVW+Xbt2lO/Xrx886yrGcvHixfHjx2ORAFe3bl0kKytEFIPt5Zdf3rx5M14SmXv27KlYsaL79/vs2LED+Bge3OZZs2YB9KFDhxYsWMBwYv7Inj07d5o+aj0tCTf9RYGlS5fSHfRhwcVaxFJXvoYIAmfOnClYsCBkrfRJlSrVnDlzihQp4qie3Tzq16+/evXqypUrY29QxqpVq7AfnPQDBw4ULVqU0chYRRQTABxKGSwNdx6yw+2AuKl7/PjxX375hUyEMEBwekaOHKmI/uDBg2RCiwwfpQ/WiP0nTpwY+cuXL6e6IndTW0bTP//5z1q1aillMGbaZZDiiDhWJxO+Ywjv379/3LhxKj6ZLVs27J9RgGRYG9bLkyeP2Yp97Jw4cQLN+TA2a9as+fnnn9N3O2J6QGXMmNHOCXadVaPAxfyHPoULFwZh0w8DRjTH39q3bx8kMGPGDH2VxPTp0wGfYbhy5cpt27Zt2bLF7IWZtjeBJSRMmFBBvW7dOjd1kaNgZ7p1dYO4U6NHj967dy9arV+/Hhy4s6S3bt26YcMGukbfXVmCqacl7ZmvlyxZUqBAATxcJjRMEwtLnz49Uho0aAD9YUzYBxaPB8EwKF++POR17dq1V199FUTQEs1y5MiRJk0a3bAqX6FCBcoz22Cj4KuvmokECRLQQwwCA6K5wYMHc4d0Ae7l5cuX8Y/4i61YLEwX04lKlSrB6TRKRSj15s2bSENbeBaif/vRJ148l4C46e/Zs2fxRxo1akQ3kQkIulFJhA4CGAmm4r0+7s0DFmYctm3bNkuWLBgqrjq+nnIG8b7z58+PLTE3kIbZsTpCiBkyZKAM9gwvwHHKFMnHftCKEYGJpkiRQhshCWWWyKcudgtNWPRnjcuKgZJKGWiR2A7ODXyBhvbqUDkTAxMPxWirTJkyCEQ+RstKlwEL5zLeU6ZMaTZkHzu5cuWCK/PmzUvTJUqUgHoYpG4Qix8/voUTmDPsOqsJj6EEaaAV7eKBIlkpQ49gYbqsBlrr1q0Z0X/++ae6yrqfeYXFTZIkSeCoatWqWVYJZo/sTSRLlgx4f/zxR+pOnDixZMmSZnlLWsEO+9kRViWbNWuGkmjCbcVLULCzeFKwMxsBnStLsLRlfnVJT7oQi8cjR45giExc3KEXXnhBXcLaVIIpmnzoEk7HOpmXuHnYK241jgN288orr+jCVKE8dKlyIMp06dLB77o5MwFweN+AjrfSokUL0MQ4dAEsmAI4KRAu/rvFwnQxNwkgY4nAEql06dIsjsDUjYeuu2DvL646mRIDdQN1KFzC6nDxvNfEvXlAE+ZNh4IZvZblOeZqWqxqGk7EU4bKGS8wI/6QmkUoaTE/vmKT3bt3x1WCHydNmmRXXpmlUgaqQiafpk2bQnOsuO3VcYBoCG0topgMoBVq4WB6XKpSFyFr165laNMczHj79m0y3SNm4QR6B4AWnWFki2LmV9gcDfVIZHlkrpboGmowcT7C4FmCS2xXuBdoCofB6Ui3bt2YfohmWO6FWZK0pi87wpaS6itzCR8tkykWZ9eVJThKUJl/0Z+bQu4vEdEmuEFMA05XtF68eHHmFqZ6PH8Q5C6aEigP7uhKJhCDKbOQWUCniXXgAgwcOJA4DI4MES5mAn2V6RffHNMnnuiNhemKOsG8nTNnTiJZeBasD1jcqaCSLuCYcOwvmbjqjuUlM3QQgK/xH5XtoRVrLKiN9bWjhnbzMAc/hGXedC4xIO08aJfMUIdTWHeq8cLfevXq2YuRg0Vh82waqcKElR2LkamUIcqnZeKFMEDs1aEMyN3siJKp4hVsvbBg9bhUpQpuGSEa1SJjkHFKpnvELJzgqLOSo1Sy/2XGzZw5s7598AP0AoeoknQNBifOoEFgF8GbO0J1hKB89erVCSgRDCH4qffG7GroHO9vEDEuPlpVCJB9Au8tQbfoB74uVKgQYRpWItgBqwmWEsw5qEJ8GbxY16Cobo8EPjgjhBgIuIMLszQWCdD0gbGEEKyTmAklmQOYfkGfO8HHFKLShFOQQAFvLMxeHZrGrWYRoOVzdzEIFckhn/WavZa9v7A8a96vvvqKJQV33X3kyy5QcoKGALuFxGdhJWyPO8WuA6s0/InUqVOfO3eOS+TjHKidN7t5KD0hO+piKtgtQUl2WahFwBT/GqfJY19wEXDDoRVq4X8gQe3M2yvifjIoWKdzCSNXe4P2YuSgTNmyZQlkMwAZQXSBrmGW9upEITBgottwDa1TUglU8YpRo0bhnHqzVKU6C0oIFCiIySr/2hViqgkLJzjqjPKOHVSZqgrKozm9w9MiYK2rqK7Nnj2bq2C7bNkygidupJmXEIK0KVOmIJZpWF1yJCWzlvc3SOnGWgq4uPts+GEA3luCbtQPfM1KjaD22LFjc+fOzcY6oQnlLzMMVFzbQrVsbhCFYHEHyfLoCB9KAg07lqRZIfLUIEaDiuTjuXfu3JkmvvjiCxaGlumX2B/7PESavLEw3WedIGZHpIVYHjrD0TREAI5dXeI/6Pbuu+8Sq9GFdcKxv3hMLM2IVTFL4de4WjFoIZKIEwS4oSzXcJ0I6xG6hZf79u0L6TByCDgSlGRpSEBA3Xe7ecAXTOcYJ3EAAn0sn9nVoBbSiNoxCL2JiTE39O/fnzmDKAdRbCzf1dOxMDUPNfEwAyXZDFfD2xVuxKyZjYiQYsws5xkXDBZ7dUiTsC9Ew9gkxqgGmpJJK3hXXi5ViSzjkoMhBo+ryMBhGnNEzFTYwgl2nXG6zfL2NFWgCJDHQ4JbWXbTI1WMRPv27ZmAGdTcETYk6ZFdgmMOdVm+MPUSF2IUM8ZpwpGUzOre3yDkoyoLqPKOHQAAQABJREFUAoUYXaAj3luCbvQJ7aLDqjqtL4d4glmUTUjMlJtH8B5DJLyldeYG8NyS/iqJqEIgHO05bm8Qbj6jiUe24Km41URatyOg7Nnz72XsNUMkh9mFzUYWgEzaqIR37+o5kxBRWNQQBEIWAVwf4rYMpZgtVUO2XxGmmIfVRyj3lu1BHqYhAmMJkoSyzqKbIBCCCBDw5ZcTxLL5a4lehqC20azSXzEQWT9Gsx1EXt/FniPvnkZzj5Q9h7F/Hc03T/ouCAgCUYiA8HUU3nTpsiAgCIQlAsLXYXnbROmQQoBnk9hH4WeuIaWVKBN5CAhfR949lR4JAoJAZCIgfB2Z91V65YgAT63x6zjePcAvKcw3oNrfZcovA3lhr/2tmPw+Tb+xk19781s1fvnNLwD0S1Yd25VMQcAvCAhf+wVGERIeCPAjYMc3oNrfZar6Y3krJo/8qzd28mIcfoRNGd6+YHnJangAIVqGJwLC1+F530Rr3xHgB9PqBZ72N6Da32WqxFveiskbndQbO3nkn5+e8+oCiN7V2yV9V1BqCAIeEBC+9gCQXI4YBHinD+/N0K/44GUg+g2ovLbCm9+J4F9TkooKE17iw1fLO1QjBi7pSAgiIHwdgjdFVAoIAnBrzN6AqrWB0yF9/TJS3kNJWtO3LiYJQSBACAhfBwhYERtyCECsMXsDqu4JbwbmaAveuskPuNl4ZKeRd/CrMxAgbnJ0SUkIAoFAQPg6EKiKzBBFIGZvQNWdwb/mIGlecs0bO3kxJu/z5P3pvCrTfMmqLiwJQcDvCMj7Q/wOqQgMCQTU+xZCQhVRQhCINQLKnsW/jjWQIkAQEAQEgaAgIHwdFJilEUFAEBAEYo2A8HWsIRQBgoAgIAgEBQHh66DALI0IAoKAIBBrBISvYw2hCBAEBAFBICgICF8HBWZpRBAQBASBWCMgfB1rCEWAICAICAJBQeCx89F5xC8ojUojgkAwEBB7DgbK0kYQEXiMr3mdTRCblqYEgQAiIL+XCSC4IjroCCjnQ+IhQQdeGhQEBAFBIEYICF/HCDapJAgIAoJA0BEQvg465NKgICAICAIxQkD4OkawSSVBQBAQBIKOgPB10CGXBgUBQUAQiBECwtcxgk0qCQKCgCAQdASEr4MOuTQoCAgCgkCMEPAbX//www9vvPHGzz//bKrBYXdnz57lGA4zU6cpTBUq6hxJCALhjgA/Yvjmm2/KlSvXpUuXX3/91d4dx5FiLxaDHEfJ7segY5UYNC1VgoOAO74+f/78a6+9ZvLpvXv3OnTosHTpUi+V++mnn3r06PH99997WV6KCQJBQIDTF5s3b+69Gfuk0sWLF2fOnDlp0qRRo0Y9/fTTqi7EDX1/9913PonyS2EZg36BMUSEuOPrjBkz5smTZ8eOHVrXkydP3rx5s2TJkjrHfQIJ8+bNe+GFF9wXk6uCQDAROHDgwLVr1zZs2HD//n2/t8vBu8888wyW73fJMRMoYzBmuIVmLXd8HT9+fM4nha+VWbPQ27p1a+XKldOlS8dR0BMmTHjx0Wfq1Kl//PEH3WPltXjxYlaCZKtMM+KBkE8++URXsQRJLl261KlTJ04yrVGjxu7dux3B0o0+//zzQ4YMUVqROX78eHJod+jQoRyHqmIyhw8fxod69tln+Xv69GlHgZIZhQhgeMuXL+/cuTOJ48ePKwSw7W+//ZZTdDGkDz/8sGXLlsoXdm+W+urLL7+Mt479U6tq1aobN24sVqwYp6cr4axQyVyyZEnTpk2HDRtGpn2kkKmlWYYAuo0bN27atGlK2t69eznkF+N3LG+XbI5BBgJdU6Ns586dSFYy1V8ZMiYaoZl2x9doXLBgwdu3b585c4b0rVu3YFKOhSY9ffp0ohybN29euXLltm3btmzZQiahas6Kxm2ZPXs25qtqkc8HQp88ebJifApgGatWrVKX+Mv6tHfv3swEx44d++ijj0aOHMkiTl/Vifnz56tGd+3a9eOPPxIl5NKaNWvQihGCWCYYtCWTSE6fPn0I3bAgaNKkyWeffabIXYuSRNQicOXKlevXr5cqVap06dLr1q1TnHXhwgXCFzgBR44cwUc5ePAg+Lg3S3W1YsWKGO2UKVPmzp2LZ4PY1atXY8l79uwhlqhAzp07N5l16tSZM2fO+++/T6Z9pLhpixdH4IsgkGgkdWmlRIkSTDaOQ8YuWenA3xs3bgwaNKhZs2YoPHz4cEYZvdZXZchoKEI54YGvU6ZMiQlu2rSJPpw4cSJx4sT58uWDuDGaNm3aJEmSJH369Ni3ckZwZmvVqpUgQYKcOXNmz54d+9A9v3PnDmOgYcOGLBVTpEjRtWvXvHnz6qs4IAkTJqxZsyZ0X7hw4bRp02J2+qpO1KtXD4OjUT5ly5ZlPmDtiW4MDNSgXcxaFca4ixQpwlcEli9fHrK+fPmyliOJaEYAPxpDTZMmTfHixffv33/16lXQwGAwbJziePHi4aNgwGS6N0t1tXbt2thYjhw5cAtwHdRC0yO89pHivi3CkrTCoMAdOXToEJq7Km+XrJVhvDBwKlSogCg626tXL77qqzJkNBShnHjs/Xx2RZnbcRZwPSDftWvX4pJAuLAkdoOl6vL169e3xDf0JZWA4vmoV0yRkzVrVv6qwAUJrBwHhHGiCvO3UqVKOq0TNMHCcMGCBYgis2PHjqz+fv/991SpUukyKkHmjEcf9fWpp57Cf7GUka9RiABmgKXhasBZuBR4BoQFsGQMBjeC9ZmJiXuz5GqiRIngd1WFICH27H4UmMItafdt4SfhU+/bt49a6InmeD/2IZM6dWqLWPMrS1IGoBqDdF8NN7ajVBkZMiZWIZv2wNfoja8BRxP0IPj197//nRxuORRJQINpX3eMCV+n7Ynkjz46XsZ2OVSri2E9jBlWozSkMy0JDJo4NRa5fft2xgnBQfwFiJgq9lgH+e3atevZs6eyToso+Rq1CLBGZGmowncKBJwPos94mtgkNoYpanDcmyVX2TvRZoyfjilieLq6Twn3bSEKn5qoC/TKypLHThzLux+DbDwyANUY5C9LXv34CvJlyPh0v+KqsId4CGphha+88goBr2zZsmXOnJmcpEmTFipUiCA13gomvmzZMtjcfQdUFbZcMPG7d+8SXDbj10wJZJKDNGQS6SbIaBHIwCB+lyxZMpwgottqyJEm3IEm5ODasB2qaqEe2zKMTGrhVkycOBHrtAiUr9GGANbFGpHNulOnTuF88GHbg1g2odsCBQqwp8K+CAZDwEFtvbg3S6LScD37NIjlGT7i1wQGLR66BWG1uWLJVF/dt0UZfGpcYPZsCBjy1WN5eyuqCusJ+si8xe4OHdfFZMhoKEI54Zmv0Z5YMC4tgRFmdb7yt3379hkyZGA/nWf1WKaxq+6+k1Rp27btw4cP2a7EnWF41K1bV1fBa+7fvz/hP+QQxcZ5Z6Gqr6oEIwEJ7Ozj1PNMNzOHcoiYS/A4qlevjjIMG1U4V65c7FuOHTuWQcVPcojWmaE6i2T5GiUI8EAFAWtYVa+6iMth1ew6ZsmS5b333vv444+xTAJuylrcmyVxiYEDBxINx2h56IL4NaFhV0jiyVapUoXNRra+Hcu4b4sqSgIRdvWkoMfy9laowqMvPGfCcECTbt26MUx0MRkyGopQTjyh1keoiBHrdJxrzMqudevWDDCtCdFqtbeuc1QCnfmoMCLbnvjaPDXImsBSTL5GGwK+2jNusnJHCEOzHw61meG+aENP+htqCCh7jmG4LdCdwS/mYUFvWsE54nm+f/zjH6zy+G1O/vz5zaicNxKkjCBA0IxpHpom6Mc6j7FhX+EJSoJAnCPgVTwkzrV0owDxa1amPLrHapQ9+hYtWjDY3JSXS4KAHQGCew0aNHjzzTeJFRAjZn8Fo7IXkxxBIG4R+CsG4uv6MW71ltYFAfcIiD27x0euhhcCyp7D3r8OL9BFW0FAEBAEYoyA8HWMoZOKgoAgIAgEFQHh66DCLY0JAoKAIBBjBISvYwydVBQEBAFBIKgICF8HFW5pTBAQBASBGCPw2PPX8iRcjHGUiiGIgNhzCN4UUSk2CDzG1/xQMDaypK4gEDoIyPN8oXMvRJPYI6CcD4mHxB5JkSAICAKCQDAQEL4OBsrShiAgCAgCsUdA+Dr2GIoEQUAQEASCgYDwdTBQljYEAUFAEIg9AsLXscdQJAgCgoAgEAwEhK+DgbK0IQgIAoJA7BEQvo49hiJBEBAEBIFgIOA3vuZEGE7e0keeK905Q+Ds2bOuDo2mMFXcHxLqCgOOkunSpQtHgrkqIPmCQJwgwEnQw4YNi5OmpdGIR8AdX3Mc52uvvWbyKSfeckwnZ4x6iQvH4HLW4vfff+9leSkmCAQUAcj02f99OHexU6dOnL3rU4twMUJ8qhLlhYOJmKPXGEn4u+NrTvbkCDtOGdcdPnny5M2bN0uWLKlz3CeQwBldnMnrvphcFQSChkCdOnWOHDnC4egciM7Rz5yxe+3ataC1Lg0JArFBwB1fcyQ5h0nD1/fv36cNfq2+detWzpPm2K3ffvttwoQJLz76TJ06lbNKKUD0Y/HixRzNRbbKNCMeCOGIPF3FEiThaF2cneeee65GjRqcx+jYJRrleGncIspwyJ4qg1acUU0OblPz5s0Zh+QTLWnTps3w4cNpDn3Qav78+aZilGG4Up5aZotkNm7cGDXeeecdzoRUnpQ3ujkqLJmhjACn63Jm+VNPPXXr1i1tz1jXkCFDlMHr+47lcEgYnkr9+vUxe5aMllgcds5h0JgNFrVr1y7Va0eZOJt8lKlTGFMfMGCAMmll9o72rDJfeuklSnIQMMexY+G0om1YWz4jceHChSisbPjGjRvmLaDpjz76SJl9q1atLly4wFWVidmTcJRJ75SSelxTTPdOZ+LbInP69Ol6oF2/ft0VYlpPesSxmSzEkUmn6BrwNmzYkEbJ4UPME7RnzpyJ2manTAW4ZXfv3mW0Vq1adePGjZwir/BREiLprzu+pp8FCxa8ffv2mTNnSGPWmFSZMmVIc1eIcnAk7sqVK7dt27ZlyxYyCVUzBjZs2MAh5cRMVC3y+XB7Jk+erBifAtjZqlWr1CX+/vLLL71792YmOHbsGPY0cuRIdf90AZVAJg4+jS5atEgfqnvixAnK88Fcatas+fnnn6ugNuph33v27Bk0aBDCHzx4AK1D3KtXrz5+/DjyMUFiO9TCPkaMGMFoRA1M9vXXX6cAR/nhhXmvm0VV+Rr6CGCT27dvv3PnTtKkSZnOlT3Dtpy9Czs/fPhw3LhxnA6KMUyZMgXrvXr1KlTYsWPHoUOHjho1SlsgcqZNm4aQ/fv3U+X3339XfbfLVPmMi/79+zMEChcuDFXVq1ePNJREE8QbHe0ZYqVFWAmbxIU6ePAgoghXcs4kNsygaNKkCa4M08yhQ4cWLFhA08jMnj07swvqmfeCXowePZpOFSpUaOzYscptOnr0KMPhrbfecpQ5Z86chAkTHjhwYPny5RxvzWBnIHvDAAwoR8TQh+GPniy+EVu0aFE8OTVs6Ro8ABTJkyc31YZ5UHvv3r00vX79eq0AZIITScmJEycyNzC6qc6oL1WqlFk9YtIe+DplypT0fNOmTXQYS0qcODEHkkLcON04sEmSJEmfPj0GpGYzfNVatWolSJAgZ86c2Io5tzMquBNMm8888wwnmWKmefPm1SBCmhgEbAvdY8QcTQ3166sqAeHSSqNGjdKkSZMoUSIGksrPlSvXjBkzkBYvXrwSJUpgIky8XGKO5ax0MplySNMLhCOZk1WZihEyadIkhKgCtA5fowYvValUqRKZ6E9F5Hijm9JE/oYFAkuWLClQoAC2imcHX+AfYMOQJvM69synbNmyUCo2gLWzXCNagluHjWFpjh1Utg1ZKNtWDg0l7TJVdZx6zI9hgvlhmYjFMvkLdfIhYbdnCIhxR2FlrowvRJFZpEgRnFmqIwqyvnz5MkODBAyOJb/96EMVU23derNmzeiacow4a5g+0l9HmcmSJYPHmcYAClokHBoDBjB1YCzDuW3bts2SJQs41K5dmyGpVsacms0AhCIsaqMtoHF3KMDd0QpQEthxvaGXaIhrPfZ+PhNTleauM18xt0O+a9euLV26NOgAN043KOvyGCumpr/aE+DLR71iiqtZs2blr17y4AIwMSp+VHW5ZxYhBFvwXGjdks99RTH8GuXOY8H2ApZ7TwFy8IYImOCG8DVz5sz8RQ3mJ6JApgRvdDPLSzrEESB+jaOqvWOlLdaLCeHxYaXk4ERDgngVc+fObd26NZndunWrW7euY9fw9TAnpnzLVbtMSwGasOTw1dGesXyIyWKZZMLsfJQQAjs4K3A6nvKXX36J8vgoBE9gW3sr5CiFGcuktSaOMnGS8HZBgCHWrl07gh502VcGMHWwjGU0YaqAsilD9zVLmFUsaQvmLG6oqCRYSkbYVw98TW+ZzGFJgh5MgH//+9/JAdBUqVKxomE3UsOBH6rT9gT3mw8oq0usfbhnuhjmAvsziux0rMtwP7BIFVjUmSRYnbFMmzVrFnub6DB48GDzqqs0a4UxY8YQBsmdOzdWji1SErvBXk3FyPRGN1etSH5YIMCUPH78+NSpUxMewT8lDAoxKU4hnMojp4Qj3nvvvWzZshUvXtzeI4YDhRXx6auOMvVVNwlHe8avZMggUxMrEhgOsGfPnj1NgqMYAxbbpjCTDXFC1g32uYTqSmHLJbtMxiwLiOrVqzNCGSl9+/ZdsWIFkUZfGcDssmUsowkzIppYMDSrWNIWzNGQuj5JsAgMl6+PrZUclYZDX3nlFVxR7FX5ocxmBL8IUnP/MItly5bB5o51daaqwlKUYAXTIHE3M36NhZFJDtKQSfTqypUruq5KcDPwF7766is2MRCCWat8GBwNcZfIJJLFtG+p6PiVwizEGJyMNMIs7CxRLEeOHAQQWamRee7cOUKBZHqjm2MTkhkuCHC7ue/4oTiwxAeUaWEhvXr1whXgKixm9gV20J4H+cq2CdRiilgvpE+mo0xTiKu0oz0TwGEhSGwdsZilWkoyBonnEpkkk2AFkQoU27lzJ1vl9AJG42Nvhd4xgvD9//Wvf2XKlIkQh1nGLhMmhf2J4FNF4+ArA1gQYywTlmGYX7x4kSHPHhj+NQEZUxP3aZw/1vpoBeDcKaZYgp90h1oQNznuq4fvVc98Td8IMkBtBEbU9M7f9u3bEwhmmuVZvX379hEKdA8BVQhXsYdDdI+HqLA/c3WJa8MODI98IIcoNlM3gWa7QGZ4YiYEsJAA2+J0UIbICZ61EsuoQ09vZmnkIISlMR4TwT7CINRiyckQxSshVsieEjaBfC91s2srOeGCADSNcULNrBfZfMYpwUuFU7p3787GI8bAvgu2x4MQ9AibhyZwt7WZYdvETFiZMUxatGhBZJxijjLhJo+YONoz8UNa5NFDBg5BG2X5RLoJvrNnyBqRRQB6kk8gGw2JT/KVDfbOnTvTEbNRjBxC5yr7q2yqM47Mq3aZjAKiQxArG0sMPQqwX+UTA9gRo0WEEDTnoRQIBIcJB87N2trUUKWZigjLQPEIZ+wzl9AptOLegT/+pXrYxl4x3HOe0J4CEOh0nPeKyAZjQLm9ShmMhkemAq0YI4q7TiuM2A8++IDIHbtPgW5U5AcCgZCy59h3UFsmuz7EpglMm9FIL+Xz+BPrRX4E52V5KRY6CCh7fmyhFzrK4TLw3F6Q9SEmg5vPo1E4Sqw9CYmwfx1kHaQ5QcCOAOEOnniDpolJsgxl6DouQO0VJSfCEAhRvo4TlFlOsp5l25MQJMs0tlYYHnGiiTQqCJgIEHskekD4gl/Ps/wnDEJYwywg6ShB4K8YSIStH6Pk/kk3XSEg9uwKGckPRwSUPXu13xiO3ROdBQFBQBCIMASEryPshkp3BAFBIGIREL6O2FsrHRMEBIEIQ0D4OsJuqHRHEBAEIhaBx54PIaQdsR2VjkUfAmLP0XfPI7zHj/F16PxeJsJRl+4FHgF5PiTwGEsLwUNAOR8SDwke4tKSICAICAKxQUD4OjboSV1BQBAQBIKHgPB18LCWlgQBQUAQiA0CwtexQU/qCgKCgCAQPASEr4OHtbQkCAgCgkBsEBC+jg16UlcQEAQEgeAhIHwdPKylJUFAEBAEYoNACPE1L2LnmAz350DGpquOdTk5SR/761hAMiMeAUwOwxMzCK8bHSd0EecQecXXHJLGifFLly6Nc3X9qwBnOE2YMGHRokX+FSvSQhMBeJkTrTgvyvxwdJaXZ36GQqc49qhLly4coOVHZZCGTCT7UWboiAoEYnHYu8d+3+hKjwMHDly7dm3Dhg2ceejTMWuuBIZIPueH8ur3EFFG1Ag0AvrQIoh78ODBI0aM4NxOGg3yki7Q3RT5EYyAZ/+asyw5ipSDO0kcP35cYcGczGkXHJzMIaTlypXjWFJ+y+6YaS42zbmO857x2fF0atSo4fFwTCS3bNmSM+s4kJfmOMKc5pCMBAYeZ26S5lBknGX04TN16lTOu1MFyKSKyqQizSGEQ2Q4iJq+cKIdhyubipFJDvkqc/z48bTCyZ4c6Mm81alTJ9LknD59OoLNItq6xhHjixcv1naiDsbl+FB1ux1N1G7A3tibaaUYIUfQaSNUmGtvFwtkfGF12t6QX7Vq1SVLljRt2pSr5j3CGhkglERVjkhXg1F7zTp0QL84x51uKnu+ceMGcpCGTCQjXxdgjHD8GNFCWkGlNm3aDB8+nEFEXYCaP3++R6zUmOX8Yk4r1rEmNaZmzpypxxQ60IQJixq8ZNrxp18MYdX0559/zrHrFCOTk4XpOGRiGZh2xPRd46xtBRQS1EfpxiyOKPDhtFilttZN8wZiOTXwwoULVOSMb46WpbP/E/NXX3R5LiFqwIAB5Gh20uV9Snjm6ytXrly/fr1UqVIcIL9u3TrQUQ3s2LGDXkG1gwYNmjVrluqbY6ZdIewA7Tt06EDPuaNgdPPmTXsxMweLZOl65MgRrHzkyJEKLO4oJyJzYnSOHDmmT5/Okc+c+rhy5cpt27Zt2bKF6levXuUSmbNnz542bRqnMhL94OrZs2dNiM2GLGnsadKkSXv37qXjAwcO5BDeY8eOsc7A5tSotpSXr+GIAPbAOcusILET4n5nzpwhBti7d+/KlStzu1mEYXKKvFTvXBmwe3vDhJSV0tDWrVsRNXHiRDdWBA1BmlAMZ5Nj5JxNvnr1aohmzpw55tnTmChjsFmzZqgKq+rRYb8Rhw4dQg5si8zs2bPjynTr1g1pyEQy649Vq1ZRYN68ebgmRYsW5dBIWAw5jCy8oj179tAQsHA2PLpB3NTCh3OF1cGDBwFw8uTJHLJuKgNpjB49Wo0p5XvZB6+jTI5DYw6DqZHAQfIqkMXZ7ThVcAhkUrdu3c8++0y5YrRIj0zEzp8/z0Hs7dq1O3nyZL9+/T799FMEmoqRpi4IoBvB0n/961/cMuBSxAJ7cJAmvinHBIIeGFIeIoLQzbOP7eUpBsgcVA+q+L6wqGInS9PefPXM19wYJq40adIUL158//79WKSSC14VK1bEyjGmp59+WhGuY6ZdD6RBguXLl48XL17BggXpiUe+LlasWP78+SnP7IomEDdi4eJatWqlSpUKP4WpAi+AMxjTp09frVo1RcdZs2ZlpqEWJZnZsJ5EiRKxCsb0mYTsitlz8DsIASGWg9JLlCiBQLpcoEAB5icWHPbykhOOCGDhGFKCBAk4PpyhCAMy+DHLmjVrKgvnfFs4XXfNlQG7t7dbt24pK+X0RYwKZxBGI9KoxVoSjRo1wm7RimGFawIvWAqor8wu2CeheVTNly9fr169+OpYEuOHj2ArXh709qMPQ0OXhIVhz7Zt23LMNI3Wrl2bYaXWkXr0MVpJM6ZoC0w4WJIyrrBCJTSns2YrNMfUAoBKZ5TXsJCjB6+jTOYbzsLmo24KvhrSUBVWpTz4cMolC266qTtlJphvqKuAUmxgP9Rbj3fIhOZw4evVq8cshW58IAEUpkW4C/ecuZYysIEKrKm27OXJT5YsGbMFdE8HmaRLlixpKuZ92kP8mlmOCQrVAQg75g6hJTfS+wYcS3L/oH58ATVHKdwdS9oz0YTpQS0kkcOHMtwwJltTMZxxk08xUFXSLtDLHNr1sqQUiwAEGIpYPvSk+wL16DS25N6AHe0NK6Ui04CSkzRpUr4qS9aSY5CABWiOD3WxUlNni7S8efOyrv3yyy9x2+FcAozwiC5DUAinUm9QoWfixIkt6qEwH11FJRyxypQpEyWVVpbylq+OgxfyteOPeox9y0iEAfGU6RSsikPNCpjDsi1NqK9mdRRLly4d5OtYkky6D4HQNT7jxo3D6WZeIZ/oB3/ViodJFJcZ2jG7SS17eaZeFhmsZmgRB79Vq1YIicHHA1+fOHECj8D03pmEiQbEoCWzCmJZ17CEAV+mBLphXnWfBj7WaMx1ZjHwwstmNWcuTJhyzTKSFgS8RwBSYBwSfNP8ZdaNmQFjpXAiI0iJwncjrenblO9TOmPGjFAeH2rxF7GQmqMESJAFBEOPQTR37lwiJ3CcLgm9sgOvgwnoBkOhnlZYl7QkHLHyMt6IKMfBS8TDjj/BTMY+ypuU/fDhQ1x4YpVMRZs2beKWQZeO58fTO10doAgVWGjE7Be9xo8mh2BL6tSpt2/fjtvOzpaieDBnQlqzZg1LMZNz0M1enrZAvnr16vQIuuvbt++KFStww83mvExbp0qzGm2vXbuWHQ+iPCyL+GzcuJEwAo69Wcx9GhoFI1YNWCreNEsSyqM9WNB/MrmvTFPuhXAVCYTnKE/gD9eGNYhZBVelUKFCBB+BA7WXLVtGkNos4D6NJvj4RH6oS2iSVaH78nI14hGA13At8QAwCYyKICwbObrXMTBg6uJhsQk0ZcoUBCKBwU+Ij2FPW7hEECVUi1OpW3GVsDyAqFRl4cvoYCJhW4gRCsWcO3eO6Cr6wzVqv4cyDGcsHIrko+XTU1gPaq5SpQo9JSJMLfaB8K/Zo9LFXCXcY+Wqls53HLyOMlk6MPb5oB6OreIN2IkAAOxk6ZSWT0IhRiSHusRAqH706FHIjf6axUgz9rkRAMJtIngCAuwosgqJHz8+uGnPla+vvvrqqFGjiKSZwRBugb08mcyRCMT1Zs6wtOjTV3d8DRx0j1iwvrWE5wgBm7uOHhuDrzEgFikw7L///W+6RxVwx0lnl4NINNE0OuxxDiemxpIEIWz+sJpDE7Np5tv27dsTTWNXhNXQvn372Io1C7hP00GCicTEmSrfffddFkruy8vViEcAvuvfvz8OFIZEFBszJhioex0DA6YuZsZCGAbESsuUKcPohT0xXWKmeMSwA6tmR3det0sxKIbNRnbVdCaqEtlgO53gNZdYrbI9A98RJm7cuDFDDGpTJk3UlaYJFVIS74SHvuBo1rgoxmDEc2SwEwKmFoMIR4rdOff6KB3cY6X1dJVwHLyOMukXY7979+6oh/7MdsgkyEOEgb5w9YsvvuCq6VybiLFPiA/OzhnDHEbiQ12LVviRIMBeK7MIOPCVgD6bhFThyQi8OuWhUwvDYHeBPTxNj2TC4/by5BNFYRYkikL0HD3B2dKul1+fUMsoStOqTntZORDF2MdjtmSe0MKxJCyM55BY6bha6OnCkhAEFAIhYs9yO8IFAYgYBufpRiL73ujMeou9TZ4zYS73pnwsyyh7jpVzHksNHKvja0PNlkvex8IsFeWrICAICAJ+R4CICmEG3HMzGOL3VuwC3cVD7KUlRxAQBASBKEeA7Qd+L8OuAH/NYEgQYPkrBiLrxyDALU0EDQGx56BBLQ0FAQFlz+JfBwFqaUIQEAQEAT8gIHztBxBFhCAgCAgCQUBA+DoIIEsTEY4AT+bxa3Ues43wfkr34hoB4eu4vgPSfvgjwPuAeDiX31OEf1ekByGNgOw3hvTtEeVijIDsN8YYOqkYggjIfmMI3hRRKbAI8Lpnfh/Lb1n5nS0/NVS/0laZ/JhNvVSatyaoAvzlV84oRD4f/epzXm3Bz+T4eRsvSiZNAd5Uo04U0wky+f2FOguGTES5fw97YLst0iMFAYmHRMqdlH54hwBv+eHly7y1mRfOjB07ltAz9XibBBT81ltvqVck8wYFXpPA07X6Zcr8Vpufp0Pl/KSYn0Tzsh7S0DFv2+B9ER5bdv9ebI/VpYAgoBAQvhZLiC4EeP8GL1/mvRC8XoN3T6ugM6+M4LUevNxHvSKZd6zzUgvetsGrfy5fvgxAuhaZvDaIV0BQgL/QvWJ89yC6fy+2+7pyVRDQCITc79G1ZpIQBAKKgHqRqXrRGOSr2uIVyTMefdRX3qbGj9lMNXRJM9P7NFFI+/ujva8uJaMcAeHrKDeA6O2+YmrF2hoFCJqXvfXs2RNi1Znyfl0NhSTiFgGJh8Qt/tJ6sBHgFca8w50gBqfz8e5pTicxNSCozdl9nNHBw9Sc28LRTbyT2izgPu34tnf3VeSqIOA9AsLX3mMlJSMBAV6OzFuneQE0D02/+eabBLLNXhGS5gES9iF5KzSPfFDMzREkZkWVdnzbu72Y5AgCMUNAnr+OGW5SK9QRcHz+msfyeJH/a6+9Furai36CwOMIyPPXj+Mh3wQBQUAQCG0EJB4S2vdHtBMEBAFB4H8ISDzkf0jI/8hCwDEeElldlN5EEQISD4mimy1dFQQEgQhAQOIhEXATpQuCgCAQFQgIX0fFbZZOCgKCQAQgIHwdATdRuiAICAJRgcBjv0cnpB0VnZZORgcCYs/RcZ+jqJeP8fV///vfKOq6dDWiEZDnQyL69kZd55TzIfGQqLvx0mFBQBAIUwSEr8P0xonagoAgEHUICF9H3S2XDgsCgkCYIiB8HaY3TtQWBASBqENA+Drqbrl0WBAQBMIUAeHrML1xorYgIAhEHQLC11F3y6XDgoAgEKYI+JOvf/jhB47k+Pnnnzls6ezZs5yoFAhQeOX8119/HXvJWtvYi3IvAUCAhebcF5Or0YYAhqFOZ49Bx7/77rsuXbr8+uuvMahrr+K9tBs3bnA6D2fJU8Uux5scdEbzGFfXTQRt/PrU0O7du2vUqFG/fn1urlbVjwkPfA0zPvu/z/PPP9+pU6dTp055bJ6Tlnr06OGTLR4+fLhly5bYQalSpSZMmHD//n2PrXhf4LfffkMmkulK48aNwVR+GeQ9epFXkiPPmzdvvnTp0rjt2qJFizBLTmT3lxp//PHHwoULX375Zewc1li5cqXffaZ58+ZlzpyZ0cpo8kltf7lZPjUa5MK3b9/+4osvoL4FCxakTJkyEK174GuarFOnzpEjR06fPs1NwhQ+/vjja9euuVflhRde4L5mzJjRfTF99fz584MGDercufPx48c3bNjA1DRy5EiMTxeITQI5jIorV66sWrWKqfK9996jrRMnTsRGptQNawQOHDiADWNp/nULfMWEVRdnRXIiu68VHcvjgjABrF69etasWThV48aNmzZt2ubNmx0Lxzjz7t27HKhmOfQyxtIirCJUw13IkiVL4F6E4JmvNaZPPvlklSpVMK9bt26pmbxcuXI43V27drW40uYKAqJXjjMT/s6dO0+ePNmkSZMLFy4g9t69ex07dmRlxEHUyZIly58/f7x48Z555hkKcCg1H4h7wIABNPHiiy9OnTrVwuDKa+aSvgpY3377LQ3hX+BA0TStnDlzZteuXR06dOCgVeQXK1asbNmy69ev5xLex+LFi+mFlkAm0xJ1lYeCJ04O3WnVqtX06dPNko6ZFLZrRaZ8QgcBgnXLly/HOSCBf6AUwwg5e3fMmDFYAnf5m2++USswbQx4LVgvmY73neoYOe4V0vAMXn/9dVwcVv3jx4/Hllg1EkNgkmB5SlpbJotXvE4VH8De9EfFCnTTujym9dlnnzEcsPA1a9ZYIGWwLFmyhCbwk+ALpDVs2BAf5eHDh6ZNDhkyBM6lritp9nZVQ0pPXB/8R7XedxRLj5iEWMWSUBVRjPKqIphQi3yW4BoZYixKH8r832B2GuzMrJ988om+yr2jSiDG76VLl9RtAmQ1/FUvLH91MVxYFmpogmFgJBs3bqxataruu6VW7L/6wNfQ5fbt26HRpEmTYgf4/DjRWGHRokWB0jGUxp3AmW3WrNmxY8eGDx+O1wxjZs+eHZtAdVibm5cnTx7OoqY6Qs6dO0fPmcBJ0wrmnjhxYppggOE4mPAxciBQ7joeBOu+bdu2bdmy5eLFi1QZMWIE2NWtWxfj5jajQ9q0aSFrBRamjIvNLeErQXYmIfys2bNnAzrMzsTDDAG5IwG7RNTNmzcdSzpmOmql2pW/IYIAfHr9+nWW86VLl163bp3iZXTbsWMHZIqNYbG4qLAMy74+ffq0a9cOJ6Nfv36ffvqpCgbazSZv3rwYtvIPWLphb5kyZUImtjdp0qS9e/fSysCBAz/44AMGAiN85syZ2vl4+umnR40aRV2EM84bNGhQsGBB1TR2qPwbZcmYKF8xePxoalnwxFDxpbJmzarzOVZ48ODBZKqRgp1v3bqVqxMnTqR1R2mO7SqBSk8crKFDhxJ1YUA5iqXw0aNHGURvvfWWqkhkgPKqIj1NlCgR+eA8evRohQzOk/uBg7aTJ0+mDPrTC9gD/kGI/UbEcvwSKOvdu3flypW5Tcw68JXFE1U9UsUqVqxIsSlTpsydOxfjgcSYL6kLU73//vuqpN//euZrlChQoADTNRM7BE03uFVA3LZtWzx/Vka1a9dmxlbGatEPBkySJEmFChWgxXz58vXq1YubV758eVwV7sGhQ4eQTE7q1KnHjh2LqcHsZcqUYZqFZxkAbz/60ESGDBkKFy6MMWn5+Phg1KZNG+SnT5++WrVqeCWU5KZCtUwD2D3GinGYtXR1laBTtWrVohYzBLMIoytNmjQMMDSkdYZNwoQJFV/bSyLBnumolaVR+Rq3CLAC48Zxo4sXL75///6rV68qfSpVqsQIxFCxNLiJ+75nz54iRYoo68WzYyiq8IL9vidPnhxp+/btw/ywbRZwipVwtVgvYqLklChRAgtHPjbPZKA8RBMKKsKA8BpVVNN4+pTHGhkOcBMW3qhRIzRHOJlmXdJYLzxiyeSrtkmGLZLxag8ePIh76CjN3u7ly5ftMl2JVZFShh4zH56WY0WVyUinI4ocYAmtpDmcdXV8RHRmuYD+9IIFPRMkV+03IpbjF+pgyNesWVOZAfMusGs1dEIVg/coliNHDuIBLHf0BKyLBSLhma91/BpndsaMGcSmcYHZJAE7pRA95N6oRZZFRQId+LN8yKdvMGCqVKkYD9whLAbHmRGirhIPad++PT4yi0QYFqplHcd96t69O/NErly5oFFTOAOD5SeQcc/44Asz8LiXOEEY4ksvvdSiRQvkQLvZsmUzK7pPU54x/Le//Q2ZDDBvNldNgY5aPXjw4P9v786jdp3q/4F/05KpEgkZolglZVhCpuSrI0TGzBErVEhCJXFChMxThiOZ5zEnxDFlTMgYslTfTEWKWlrLslbr98r+tW3Xdd3D85z7eZ77vs/n/uOc/exrD5/93nu/92d/rmt/dpkmwhOIAEaj/iA7o9EKbUJiyVbyGOSIW0oJjNJ555231ZsbT+kZyM6AN+qQe6XMVEglsvzT6KWmUGgMdfGqNtdsPY1DFjzzAsWXk67Mm8KUHuO/Hm9MGtUmaXpk2+pPM6uxtHq9jWuAohqLTSTQsbGNQtanc5442NwvEYW8lj3rQb0QMdM5f3Gu4YGmwG5Zpao2LleSWTLVlWQwMBoX4EYJpzNyNO86CGqTZc1PdYMVmnlAlAIxpelXP5H+NUpMAJF2i1YkGoER6RHbNHa2+9Ml6HWHHXawJzU32NrWWmstm0EjoGISkhL12xalElKlCjFkbTxtx2699VbZvXWh+5hFhp2qkxgsMxYYuk/KVf5rM8uIyQxidyPLXnvtVT7tGG6USl92zBgJxgcB/Wtbhv5ydUYvA0X+swwY5Mx0JqfhZ/SiVNpfmaAMGzDIzmw3zHxBUT7qGKZrH3/88Vg+f3ShanaYffbZJ5MUOZlB8qSrl4mIpWFjzF8mUH2o/HvuuScFy6OUxRwURjflFM6l1evNjyoBgtWLbSSBSsbGPxsnTk5pCvslGhGpU1Sdn5aB6Zy/OpoKiDeyMqpw2nRZhbBkdvBZBgNDetBVko3Fn53163qtesWLRxYl9mKjmfkY/TWueOwMllwqjLaBEiPTPmaeeWYszJJlEUtjy0hlTWPSkgwQjNEmhvbrGHo3ARhbvDMsJTE6l156aXZnrEqGqVOnykUdZiGRWPf7pfQIne5jp2mkKp8SRJ5GspZe7cwjRrOU9HSbgLLSjuFGqTrmigTjg4BxMm3aNK/+jBODxM/bIbZsY7JRAIqtzRYbiIxssvIa9o0pRRqo2NZKb1uWNINWKSvxaIgeh0MZGBFBempss+1aWoxD2gaLM05X/sUXX0xgo7RcclIWWt7GG2/MnMrkqkytu/LKK5n76N0s9eLNFBmRuBf7dvGNpdXrNWsqAqc/EWi92GS1b0wvUlGZcytp2k+c9BRK5McnXiok+3WlEH9O5/xNfKVwPQ4uFOdtR70Wa7P+QlmS4UD2a/ZYtFZP2fOY0fA1IcjHSuUtMPMIXoNguSJlKY2V733ve74rYrxmg6eupu0eE4cRk40hrIQMIBRbyXArZvdmhlXaK3tqtcS2ignKXLKRzX7Crs30QQZ6hGSsWrQSr/7V4kNIthTqtpRsghaGSZMmKV8tTPAQz0WVAVsh2hYTEHOkdztyZcWkTNYq3ChVq8QRP84IWH3xr6Gb13I7a1bp8q1jKZKtno0aQ5wl34D0S2bTMk0ZXnHFFRVYN4aUaephvHD++ed7e28Y02D8UKoBbJR6qWOg+uzPuKXBUP2MT/Z0Q5RWUVH2NQpfs8IzDcvuSwzqkdkk3tdN1CkzxZ9434ploDaW1lhvXWYxrYptTCxS7dYMr/oJUE/TfuJ4ajGzeya/trNU+JqgXoiY6Zy/+Oqggw6y9UcmrNh28Cxm9YrSJt6LEMl8F8R+rVPqycYi5m15xdMBOTwWNZVlWrUQtHfuECnjIxwI9AqB8RzPSWbf8PmwZPLkySPSr3vV3ihnuBFI43mU+vX0QGMTQaOhqmRD2/SUFnkDgX5AwE6cUc53IEHW/dAdwyrDePO13Z/tg++4/WvFGFZYo10zFAK+d7J9tmFv9epyhkIjGjt2CLxpAxn//ePYtSpKDgRiPMcYGCYEJsweMkwgRlsCgUAgEBg3BMbbHjJuDYuKAoE+RMD3Tj7/qAjmkwnn6Hy6V4kf0z991uUbEp/MjmktE1U4MEHa+C3KRInUk3qDr3sCYxQybAggMnSG1MahYaPwP1xK1T3zjmejSglTuHs563lHGuMjdGeeATvSjH2efjzO5PQ5BCFeIDCxCPjymmeeiZVhyGp3iHooIQ39esgGajSnHQK+JeUrjh8lJx2yH+BS7+M8wPkU7sycgHWgbquttmLBcCKZmyQnBhz6EPbpngNczsX4ZTe/2Q1p6YfTIcPSmXA63+DwQbqiJTtKVaZKVU2SultXuRzNUDWZnT5ToGS5kcQjJFEJXJEtu05NiT0tGyXSWTBH+LSidCHrVFEbh6IOITtN5lAP4R0oU0hp4clIZpyd09FYnie6kVMav1S78tXlvJJWl5BmnDN6sjhbVHpwJVXqR00Wbuwv8QP5MxrSj/T/Dcb/gcDAI9A4njm2dvyPkw1UdfbZZ7N48Mjh2DdOEdBmbvm4r8FE/hTpkUh/OjfIpQHe8dGeo7O43ulqzMv/gUPtAjzncVmDpzj89K2qlA6OY2HeGvgVwTIiuQvmjJSfOd//EUAY17C0Kl+lqlads74pSy5HLgcXfQKrcFVIkKTKPZTlV1SSDVtxLm+BcT5e7Tll2ajGumR0GJJmKpcaYaVpOTv60woeHTwlXlpjtMIp+ZQmS+K8sbycJWkmGbj0kSU/bSWnohxF5jgogcMtFxeeMgLEWU0n0UHBFxsQRFqiuGzVzASpQ9ESZFFzP+a6yv7KyQYokMZz6NcDucqG0KNAAAt06Qe4Xjj3CXxxOI6LFPAOmnYcPDvybXTjiZSlKZ0JpxPkmF1pDpRbAyiztL+yuka3rs6jc2bCz5rz1hwzlOnLMLdrSTYHpvmHoIFyQ9rKp6CM9bowMu9ArRyKKo2DEfq4A+JOBnH80MrJEQ881gbrkK/Qklfk7M1OvW3k5KEFmMBB1prsfLy6/OvNoV8rd69tPLjmusr+KkEbrHDYrwerv0La0SNA1aKXZUc3iKmVH+B6HegmMQ6NLHn+zGlcnkLp5pmE30d6tPjkn6/uTDhnGVGAzPi3G3dCZCNkdpLHTZI/LTDdV0eFTw5FcxacnsMcY2FPFCwGpSLu/KgScHqZKePUU0+1EeFYihknOW5LybqRU0WVMv0JCm5m/dIjq4Xzd8KNiVOaxv6ycmeUUrJB+Tf4elB6KuScXgSQlxlO70sFmbTJD7BA90Vjq7ojX/eK1d3wNjoT7r6inJJi6LsOTNqGlVJislmTcnNYAEZKTKqoOxTNknCApaUYMFVkJbDg5adlwKbBPgAmxOa+zkUtPCTnBKOWU/dV3Mwq054pl1wPNPZXPdmgxIQ9ZFB6KuScXgSoVI1+gHllYxhl1EYujLYCuaZ0JWP+U6DR8yd6om9W3PAmj5IVZ8JlUV2GuaOjtvMnjIvZc5lZ6hlRJx2/Sx+n9UblApPMrRyKMoYwiXAtSxIOXenO1FtZhK2Clge6eSpKq1n/fVSHLv1y+SOSM+fKge7dveYsjf2loznnyit3Ttz/geDr/u+jkLBnCDT6AcY4Xo75wIATXXcecSStPm6bkDsnwK7LKKungdYd+Ta68WzlTLgsrZswH63ckB544IGIm9vVZAQvM/K5ihN9tuGESKPr1Jy4VaNygvYORdmRuUTmV5Y9nXNUVg7pfXOiWG9B2eWzrYn12QctLEVS+riFpdti2b2cWZ5KgAB1N7OVNJU/G/vL0uIVaL5tuZKln/8M/yH93Dsh2+gRQGF27qPP3085szHE9xu0WkRZXqvUT5KGLGOFQBrPoV+PFb5RbiDQEwS8t3SnVzqwzpW+edvoRL8ndUUhfY7AmzrIMOkjfQ56iDcOCAzNeLZLcCeZwy+uMXPBCoOA4yrjAGBU0VcIpPEcfN1XnRLC9AyBoeHrniESBQ0yAmk8hz1kkPswZA8EAoEZCYHg6xmpt6OtgUAgMMgIBF8Pcu+F7D1CwFnn7IHaZ7mMxdwMcVTNdszlCHdIQ+wqukcQjlUxvvVOnqxLF05jVVl35U6gW9rg6+66KFINBQIo2Ms6P37juNe488470zd/pQdq7oR8kuF8ymabbfbMM8+cc845U6ZMOfbYY3t4kS43HclZUh1U8px00kl8N1tC6k9HF5Pd5nWfXe3nnXeehQpQPAI6JpOA6r6Eekqt5k3FQUefJ+anwmLEe5ojy0CXnqzROrdQPPnpXJ+ic8IlpixnFGErhE/I3xgv//nH5Zww6WG/jEKkOI8+CtAiywAjYDJTnx3f8LnFfvvt54Te5z73udIDtTN4Cy20UDqW4jy3MyBOlo9bg1944QWrCA2OL1aHTcat3rIiHMphLHz4nuV96f7779933335A2njMKTM3j7s+Pi2227raHtKxuNV+wPl2ZM19mxT8pVXXsmtoKVukUUWAZ2etU/Ss22ydPnoggsu4AJFYqu4L98dZOX5q8u8PU8W+nXPIY0CBwABvkQcOaHG0rhRdlZ4OTgVia1ofNjK4T2aGkdx6RKvjs6XGxNwo+FwdtLoUYmicrGlJ+uEmpPcUiKaG2+8Mau0qMpnfOLpj9yTJuNM3a1z2qfbENg6SKzSuuNpRSWn0sg3O++udJgj774gdJSRA0LnA1dYYQXuTImNwZ2f5GFVemqmg47JhWx2KW4hxJJJDHI64phwy+UjU66gnHjMMcJixKeYDGD2eU1ge5FW2nfKxXuqinQcLZjAqWedBeXSViTXrynZ1VdfnbT7XEt7J9pZyBSwcpAq+wOwJytxlqbsEVBY+EUaUZUBINKKWAEtVdHx3+DrjhBFgqFFwEl0n0mZ1bmFDqAnL8wIy16YQ4w11liDG0+2Ed7p9t9/f8zFTSg30M6pJwcU/GlgQL6YWyVASQ4l4ohlllkGifB/nYtNiluuHQlSrtXoPDeDTNIosfb555+fXABiJQqp9CL540YZ5GQHkIsTj1QON//HHXccpVgaqqsW0RDtKlTqRLiwvYVj99dcc40lIefKMghgeS4Gy1M5eFDr+OJYYIEFHnvsMWmYKeBmB8DZiEZdeumlUHLOGw2loqTnYbyiilJOObBWb/Krx3s1B7BixKcyIQlh7IxnMT4iTqW1/1cy1iq9mZOR095ILcCEP34EoNURsABs34+5kEpAk+Gp5BRfwTn3iOXhjjvukOa0005Tr0BlAEjZCrRKjfU/g6/rmETMDIQAimnj/6gEoqPz5VYJ2ju8LqugfaM5JMhcwCDDu5OnnAii4+SdQ6QjMyLJXHfDnYriC4URQ0pbhKwM5lr4NVWFrT3dGaGsuOKK+VEOsMnkcAqgeJTKp+taa62V6M/yw4s3BkdhO+64I92T4WjDDTfEYtRMufhj4fmkYvS3AqmXDFoqjUsGqMMam1a+RjfiFUka/4SGfiwfJYHF2Ea4NoETcNsChAvbVt3Uyom263v+Y71+wyxuxbXcpooqOGdH23Xn45UBIGUdNJuSUv5W4bBft0Im4mcIBDBO6Zq5TZs7Ol9ulaBNmeUjahfFc8kll0RbWIzjaSowdhaPfZI9Paf3Mg1J8X2aY+wGunkVhju48WPrQOV8k7Jv5BJyIHm8yn8K0FVT4cSjQSM+vMyqY3ei1W5vyInZjiT2pybkyDLABeukSZOuvfZa7wz8K8xLasrCSFV3I17mbRXWg/qxfJoFtktgbLEwQIyNSNNadVMrgbP9OpffyK26ifx6KiUjjz+TSSRnTAEpG0GrrG2VXOnP4OtGWCJyhkAAZ5k8+LE0ibRqeUfnyx0TtCo5xdM9baXZMbi+SzFUUXqoDTjdNjFaLgEX1N1wN/JIziKgsZTfddZZB9GzFUyePBljumysTCPM6x6jAZ00vxUkRlL51UuVJqfVgt3Zn1p97rnnum4mF9JRDEq914M2DYqlm2fVGKvW3YjnYtsEQKFSvTnXXHOlZHRq1ImdsbCvXNjZtV2rLTDT2U2txFCyJSF3k0YJZ/oucyUZKqCVCdqEwx7SBpx4NLQImFruGHTDIcO0DWw37ezofLljgrIWkznZDXIk6weTAr7GYn68ffqAjBpLU+Ot1JdkjAb0NR66ZaFuq04k2mUknTp1KvrLRdUDMjLgajVCtB5QltFWSuYRKErdnCGYLYX5mB4tCxncFAMo9hD0Ryo36TCG0NPxEaZmp2ZgkZJs3ukJ1AUoY9Docsstx0msf0tdHiBWpoob8TJjCmsvrErTNr4mnhcPcFO7f4XZN9LOibdb3q69LGXTUMKIuqlee6uYLp2Py94Imt6pNKqxouDrRlgicmgRcE8rR9LsmEiH3ztv/Ltsakfnyx0T5Iq8zcMdTAGoMEWiS9YPCmBePDAXEwcLCXPnF7/4RWYEpgaslFgeb9bdcOfyK4HseJrl2oW2Pipnh8XIBOYQnGEXiXv1l3MpXDJaMAEA5amFzZqRElCrhSmt9EQxbNYMI6y6Uvo0BQVTunNRjQEZkb5tjX9TISlZoxvxegmwsuR461s+8tLSncXe+mqs72dcM28bkRJQuldfffWVVlopYdt9N5XldwxrSHvn42UJddBYSOqNKrOkcPh7qmMSMcOAgPljCzwMLbkDao8AACETSURBVPmf/6Ezao6f5vhExOcT++yzT/pz+hvoqwlKse8Fu7kicvqrm/4SaNa+g/ZJuPeZ019an5TQsVG623jusBL2SWNCjEBgRkbADbPMnfRKZgeWX9pxr8iabYGtgF4/KGRtGLBTU/Dzd3XDMTC6bNSbOkji7+FofLQiEBim8exV5IknnugrbAZZlortttuOySK6eIZCII3n4OsZqtNnoMYOE1/PQN0WTW2BQBrPYQ9pAU9EBwKBQCDQZwgEX/dZh4Q4gUAgEAi0QCD4ugUwET2MCPgWohtP1uzFPmX7zxnkN34+O5twR5plbzgbohXaUkZGeEZAIM43zgi9HG0cDQL5ILKvMpIjTZ8/j6agyBMI9AiB0K97BGQUM1AI+ITZ6QYu7pz7aONZNLWpdKTpoPYuu+ySXJum0y6K4lfTiRLuQ4VzAiW7myZ9A54dePKTx2OqyO4FyHmT808ZnU9x6ocfIr46SUgMxdoJSFA5RTJQfRLCdkYg+LozRpFiKBFwy5Sv4rjCYOtwYMQHsK2amR1pOvzNET4XnXyKOmByzDHHeCQXjnZkkVtRFx1wmc9pp9PkjqudfvrpfGI4VciBJ+dKyPSAAw444ogjnI2WqxsBUt7SiavvjnlGRdDUf75SFeXguGIVrorDDjuMkK0aEvGDjkDw9aD3YMg/SgQopLwzO/bNXQYXbpw+VwqqO9Kk23L+sN566yF6h1b4fsO5cnGmoSheLJw6cXCc/wrOkujgzrk4/ZwceDr/LRddHt1zWi1XRwGkaeX806P0c1MXhxiKVThXHrvttlt2DPLfJPH/8CAQ9uvh6ctoSW8RyPbrXKzTgHRbbi5yDK+nvNnxmJGcZiBNVxNceOGFfFnw+8FtKU8RXENwlemRXL6i5eGojS6fS06BRuefdPmcjAKuZMWKsfYg7vwoAsOHQPD18PVptGisEMCMjm676okjvVwHpTuHOfrAsC6odYXV008/zQUdN6QUXl904HrZWa7dBlBxZp2z1wPysnJUvIWUDkuVz/aiWJStds72KPhpbaiXFjGDjkDYQwa9B0P+8UOA5QQhuswJ+TITM0+nywyzBJzn8UPE0x7qzHYJfvW44WcDkcvlYdOmTVtzzTVzljIgQcWpZhvnnzxQyysBk4hi1ehyL9p92K9LSIcsHHw9ZB0azRlDBJg+DjrooBtuuOGjH/0oKzaDdXnJoYrp3XvvvbfPQjgX5WKUMs5AQQV2LeGUKVPcA+uOWj8uSRulrHsKbXT+ybqC8b1sdIekBKwuylSjN5y+OyRkY+EROQQIhP+QIejEaEIDAsnfQsODPo7q6FSzj2UP0cYWgTSeQ78eW5Sj9ECgewS6dKrZfYGRcsgQCP16yDo0mvP/ERhE/To6LxBohUDo162QifhAIBAIBPoRgbCH9GOvhEyBQCAQCNQRCL6uYxIxgUAgEAj0IwLB1/3YKyFTIBAIBAJ1BIKv65hETCAQCAQC/YjAW86jewXZjzKGTIHAqBCI8Twq2CJT/yLwFr5Ovnr7V9iQLBDoGoH4nq9rqCLhACCQlI+whwxAV4WIgUAgEAhAIPg6hkEgEAgEAoOBQPD1YPRTSBkIBAKBQPB1jIFAIBAIBAYDgeDrweinkDIQCAQCgeDrGAOBQCAQCAwGAsHXg9FPIWUgEAgEAqPk67///e9/+ctfAr5AYAZH4Fe/+tUee+xRXqjYK0Duvffeddddd5NNNjHXelXmUJbzox/96JJLLpn+pvWqnOmXpE0J7fja1cubbbZZeZ3oq6+++pWvfOXqq6++4oorTjnlFFeLNhZt+BrEhnLj04gMBCYKARP7M5/5zFNPPZUFEGOi5j/7JOBuxpNPPvk73/nOZZddNtdcc2WpiPqhN34uJNtll11c25gf9TDgFkqz+5Of/KSqtthiCyvHiE7SxfTvYV9UimrH1+9///vdOHf33XfnPE8++aQri1ZccUXXP3//+9/PN4rmBBEIBPocAXe4nHrqqWOhEfew4S7eRZELLbRQ/Uj9V7/61d///vePPPLIDjvs4ArH3/zmNz2sV1GqRtbuEXatMF3NFe+HHHLIE0880dtaorTRIdCOr2eeeea1114bX//rX/9SugF0xx13rLHGGvPOO2/WSijRX/va10444QT3iq666qpuGsXpn/3sZ3/2s59ttdVWSXMxtrbZZhtrtf2dtToV9ctf/vJ///d/qQluCP3Sl76UlPFnn32W1vDhD384pxxdqyJXINAKAbeVG6LXXnttJUG5Hc5WDpF+aUwaw0avm3MN2nJ8/vOf/zzppJPy+E+qaH0kK9M4pzK7h7c0cSRlVna/Qw891P3rWHKDDTa45ZZbzCO1V+RMf7797W9fYYUVbHYvvPBCt/TmQsimEBNWIVtuueXTTz8tvW0xlieAepP86jrjjDNQc71w69mvf/1rJb/nPe+ZaaaZwLXKKqvcdNNNCqSlJclLDTq3tOP016h77rkHPooCplVBliSJ8kGahSdVblEWNeX64Q9/iDeES8mtLt/4xjfwhmItZh6pBcMoE+3kSO29/PLLVSql9C+99FJZiLC2575O5eQs7WVLgJxzzjnqalV4pa7R/dmOr5W41FJL2ZpphvArr7xivK688sqVNR+hE9Ej6/C5557reubrr79e31xwwQXWf2ZuQ0T3g9hgPeqoo2johtGxxx5rYD366KOWhIceekj5L7/88n777Wc9eOyxxyjvxxxzTJjIR9epkasNAgsuuCCdEVuVVpE26Q1+d6LTOZZZZplvfvObG2+8sTBz3+mnn44HZbz//vvtOO+7777jjz9epGJbjWTj3PCWZs4550w1opUzzzzzd7/73c0330wZEnnaaad98IMfpO5IaR6ZQW1kQyIvvvgiMS699FKF3Hbbbaj2+eefpza5lH2RRRYhquymG/qzVzYlZ5lllgcffPCaa6658cYbb7/99nrhWMyl78g6PTLZwYXF6inFvP7669aq1VZb7fHHH3c7u6YhuHL6s6nuv//+O+20kzXygAMOOOKIIxLsL7zwwqKLLkrg884776c//SmxmVjvvPPOP/7xj9aVDIsE1113nfgkqrVB97ERgaiUBzXrmtRHnspuQ4BA/NCOm+x1DUp9+OGHPYWVlMCxYFRWLJsV0nq61lprpSw2GSmL/rUwo/tWspEHBx533HHGgzRWoFLCXoU78DXbGTPWrbfeqj4QzDHHHEsssUSl7k9/+tOrr766Bd+Anm222dBxmWCeeeaZMmWKHrVWY3/DRQKNV46lO0Um9CHrKXBTUQaNziuLinAg0BMEll12WS9murSKrLnmmsbwO97xDmPYiF1sscWMT//Sav3IY/xTdY1kxfohhVYj+VOf+pTESW9NDaEDUXe+/OUvi5x99tlpZzgdBXffTCRCo7KK0Jbe+caPOmyNSQLTZ1ESkT72sY+Zy+9+97sRKEKfb775LAyWmXpFEtQjW8VoNU6gipKZ0nbWWWdBpkxspsNEw4FGU7YIoWAJFl54YcQiO9ZO8bPOOisJZf/rX/+aYdEgolLpkLhcEq+//vpzzz230spaNt98c480Gbw43eKkHMJ85CMfUYXesYKKVIWdh5XDIvT1N36eluV4u8sIrJx11lkHTYEC7e64444i9c6GG26IkSmRqcsqsiln6623NlTEa2/SccvCexJ+i3++eokaBmK6sFV32rRpK620ErnrydrEQOSBBx448sgj01JveZTYi0oDlL2lzJhWZpyeI6GfwxEIBHqFgFFtZpp1datImyoqHFFPKQF9xdhuHMkLLLCAuaDqMiNFTCQ1JUW+613v8ieTSI4pEzeGZcHCVg56Lk0Q00nG+uFf+pMY/EWh/vznP69qvEa132uvvbAJnXf77bevl0kxT5p+/VE9RpMptmwyjOmqVjJSK5NBAyYJOgIwpVaITKQml1mEwWIRInOO11/aKGU9cU5TBiTDVzBJ1VkzPEXf9vrWaTJbLVhiQVfmymH4ezlHeD+raY63YOP9RtlymjENdOBrdVN+cbQtiVV02223Hak0tHLWbWaQxRdf3CqnR5VgCbI9MazLOSCshxhJRrokjFSkSB8IoLldd93V5nfppZemIfYEEOPZqDbPG0dy0hArFWGrf//736+99lqKpywLd0/WLIe2odTGo48+mh3yrrvuEvZuKZEUrdAiccMNN1C2GEOQIK6hOZplZuLkyZMtVxTzikgInQIuAZ71SC7KFogY0ysp/Ul4jMYuz7TN6sJygu7p8jklNPJMVxQziLmfn7YKgIUSzRZB7JzGriWHOwbYT9h8mGeBICOrtyyaj83QkZ6yxrCW2JQ0oq0XtIvwfgqxZck1QqYumzbmBGMaqK5s9cqw56RJk/SZnkjacT1NY4xVSDyM7C8MI11ryFrtRepR6jajlUibtTS8QEmz0EnQBApbmNcIjSVHZCAw/QgYhBtttJF3RKkow88kt19Gmiyw3ZfPWmhgG7T2kX42iN2PZORoz8rya8CbKah2ySWXRLIda1cdkzfq8VIRpzBhUxVtWO3Ws1Xan+ywNsfeuTE1mGvSq4uiKkuqwoxjtE2GnRSDIr2jYlWHgywMGowqyBpJYSWzVaTJK156Mu+7776YUWQuM5WTpj+FFCZsIAT29SGdl30pJWjzr9XUOsq0DRYZp06dSl9sk77+SD8iLksOCW0XkjAa4jUjiKwHfvVczNPPPPMMNBjNtRfjYeqzzz7bAqaBlkOfMlu6plO2er3dx3Tma2XZTSBchpFSHW5TB5j0ilclln3D1xevXj8uv/zyLEfGjbWL9cpSfOCBB5oztmxpyaUgeLFDHfAWhRUbXnSHNrXEo0BgehAwY+2ys9ooYNwa6owGI9rhLbfccsyahvfuu+/OKMpy2v1IJgOjBMuvbx6wJKZAKO1nmbdk+PfjH/84csfFjL94mY0VaaJar/QpVUmlBY6pxLDr9ZKKFMtOgo/YSRhYyckuTCVC4unFaQIzJTNPaWleMnnq5b/Nsfnoq4Hvfve75uyVV15JBukBtffee3u9KaXvXmju5CmnP8pjgvAGi2zy+jFKdOw1Muy8887zzz8/WLTUiqIhHXOVCZhSadYgRT5ah77QjjcQCtTppPWKcrfddqso14SniavRxzksARrCvGNgaJoslnZ9De3plK2Uc6Tht9mkpDx6NIdHWsoo0ls207j0hRBzEltSufcZRYGRJRAoERjn8VxW3T9hdIyAfJiBbRulsjOgM2JkNNSYICL7BIE0nrvSr3susf3Fnnvu6fMPuwwKNVFCle45yFHgDI4AlchHe/RZynIjFBL4oJZSHGTdiE8fRr6pU4+nPkKRZ9LyatHHmPYslve0vepDgEKkAUVgPMdzH0LE8usLEB/DsTqyz/ShhCHSiBBI43li+HpEgkbiQGAUCMzgfD0KxCJLPyOQxvPE2EP6GZeQLRAIBAKB/kQg+Lo/+yWkCgQCgUCgikDwdRWR+DsQmE4EfPLUK9c3vt8YkX/txqodGMmumto3zYeA4Qm5PUQT+zT4emLxj9qHEIEJ9A6fqx4R8/IC6GvuIeyJoWtS5/PoQ9fkaFAgMLYIUGbHtoLWpeeqec5rnSqeDCoCoV8Pas+F3KNAwOlk5wMdY3NeLvmJVggfCcnrcfLg7GNTvzbek+V1witbPBxudHzXB6m86znBq0C6avJbXS+HacJ5uUbv8NlNMyEdDFYL981OJ5TNVCAfRhyQisTIzoInvZg2TSTGk1R1vRYHHa666qrsb9qX16lY9hPn/WDiYCRLiKrFc81a8eOccQNd3XG2w9+HHXaYR+lpOt2eUXXC0JEcAiSV/8c//nEunCOqir9puPm6VwJ4OvnJJwl56jCK1NiK531iaEL24QUl7lvlTS0djn+Dr4ejH6MVXSFQ9xNd9+DMQ5lD22iFkzLE50Qy9sQFyRXyRRddhGWcS8ZQCMgBAskcIMTUvncW6cPnLErdC7PD4nX30M55y84TSKoIu/nTAQXGDUeic2kCPupy8J2bJ6ereXHifNVZbU3ggxSl5hPCjo+XtcjobJrjxFyOcMqh/Owkz1EaTjOcUz/88MOdbnduW+KKH2eUl5x0E6n0Rp0EQ/1c/UjDTYfyuRYBFBD4sncOnqg8lnCuxBtiSk9sx9OTk+iDDz7YCXVpcLrT3mkV4ROKF2kOtbnpOPHEE7F/HUbIK02Zped9CCiHkADRXzycpIP4qd7h+Df4ejj6MVrRFQJ1P9Ecb9Y9OPNQhoCQNQrYdNNNHelGlMkVsju6PHUmkKckHisxJlqhV2JDvoG4pCjdHjV6YS4FTe6hqb2y826BZRArzZEPE56UsafIMr0wR/s8l9KL0Rx3TuR06Py5557jJSpfg1DJ4k/qKs/RJOeLSglIs54mx1T8OLfyRp3ScwsFBB42+BLhJJma70Ql6LjmgJJ2cWBiKbJRSHRseyEll0Hg4pmaKyFp+CTRoqSYZ4fjxOBW2z6mFYychFQ873ONAgqt8y9OzwtYbtqgB4KvB70HQ/4RIIARqMPoFX8xJsiJLFAMsuPBmRckDuQwuGOBttJ4k3ug7bbbLrnw52Az+4FCRlgeZXukBGyuKGyo5NJfaPLCzHGS6jhXSl7iSnGVya0+WpGAKzuu9dBWWVGZOIUdVuS8wVLBvSXCwnfIEe/Tu0lSTz/9MZYEkiNfQvqxnFCBKfipZGzulxAQQx46L2q22Gh+SsPttXZRe0thOkqbnDGpqCOMuVguovSdlcwGhYemVgfxc/qBCwRfD1yXhcCjRACJsHLgO44x8R0LgILYVfEjD87829m2X3zxxcnCQFW0W5eS6zuWblokxZn+m+pGIkgKofA/p1iMlorCa0mLTMmyF2bVMVAoM8Xnf5XJisKoIoEfwzHaLSvKKXOArw/6OCstmwPVlZZK8WfnHTtdEhdzF8XKkYT0L+/KiUxJRan3Swj4k1bLHx4utjWBbRIbv1vqOhJ0bmMKpCVBRR1hzBktmdyIgpqDveEzhmhm8HXu6wgMOQLoA5VU/ESjlboHZwTqVhHEhKr84III7NMZapm2MTIzLv2aIskYwhrAs7PC0QpVvbRf43c8xQatluyFOaGcdG3ZWXLZYWXnBM0dXXYArj6xbCSTtDLrvYKa+YPGoYgSZSNr2iv3ofWUdY2+nibFWJAy51bStPdGnZ56g6qNNhyugMDsDOjYlqEcVhCzENpedOlVSpO1HQ7nn3++fQ99uQ2MFVH9aYujO/Td2C1g9UrHLSb4etygjoomGAF8UfcTTX2re3BmgaX2MkaznJ588skSUI0xDlv2FltswT8yUwliwsUScJTspZndtxdr3AKXzpUavTCX7qFl9zmEt2oIzqd4CmFOYXngNZ5xxtsz60RpYEkIomZkxPhrLUHZjL943/pR4lvWUsY3hpl9CM8lPZasJ6AXt/H47ClU2TqSs2nCeEObdie+sfGVi70L+7Xm1EtujJGXE3BQ2G34AgQCjTA25hXJWORtsKsph88YonXh76lVv0f8YCOAy1opjIPdsKGW3vd83oi6DXnUraTRez/sraZtyqgL6cOMaTyHft2HXRMiBQKBwGgQsEJ72ciyZIc0mvx9nyfON/Z9F4WAgUAg0B0CrtBlNPdtT/3VbncF9HuqN/eMsX/s974K+UaCQIznkaAVafsdgbCH9HsPhXyBQCAQCJQIhP26RCPCgUAgEAj0LwLB1/3bNyFZIBAIBAIlAsHXJRoRDgQCgUCgfxF4y/chTNr9K2lIFgiMEIEYzyMELJL3OwJv4es4X9Dv3RXydY1AfB/SNVSRcAAQSMpH2EMGoKtCxEAgEAgEIBB8HcMgEAgEAoHBQCD4ejD6KaQMBAKBQCD4OsZAIBAIBAKDgUDw9WD0U0gZCAQCgUDwdYyBQCAQCAQGA4Hg68Hop5AyEAgEAoHg6xgDgUD/IuB2cHd9tZfPXWJuVW+8GqZ9xnF7qgluz3Ev8LjVOKwVdeDrSy65JF2K7F/3NRxyyCEdR8+wIhXtGg4Enn32WddNuafKb7/99kOII2oX0kE94zMLXAR8yimnXHHFFe0l1AR3lrs9q1Uyt5ftsccebsJtlWAU8UpTppJHkXdMs4xFY8dU4BEV3oGvlbXBBhs8+uij7q+cNm2aldwN0+UN0COqLBIHAhOLgIu6cbQrtB955BH3oLsF8Qc/+EG+9XxiZavX7qJ0tztaHuqPyhjXOV500UVulSwjIzyUCHTm69xsFyG7Fe3FF1+083IXspXfVcR+Z5xxBgZ3lt31muuuuy5NfJtttsHvMlrr3LbpElK6zKqrrnrTTTelI+9mizRSWgzuuecekWm5Puecc8S7dpoG9NJLLymBNrTLLruIkf3nP/95JXuuKAsZgUCgDQK33nrrwgsvbNS5JXbWWWd1s61hRjMtlbK8eTeqL7/8cgMvD0jbTVPglltu+cQnPiFLTmB4uxk9qeri3a1+5JFHmhryXnXVVZdeeqlAninEy6PafLn33nvFpJlCTf7CF75QKu/uM1RpmaWcCKmlWeDGSaSErbbayv3lJLc5KGU+9NBDrVUp11FHHeXWXXXVE9Rrf/LJJ5WmTCUrv0yQW2Sqmu+p4ccff7z715O0+d+SQ0jibnWPlGaJcqlxKjYlJvb2229/5plntoLRxcSulaFNVhqb6xqeAFjTT5P+G3zz/4svvhh16lRRhoVB6bpoPepfYX3w5z//2eg0gv/0pz9BmSbuqdV+1113ffXVV+++++7VVlvNiBRpqqy//vr/98Zvo402uvnmm2337rvvPgNU96tCRbvvvrv1QLFf//rXVW1hcPP0eeedJ7tr2eTyrwIElCa7EZMqelPiCAUCbyDQOJ4PP/xw46qOkIGax/nf/va3HXbYwZikgG+99dbPPffca6+9hs4OPvhgQ068p9IohAIhwdNPPy3B2WefzT5gGJdj3iCn9p577rkyGrcmCE3FPMI+5ojIu+66SwkmkVzLLrvsNddc46nRniVMAjdOhJwmC9w4iSQrW5dk1ijT0+SiIeVcprBwPUFj7SmXkpXf2CJAmafmvmbCAb+LyTLj1sQh8pLEDbkQllJ7EcITTzyBvnNiGV2RDmE4YxjFikmVXnDBBXL94Q9/AOMdd9xRaWwuYQgCaTx31q9xojvq6cKuiPevofaPf/xDP6Hpd77znfPNN9/aa69NO3DtPFCshJbNTTfdVAfQX9RBE1lyySVnmmkma+Pyyy8PbhxtaLrfno5D6bA5ve2226T0A/o888yjWE/1gVxzzDEHVR2J03HOOuusxRZbLGVXmuwWA+PG4EvZ499AoA0CFMkRDRUD2OhCDVztUCD8DMhcPu6gP+64444LLbSQwU9VRzFpW5nH/FJLLSXsxY+x+r73vW/++eeXxhyZZZZZ1ltvPZHLLLOMeG8LFWvMYyUXD5a1pOoaJ0KWpBKoTKLyaZaZCWX22WffcMMN8akJK421xM5DRalRZQK56tOwLLaxRQ8//LBp7peaueCCC5ZZXnnllcQh2ksSG+WHHnrINJcGe5jsaizTYx7aHpzdnr7IIovYFaVKwa78RRdddMstt7zhhhssdWWu4Qu/Of5atS3Zrx9//PHNN98cOxvEeBllQwqIfjZxzIJwd80l4rar2m677azVlWEH1tlmm814tR4K+FONZsK8886b+qkugDS0+AUWWIBGYzQzoCtTdsTN8qhqk+H2229/+eWX63kjJhCoIGDUGUuVyDZ/umObdZuJYKWVVqJ92/YlH2kpCw3RUMQ16U8UjGIM77JAw9WvjBHGKddffz0qN4BpQvShtIpIWZZf5mqcCGWCLsNJZprWf+bthz7EmsEyg45lT/OxMYFm1qdhWWNji8ppXiZOYRyivUBLf7K1+jOhlySpZ6nEqBQXZXjRCI3bVqCSbMj+fIs/1TZts7JZ94499ljq8Mwzzzz33HP/4he/QJo5y+uvv46y7RkNccYKBqmTTjopPxWALwWH7mw9F/CnjtFtuF5kmTKH0+hhAffKxa7zW9/61gc+8AEvYXbaaad99tmn1eDO2SMQCFQQwNf0vk022SSRAksCexqFo5Is/Wmg0uZOOOEEY/XCCy9097bvo3JKTGEoUsBTDNajMyKgRH85WT2garqOCZK5XhqKTj1ljmmcCHarOUGXgSQz+8wqq6ySs5iMOdyYQO2YtDINrTQ5V2OLfNaSp3lOmQMmr2IzVtZC4UzfOVmbgEp1kEJSGjQCTz3SJssQPKou/m2apIfsmNC0xXDppZdmVqbYGspTp0698847n3rqKeu2/aCe8MvlmB6MzmBlXXrggQcUQikWYAOR97e//S2tec0118zpy4D+2HfffRn1ZM89oer777/fZkrk888/f9ppp+nsMleEA4FWCLCiWvjTxtno8pKKjYIe/d73vpd92SNjkk1ZQAnehFOrvUWsDGnMIi9yMW5PP/30Z555Rq7rrruOfm0j36rqHG8NQH/mkVxmkBLYr/PTxkDjRGhM2SpSjTQqMmNqhmATx/TR0vSaLudqTGBNqk/DlMU+W6CxRTYQprmfZj744IMU+VyLwJxzzmnX8pOf/AQCWmcTw2o6ot3P4osvriPIr3xdYEFlmKVKKjw1tqxuaMIj4OukYnvfbSnbeeedDXSmD69TvJbxftygp/butttuTMzeJOy9997UbTCx7l122WVo2mtfuyqMT0emg0+ZMoV67o2Hn7yNgFowleMFyBJLLOEtBK2EvVv5ijrxxBN1GL3bo1bqeWOZETkjI2DXbAt47bXXGrcrr7wyXp48eTI7CcZh9mXDpbQiF8mg5O2IEU4ZN8Z8+2RsozN2WJaESZMmsfwiCJtOuZRGQd5///1LlbkVztaGgw46yJph1rBi26oyYbdKnOIbJ0L7LOVTM8WSw7DpnRCbtUXLbNIoLxuXW265bFJIWeoJzK/6NASa5erb3/720Ucf3dgi89R8lxE40EPHpUjk8SbM8gZhHcGOYWlMm54yWZtw2s0rGYx0f/ZrJlPpy8a2yT6gj97GIpFEh2AO96oxBrEXuLZ+erdXZUY5gUA3CIzFeO6m3kgTCIwFAmk8j0C/HgshosxAIBAIBAKBLhEIvu4SqEgWCAQCgcAEI/CmDST2jxPcFVF9TxGI8dxTOKOwCUYg7CET3AFRfSAQCAQCI0Ig7CEjgisSBwKBQCAwYQgEX08Y9FFxIBAIBAIjQiD4ekRwReJAIBAIBCYMgbcc32TSnjBBouJAoNcIxHjuNaJR3gQj8Ob3IRMsSFQfCAQCgUAg0BaBsIe0hSceBgKBQCDQNwgEX/dNV4QggUAgEAi0ReD/AROZH0dJKF23AAAAAElFTkSuQmCC)"
      ],
      "metadata": {
        "id": "jMbvJ_23RUhr"
      }
    },
    {
      "cell_type": "code",
      "source": [],
      "metadata": {
        "id": "FoTj5RGJRY2Q"
      },
      "execution_count": null,
      "outputs": []
    },
    {
      "cell_type": "markdown",
      "source": [
        "#### Duplicate Values"
      ],
      "metadata": {
        "id": "35m5QtbWiB9F"
      }
    },
    {
      "cell_type": "code",
      "source": [
        "# Dataset Duplicate Value Count\n",
        "df[df.duplicated()]"
      ],
      "metadata": {
        "id": "1sLdpKYkmox0"
      },
      "execution_count": null,
      "outputs": []
    },
    {
      "cell_type": "code",
      "source": [
        "print(\"Duplicate data is : \",df[df.duplicated()].count())"
      ],
      "metadata": {
        "id": "ILSlnm62Ro6h"
      },
      "execution_count": null,
      "outputs": []
    },
    {
      "cell_type": "markdown",
      "source": [
        "#### Missing Values/Null Values"
      ],
      "metadata": {
        "id": "PoPl-ycgm1ru"
      }
    },
    {
      "cell_type": "code",
      "source": [
        "# Missing Values/Null Values Count\n",
        "df.isnull().sum()"
      ],
      "metadata": {
        "id": "GgHWkxvamxVg"
      },
      "execution_count": null,
      "outputs": []
    },
    {
      "cell_type": "code",
      "source": [
        "# Visualizing the missing values\n",
        "sns.heatmap(df.isnull())\n",
        "plt.show()"
      ],
      "metadata": {
        "id": "3q5wnI3om9sJ"
      },
      "execution_count": null,
      "outputs": []
    },
    {
      "cell_type": "markdown",
      "source": [
        "### What did you know about your dataset?"
      ],
      "metadata": {
        "id": "H0kj-8xxnORC"
      }
    },
    {
      "cell_type": "markdown",
      "source": [
        "- This insurance dataset observed following things\n",
        "    1. There are 301109 row and 12 columns\n",
        "    2. Data set does not have any null values\n",
        "    3. data set contain customer id, gender, age, driving license, region code, previously insurance, vehicle age, vehicle damage, annual premium, policy sales channel, vintage and response\n",
        "    4. There is no duplicated data"
      ],
      "metadata": {
        "id": "gfoNAAC-nUe_"
      }
    },
    {
      "cell_type": "markdown",
      "source": [
        "## ***2. Understanding Your Variables***"
      ],
      "metadata": {
        "id": "nA9Y7ga8ng1Z"
      }
    },
    {
      "cell_type": "code",
      "source": [
        "# Dataset Columns\n",
        "df.columns"
      ],
      "metadata": {
        "id": "j7xfkqrt5Ag5"
      },
      "execution_count": null,
      "outputs": []
    },
    {
      "cell_type": "code",
      "source": [
        "# Dataset Describe\n",
        "df.describe()"
      ],
      "metadata": {
        "id": "DnOaZdaE5Q5t"
      },
      "execution_count": null,
      "outputs": []
    },
    {
      "cell_type": "markdown",
      "source": [
        "### Variables Description"
      ],
      "metadata": {
        "id": "PBTbrJXOngz2"
      }
    },
    {
      "cell_type": "markdown",
      "source": [
        "![image.png](data:image/png;base64,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)"
      ],
      "metadata": {
        "id": "aJV4KIxSnxay"
      }
    },
    {
      "cell_type": "markdown",
      "source": [
        "### Check Unique Values for each variable."
      ],
      "metadata": {
        "id": "u3PMJOP6ngxN"
      }
    },
    {
      "cell_type": "code",
      "source": [
        "# Check Unique Values for each variable.\n",
        "for col in df.columns:\n",
        "  data = df[col].unique()\n",
        "  print(col , \" unique data is : \", len(data))"
      ],
      "metadata": {
        "id": "zms12Yq5n-jE"
      },
      "execution_count": null,
      "outputs": []
    },
    {
      "cell_type": "code",
      "source": [
        "df.head()"
      ],
      "metadata": {
        "id": "lQ8p2mDWWXAq"
      },
      "execution_count": null,
      "outputs": []
    },
    {
      "cell_type": "markdown",
      "source": [
        "## 3. ***Data Wrangling***"
      ],
      "metadata": {
        "id": "dauF4eBmngu3"
      }
    },
    {
      "cell_type": "markdown",
      "source": [
        "### Data Wrangling Code"
      ],
      "metadata": {
        "id": "bKJF3rekwFvQ"
      }
    },
    {
      "cell_type": "code",
      "source": [
        "df.info()"
      ],
      "metadata": {
        "id": "n6nTBXA8XXbh"
      },
      "execution_count": null,
      "outputs": []
    },
    {
      "cell_type": "code",
      "source": [
        "# Write your code to make your dataset analysis ready.\n",
        "# Changing the datatype of Region_Code, Policy_Sales_Channel float to int\n",
        "\n",
        "df['Region_Code'] = df['Region_Code'].astype('int')\n",
        "df['Policy_Sales_Channel'] = df['Policy_Sales_Channel'].astype('int')"
      ],
      "metadata": {
        "id": "wk-9a2fpoLcV"
      },
      "execution_count": null,
      "outputs": []
    },
    {
      "cell_type": "markdown",
      "source": [
        "### What all manipulations have you done and insights you found?"
      ],
      "metadata": {
        "id": "MSa1f5Uengrz"
      }
    },
    {
      "cell_type": "markdown",
      "source": [
        "- As region code is categorical data and its values are in float hence change it from float to integer datatype for further analysis\n",
        "- As Policy_sales_channel is the count of channel of each customer like call, email, agent. This channel should in the integer type not float. hence its datatype change form float to integer\n"
      ],
      "metadata": {
        "id": "LbyXE7I1olp8"
      }
    },
    {
      "cell_type": "markdown",
      "source": [
        "## Encoding data for ML model"
      ],
      "metadata": {
        "id": "prldB0DgN146"
      }
    },
    {
      "cell_type": "code",
      "source": [
        "df.head()"
      ],
      "metadata": {
        "id": "nNjqXfVKN00E"
      },
      "execution_count": null,
      "outputs": []
    },
    {
      "cell_type": "code",
      "source": [
        "df['Gender'] = df['Gender'].map({'Male':1, 'Female' :0})\n",
        "df['Vehicle_Damage'] = df['Vehicle_Damage'].map({'Yes':1, 'No' :0})\n",
        "df['Vehicle_Age'] = df['Vehicle_Age'].map({'> 2 Years':1, '1-2 Year' :2,'< 1 Year':3})\n",
        "df = df.drop(columns=\"id\")"
      ],
      "metadata": {
        "id": "Py9rrU9ROZK2"
      },
      "execution_count": null,
      "outputs": []
    },
    {
      "cell_type": "code",
      "source": [
        "df.info()"
      ],
      "metadata": {
        "id": "Y8E8BTSnO_r8"
      },
      "execution_count": null,
      "outputs": []
    },
    {
      "cell_type": "markdown",
      "source": [
        "## ***4. Data Vizualization, Storytelling & Experimenting with charts : Understand the relationships between variables***"
      ],
      "metadata": {
        "id": "GF8Ens_Soomf"
      }
    },
    {
      "cell_type": "markdown",
      "source": [
        "#### Chart - 1"
      ],
      "metadata": {
        "id": "0wOQAZs5pc--"
      }
    },
    {
      "cell_type": "code",
      "source": [
        "# Chart - 1 visualization code : Check number of gender type in dataset\n",
        "df['Gender'].value_counts()"
      ],
      "metadata": {
        "id": "7v_ESjsspbW7"
      },
      "execution_count": null,
      "outputs": []
    },
    {
      "cell_type": "code",
      "source": [
        "plt.pie(df['Gender'].value_counts(), labels = [\"Male\", \"Female\"], autopct='%0.2f')"
      ],
      "metadata": {
        "id": "-S_LaAsRY61r"
      },
      "execution_count": null,
      "outputs": []
    },
    {
      "cell_type": "markdown",
      "source": [
        "##### 1. Why did you pick the specific chart?"
      ],
      "metadata": {
        "id": "K5QZ13OEpz2H"
      }
    },
    {
      "cell_type": "markdown",
      "source": [
        "In this dataset gender is categorical type of column. The Pie chart is the best for representing the data and compaire its count"
      ],
      "metadata": {
        "id": "XESiWehPqBRc"
      }
    },
    {
      "cell_type": "markdown",
      "source": [
        "##### 2. What is/are the insight(s) found from the chart?"
      ],
      "metadata": {
        "id": "lQ7QKXXCp7Bj"
      }
    },
    {
      "cell_type": "markdown",
      "source": [
        "From Above observation :\n",
        "- Male count category are 54%\n",
        "- Female count category are 45 %\n",
        "- It means almost equal distribution in male and female category"
      ],
      "metadata": {
        "id": "C_j1G7yiqdRP"
      }
    },
    {
      "cell_type": "markdown",
      "source": [
        "##### 3. Will the gained insights help creating a positive business impact?\n",
        "Are there any insights that lead to negative growth? Justify with specific reason."
      ],
      "metadata": {
        "id": "448CDAPjqfQr"
      }
    },
    {
      "cell_type": "markdown",
      "source": [
        "- Yes, Both category of gender are interested in polycy and\n",
        "- Male category is the heighest interest in the policy as compare to female"
      ],
      "metadata": {
        "id": "3cspy4FjqxJW"
      }
    },
    {
      "cell_type": "markdown",
      "source": [
        "#### Chart - 2"
      ],
      "metadata": {
        "id": "KSlN3yHqYklG"
      }
    },
    {
      "cell_type": "code",
      "source": [
        "df.columns"
      ],
      "metadata": {
        "id": "yZXYyzuBbUCA"
      },
      "execution_count": null,
      "outputs": []
    },
    {
      "cell_type": "code",
      "source": [
        "# Chart - 2 : Policy count\n",
        "data = df['Previously_Insured'].value_counts()\n",
        "print(data)\n",
        "plt.pie(df['Previously_Insured'].value_counts(), labels = [\"Yes\", \"No\"], autopct='%0.2f')\n",
        "plt.title('Customer has policy or not')\n",
        "plt.show()"
      ],
      "metadata": {
        "id": "R4YgtaqtYklH"
      },
      "execution_count": null,
      "outputs": []
    },
    {
      "cell_type": "markdown",
      "source": [
        "##### 1. Why did you pick the specific chart?"
      ],
      "metadata": {
        "id": "t6dVpIINYklI"
      }
    },
    {
      "cell_type": "markdown",
      "source": [
        "In this dataset gender is categorical type of column. The Pie chart is the best for representing the data and compaire its count.\n",
        "- for small categorical piechart is best way to represent\n",
        "- its help to show the % of data distributed in the category"
      ],
      "metadata": {
        "id": "5aaW0BYyYklI"
      }
    },
    {
      "cell_type": "markdown",
      "source": [
        "##### 2. What is/are the insight(s) found from the chart?"
      ],
      "metadata": {
        "id": "ijmpgYnKYklI"
      }
    },
    {
      "cell_type": "markdown",
      "source": [
        "From Above observation :\n",
        "\n",
        "Male count category are 54%\n",
        "Female count category are 45 %\n",
        "It means almost equal distribution in male and female category"
      ],
      "metadata": {
        "id": "PSx9atu2YklI"
      }
    },
    {
      "cell_type": "markdown",
      "source": [
        "##### 3. Will the gained insights help creating a positive business impact?\n",
        "Are there any insights that lead to negative growth? Justify with specific reason."
      ],
      "metadata": {
        "id": "-JiQyfWJYklI"
      }
    },
    {
      "cell_type": "markdown",
      "source": [
        "Yes....\n",
        "- This dataset tells that there are 45% customer are didnt have indurance policy\n",
        "- Need to convence the customer who does not have insurance policy still."
      ],
      "metadata": {
        "id": "BcBbebzrYklV"
      }
    },
    {
      "cell_type": "markdown",
      "source": [
        "#### Chart - 3"
      ],
      "metadata": {
        "id": "EM7whBJCYoAo"
      }
    },
    {
      "cell_type": "code",
      "source": [
        "# Chart - 3 Relation between gender and policy\n",
        "\n",
        "data = df['Vehicle_Damage'].value_counts()\n",
        "print(data)\n",
        "plt.pie(df['Vehicle_Damage'].value_counts(), labels = [\"Yes\", \"No\"], autopct='%0.2f')\n",
        "plt.title('Vihicle damage count')\n",
        "plt.show()"
      ],
      "metadata": {
        "id": "t6GMdE67YoAp"
      },
      "execution_count": null,
      "outputs": []
    },
    {
      "cell_type": "markdown",
      "source": [
        "##### 1. Why did you pick the specific chart?"
      ],
      "metadata": {
        "id": "fge-S5ZAYoAp"
      }
    },
    {
      "cell_type": "markdown",
      "source": [
        "Answer Here."
      ],
      "metadata": {
        "id": "5dBItgRVYoAp"
      }
    },
    {
      "cell_type": "markdown",
      "source": [
        "##### 2. What is/are the insight(s) found from the chart?"
      ],
      "metadata": {
        "id": "85gYPyotYoAp"
      }
    },
    {
      "cell_type": "markdown",
      "source": [
        "Answer Here"
      ],
      "metadata": {
        "id": "4jstXR6OYoAp"
      }
    },
    {
      "cell_type": "markdown",
      "source": [
        "##### 3. Will the gained insights help creating a positive business impact?\n",
        "Are there any insights that lead to negative growth? Justify with specific reason."
      ],
      "metadata": {
        "id": "RoGjAbkUYoAp"
      }
    },
    {
      "cell_type": "markdown",
      "source": [
        "#### Chart - 4"
      ],
      "metadata": {
        "id": "4Of9eVA-YrdM"
      }
    },
    {
      "cell_type": "code",
      "source": [
        "# Chart - 4 Region and its count\n",
        "data = df['Region_Code'].value_counts()\n",
        "#print(data)\n",
        "plt.figure(figsize=(15,5))\n",
        "sns.barplot(df['Region_Code'].value_counts())\n",
        "plt.title('region code data')\n",
        "plt.show()"
      ],
      "metadata": {
        "id": "irlUoxc8YrdO"
      },
      "execution_count": null,
      "outputs": []
    },
    {
      "cell_type": "markdown",
      "source": [
        "##### 1. Why did you pick the specific chart?"
      ],
      "metadata": {
        "id": "iky9q4vBYrdO"
      }
    },
    {
      "cell_type": "markdown",
      "source": [
        "- There are multiple categogy of region\n",
        "- Bar chats is the efferctive way to represent data"
      ],
      "metadata": {
        "id": "aJRCwT6DYrdO"
      }
    },
    {
      "cell_type": "markdown",
      "source": [
        "##### 2. What is/are the insight(s) found from the chart?"
      ],
      "metadata": {
        "id": "F6T5p64dYrdO"
      }
    },
    {
      "cell_type": "markdown",
      "source": [
        "- The Region code 28 has higher interest in the insurance\n",
        "- Other are observing high chance to grow business"
      ],
      "metadata": {
        "id": "Xx8WAJvtYrdO"
      }
    },
    {
      "cell_type": "markdown",
      "source": [
        "#### Chart - 5"
      ],
      "metadata": {
        "id": "bamQiAODYuh1"
      }
    },
    {
      "cell_type": "code",
      "source": [
        "data = df['Vehicle_Age'].value_counts()\n",
        "#print(data)\n",
        "plt.figure(figsize=(15,5))\n",
        "sns.barplot(df['Vehicle_Age'].value_counts())\n",
        "plt.title('Vehicle_Age data')\n",
        "plt.show()"
      ],
      "metadata": {
        "id": "TIJwrbroYuh3"
      },
      "execution_count": null,
      "outputs": []
    },
    {
      "cell_type": "markdown",
      "source": [
        "##### 1. Why did you pick the specific chart?"
      ],
      "metadata": {
        "id": "QHF8YVU7Yuh3"
      }
    },
    {
      "cell_type": "markdown",
      "source": [
        "- there are 3 caterogy in the vehicle age variable.\n",
        "- bar chart showing the each categories and its no of count in dataset"
      ],
      "metadata": {
        "id": "dcxuIMRPYuh3"
      }
    },
    {
      "cell_type": "markdown",
      "source": [
        "##### 2. What is/are the insight(s) found from the chart?"
      ],
      "metadata": {
        "id": "GwzvFGzlYuh3"
      }
    },
    {
      "cell_type": "markdown",
      "source": [
        "- The most of the vehicle are observed in the year 1 an 2 age group\n",
        "- The lowest categories are more tha 2 year\n",
        "- it seems like after two year customer showing less interest in the insurance"
      ],
      "metadata": {
        "id": "uyqkiB8YYuh3"
      }
    },
    {
      "cell_type": "markdown",
      "source": [
        "#### Chart - 6"
      ],
      "metadata": {
        "id": "OH-pJp9IphqM"
      }
    },
    {
      "cell_type": "code",
      "source": [
        "# Chart - 6 visualization code\n",
        "data = df['Driving_License'].value_counts()\n",
        "print(data)\n",
        "plt.figure(figsize=(15,5))\n",
        "sns.barplot(df['Driving_License'].value_counts())\n",
        "plt.title('Customer Driving_License count ')\n",
        "plt.show()"
      ],
      "metadata": {
        "id": "kuRf4wtuphqN"
      },
      "execution_count": null,
      "outputs": []
    },
    {
      "cell_type": "markdown",
      "source": [
        "##### 1. Why did you pick the specific chart?"
      ],
      "metadata": {
        "id": "bbFf2-_FphqN"
      }
    },
    {
      "cell_type": "markdown",
      "source": [
        "- Bar chart is effective way to compare the whethre person has license or not"
      ],
      "metadata": {
        "id": "loh7H2nzphqN"
      }
    },
    {
      "cell_type": "markdown",
      "source": [
        "##### 2. What is/are the insight(s) found from the chart?"
      ],
      "metadata": {
        "id": "_ouA3fa0phqN"
      }
    },
    {
      "cell_type": "markdown",
      "source": [
        "- This dataset showing all the customer has driving license\n",
        "- very fever customer are dosent have license"
      ],
      "metadata": {
        "id": "VECbqPI7phqN"
      }
    },
    {
      "cell_type": "markdown",
      "source": [
        "##### 3. Will the gained insights help creating a positive business impact?\n",
        "Are there any insights that lead to negative growth? Justify with specific reason."
      ],
      "metadata": {
        "id": "Seke61FWphqN"
      }
    },
    {
      "cell_type": "markdown",
      "source": [
        "- It mean need to give less focus on license"
      ],
      "metadata": {
        "id": "DW4_bGpfphqN"
      }
    },
    {
      "cell_type": "markdown",
      "source": [
        "#### Chart - 7"
      ],
      "metadata": {
        "id": "PIIx-8_IphqN"
      }
    },
    {
      "cell_type": "code",
      "source": [
        "df.columns"
      ],
      "metadata": {
        "id": "0NFa19HEhM0W"
      },
      "execution_count": null,
      "outputs": []
    },
    {
      "cell_type": "code",
      "source": [
        "# Chart - 7 visualization code\n",
        "data = df.groupby('Driving_License')[['Previously_Insured','Response']].sum()\n",
        "print(data)\n",
        "\n",
        "plt.pie(data['Previously_Insured'], autopct='%0.2f', labels=['Not Insurance', 'Insurance'])\n",
        "plt.title('Driving license and insuramce raltionship')\n",
        "plt.show()"
      ],
      "metadata": {
        "id": "lqAIGUfyphqO"
      },
      "execution_count": null,
      "outputs": []
    },
    {
      "cell_type": "markdown",
      "source": [
        "##### 1. Why did you pick the specific chart?"
      ],
      "metadata": {
        "id": "t27r6nlMphqO"
      }
    },
    {
      "cell_type": "markdown",
      "source": [
        "- Here only two category in dataset whether customer has license or not pie chart is best and give % of the categories which helps to get idea about the values distributes"
      ],
      "metadata": {
        "id": "iv6ro40sphqO"
      }
    },
    {
      "cell_type": "markdown",
      "source": [
        "##### 2. What is/are the insight(s) found from the chart?"
      ],
      "metadata": {
        "id": "r2jJGEOYphqO"
      }
    },
    {
      "cell_type": "markdown",
      "source": [
        "- Who has license also have Insurance"
      ],
      "metadata": {
        "id": "Po6ZPi4hphqO"
      }
    },
    {
      "cell_type": "markdown",
      "source": [
        "##### 3. Will the gained insights help creating a positive business impact?\n",
        "Are there any insights that lead to negative growth? Justify with specific reason."
      ],
      "metadata": {
        "id": "b0JNsNcRphqO"
      }
    },
    {
      "cell_type": "markdown",
      "source": [
        "- When new customer who has vehicle he getting take insurance has high chances"
      ],
      "metadata": {
        "id": "xvSq8iUTphqO"
      }
    },
    {
      "cell_type": "markdown",
      "source": [
        "#### Chart - 8"
      ],
      "metadata": {
        "id": "BZR9WyysphqO"
      }
    },
    {
      "cell_type": "code",
      "source": [
        "# Chart - 8 visualization code\n",
        "data = df.groupby('Driving_License')[['Previously_Insured','Response']].sum()\n",
        "print(data)\n",
        "\n",
        "plt.pie(data['Response'], autopct='%0.2f', labels=['Not Insurance', 'Insurance'])\n",
        "plt.title('Driving license and Its interest in policy raltionship')\n",
        "plt.show()"
      ],
      "metadata": {
        "id": "TdPTWpAVphqO"
      },
      "execution_count": null,
      "outputs": []
    },
    {
      "cell_type": "markdown",
      "source": [
        "##### 1. Why did you pick the specific chart?"
      ],
      "metadata": {
        "id": "jj7wYXLtphqO"
      }
    },
    {
      "cell_type": "markdown",
      "source": [
        "- Here only two category in dataset whether customer has license or not pie chart is best and give % of the categories which helps to get idea about the values distributes"
      ],
      "metadata": {
        "id": "Ob8u6rCTphqO"
      }
    },
    {
      "cell_type": "markdown",
      "source": [
        "##### 2. What is/are the insight(s) found from the chart?"
      ],
      "metadata": {
        "id": "eZrbJ2SmphqO"
      }
    },
    {
      "cell_type": "markdown",
      "source": [
        "- When new customer who has vehicle he getting take insurance has high chances\n",
        "- Who has license also have Insurance"
      ],
      "metadata": {
        "id": "mZtgC_hjphqO"
      }
    },
    {
      "cell_type": "markdown",
      "source": [
        "##### 3. Will the gained insights help creating a positive business impact?\n",
        "Are there any insights that lead to negative growth? Justify with specific reason."
      ],
      "metadata": {
        "id": "rFu4xreNphqO"
      }
    },
    {
      "cell_type": "markdown",
      "source": [
        "- When new customer who has vehicle he getting take insurance has high chances"
      ],
      "metadata": {
        "id": "ey_0qi68phqO"
      }
    },
    {
      "cell_type": "markdown",
      "source": [
        "#### Chart - 9"
      ],
      "metadata": {
        "id": "YJ55k-q6phqO"
      }
    },
    {
      "cell_type": "code",
      "source": [
        "df.columns"
      ],
      "metadata": {
        "id": "chSmSy-QjL26"
      },
      "execution_count": null,
      "outputs": []
    },
    {
      "cell_type": "code",
      "source": [
        "# Chart - 9 visualization code\n",
        "\n",
        "sns.barplot(data=df, x='Vehicle_Age', y='Annual_Premium',hue='Gender')"
      ],
      "metadata": {
        "id": "B2aS4O1ophqO"
      },
      "execution_count": null,
      "outputs": []
    },
    {
      "cell_type": "markdown",
      "source": [
        "##### 1. Why did you pick the specific chart?"
      ],
      "metadata": {
        "id": "gCFgpxoyphqP"
      }
    },
    {
      "cell_type": "markdown",
      "source": [
        "- The bar chart is best chart to compaire the two things"
      ],
      "metadata": {
        "id": "TVxDimi2phqP"
      }
    },
    {
      "cell_type": "markdown",
      "source": [
        "##### 2. What is/are the insight(s) found from the chart?"
      ],
      "metadata": {
        "id": "OVtJsKN_phqQ"
      }
    },
    {
      "cell_type": "markdown",
      "source": [
        "- Almost Male and Female categories are equaly chance of taking insurance accourding to. age of vehicles\n",
        "- Premium also devided in the same categories"
      ],
      "metadata": {
        "id": "ngGi97qjphqQ"
      }
    },
    {
      "cell_type": "markdown",
      "source": [
        "##### 3. Will the gained insights help creating a positive business impact?\n",
        "Are there any insights that lead to negative growth? Justify with specific reason."
      ],
      "metadata": {
        "id": "lssrdh5qphqQ"
      }
    },
    {
      "cell_type": "markdown",
      "source": [
        "- Both categories have equal chance of insurance and its premium"
      ],
      "metadata": {
        "id": "tBpY5ekJphqQ"
      }
    },
    {
      "cell_type": "markdown",
      "source": [
        "#### Chart - 10"
      ],
      "metadata": {
        "id": "U2RJ9gkRphqQ"
      }
    },
    {
      "cell_type": "code",
      "source": [
        "# Chart - 10 visualization code\n",
        "sns.barplot(data=df, x='Vehicle_Age', y='Annual_Premium',hue='Response')"
      ],
      "metadata": {
        "id": "GM7a4YP4phqQ"
      },
      "execution_count": null,
      "outputs": []
    },
    {
      "cell_type": "markdown",
      "source": [
        "##### 1. Why did you pick the specific chart?"
      ],
      "metadata": {
        "id": "1M8mcRywphqQ"
      }
    },
    {
      "cell_type": "markdown",
      "source": [
        "The bar chart is best chart to compaire the two things"
      ],
      "metadata": {
        "id": "8agQvks0phqQ"
      }
    },
    {
      "cell_type": "markdown",
      "source": [
        "##### 2. What is/are the insight(s) found from the chart?"
      ],
      "metadata": {
        "id": "tgIPom80phqQ"
      }
    },
    {
      "cell_type": "markdown",
      "source": [
        "- Almost Male and Female categories are equaly chance of taking insurance accourding to. age of vehicles\n",
        "- Premium also devided in the same categories"
      ],
      "metadata": {
        "id": "Qp13pnNzphqQ"
      }
    },
    {
      "cell_type": "markdown",
      "source": [
        "##### 3. Will the gained insights help creating a positive business impact?\n",
        "Are there any insights that lead to negative growth? Justify with specific reason."
      ],
      "metadata": {
        "id": "JMzcOPDDphqR"
      }
    },
    {
      "cell_type": "markdown",
      "source": [
        "- equal destribute data with two categories"
      ],
      "metadata": {
        "id": "R4Ka1PC2phqR"
      }
    },
    {
      "cell_type": "markdown",
      "source": [
        "#### Chart - 11"
      ],
      "metadata": {
        "id": "x-EpHcCOp1ci"
      }
    },
    {
      "cell_type": "code",
      "source": [
        "# Chart - 11 visualization code\n",
        "sns.barplot(data=df, x='Vehicle_Age', y='Annual_Premium',hue='Region_Code')"
      ],
      "metadata": {
        "id": "mAQTIvtqp1cj"
      },
      "execution_count": null,
      "outputs": []
    },
    {
      "cell_type": "markdown",
      "source": [
        "##### 1. Why did you pick the specific chart?"
      ],
      "metadata": {
        "id": "X_VqEhTip1ck"
      }
    },
    {
      "cell_type": "markdown",
      "source": [
        "- The Seaborn helps showing more information\n",
        "- barchats showing the data of vehicle age and region of the data"
      ],
      "metadata": {
        "id": "-vsMzt_np1ck"
      }
    },
    {
      "cell_type": "markdown",
      "source": [
        "##### 2. What is/are the insight(s) found from the chart?"
      ],
      "metadata": {
        "id": "8zGJKyg5p1ck"
      }
    },
    {
      "cell_type": "markdown",
      "source": [
        "The Seaborn helps showing more information\n",
        "- barchats showing the data of vehicle age and region of the data\n",
        "- Its showing how region is destribute over the each vehicle age"
      ],
      "metadata": {
        "id": "ZYdMsrqVp1ck"
      }
    },
    {
      "cell_type": "markdown",
      "source": [
        "##### 3. Will the gained insights help creating a positive business impact?\n",
        "Are there any insights that lead to negative growth? Justify with specific reason."
      ],
      "metadata": {
        "id": "PVzmfK_Ep1ck"
      }
    },
    {
      "cell_type": "markdown",
      "source": [
        "- Its showing some region are have interest in the vehicle type and insurance"
      ],
      "metadata": {
        "id": "druuKYZpp1ck"
      }
    },
    {
      "cell_type": "markdown",
      "source": [
        "#### Chart - 12"
      ],
      "metadata": {
        "id": "n3dbpmDWp1ck"
      }
    },
    {
      "cell_type": "code",
      "source": [
        "plt.plot(df.groupby('Age')['Annual_Premium'].sum())\n",
        "plt.title('Age and Insurance Premium relationship')\n",
        "plt.xlabel(\"Age\")\n",
        "plt.ylabel('Premium')\n",
        "plt.show()"
      ],
      "metadata": {
        "id": "zJcPibBtlJBy"
      },
      "execution_count": null,
      "outputs": []
    },
    {
      "cell_type": "code",
      "source": [
        "plt.plot(np.log(df.groupby('Age')['Annual_Premium'].sum()))\n",
        "plt.title('Log Transformation Age and Insurance Premium relationship')\n",
        "plt.xlabel(\"Age\")\n",
        "plt.ylabel('Premium')\n",
        "plt.show()"
      ],
      "metadata": {
        "id": "4sk80JGhltsc"
      },
      "execution_count": null,
      "outputs": []
    },
    {
      "cell_type": "markdown",
      "source": [
        "##### 1. Why did you pick the specific chart?"
      ],
      "metadata": {
        "id": "ylSl6qgtp1ck"
      }
    },
    {
      "cell_type": "markdown",
      "source": [
        "- Its showing the data spread in the age group\n",
        "- Line chart is efferctive way to get idea of the dataset"
      ],
      "metadata": {
        "id": "m2xqNkiQp1ck"
      }
    },
    {
      "cell_type": "markdown",
      "source": [
        "##### 2. What is/are the insight(s) found from the chart?"
      ],
      "metadata": {
        "id": "ZWILFDl5p1ck"
      }
    },
    {
      "cell_type": "markdown",
      "source": [
        "- Its showing the data spread in the age group\n",
        "- Line chart is efferctive way to get idea of the dataset\n",
        "- observed age 20-30 are more interest in the insurance"
      ],
      "metadata": {
        "id": "x-lUsV2mp1ck"
      }
    },
    {
      "cell_type": "markdown",
      "source": [
        "##### 3. Will the gained insights help creating a positive business impact?\n",
        "Are there any insights that lead to negative growth? Justify with specific reason."
      ],
      "metadata": {
        "id": "M7G43BXep1ck"
      }
    },
    {
      "cell_type": "markdown",
      "source": [
        "- Age group 20-30 are more interested to buy insurance"
      ],
      "metadata": {
        "id": "5wwDJXsLp1cl"
      }
    },
    {
      "cell_type": "markdown",
      "source": [
        "#### Chart - 13"
      ],
      "metadata": {
        "id": "Ag9LCva-p1cl"
      }
    },
    {
      "cell_type": "code",
      "source": [
        "# Chart - 13 visualization code\n",
        "sns.histplot(df['Age'])"
      ],
      "metadata": {
        "id": "EUfxeq9-p1cl"
      },
      "execution_count": null,
      "outputs": []
    },
    {
      "cell_type": "markdown",
      "source": [
        "##### 1. Why did you pick the specific chart?"
      ],
      "metadata": {
        "id": "E6MkPsBcp1cl"
      }
    },
    {
      "cell_type": "markdown",
      "source": [
        "- The histogram showing how age group of customer are interested in the insurance"
      ],
      "metadata": {
        "id": "V22bRsFWp1cl"
      }
    },
    {
      "cell_type": "markdown",
      "source": [
        "##### 2. What is/are the insight(s) found from the chart?"
      ],
      "metadata": {
        "id": "2cELzS2fp1cl"
      }
    },
    {
      "cell_type": "markdown",
      "source": [
        "- The histogram showing how age group of customer are interested in the insurance\n",
        "- showing age between 20-30 are more taken the insurance"
      ],
      "metadata": {
        "id": "ozQPc2_Ip1cl"
      }
    },
    {
      "cell_type": "markdown",
      "source": [
        "##### 3. Will the gained insights help creating a positive business impact?\n",
        "Are there any insights that lead to negative growth? Justify with specific reason."
      ],
      "metadata": {
        "id": "3MPXvC8up1cl"
      }
    },
    {
      "cell_type": "markdown",
      "source": [
        "Yes, According to age insurance will be sale"
      ],
      "metadata": {
        "id": "GL8l1tdLp1cl"
      }
    },
    {
      "cell_type": "markdown",
      "source": [
        "#### Chart - 14 - paireplot"
      ],
      "metadata": {
        "id": "NC_X3p0fY2L0"
      }
    },
    {
      "cell_type": "code",
      "source": [
        "# Correlation Heatmap visualization code\n",
        "sns.pairplot(df)"
      ],
      "metadata": {
        "id": "xyC9zolEZNRQ"
      },
      "execution_count": null,
      "outputs": []
    },
    {
      "cell_type": "markdown",
      "source": [
        "##### 1. Why did you pick the specific chart?"
      ],
      "metadata": {
        "id": "UV0SzAkaZNRQ"
      }
    },
    {
      "cell_type": "markdown",
      "source": [
        "This charts helps to understand the each variable/ columns details"
      ],
      "metadata": {
        "id": "DVPuT8LYZNRQ"
      }
    },
    {
      "cell_type": "markdown",
      "source": [
        "##### 2. What is/are the insight(s) found from the chart?"
      ],
      "metadata": {
        "id": "YPEH6qLeZNRQ"
      }
    },
    {
      "cell_type": "markdown",
      "source": [
        "- Its showing the relationship between each variable with another\n",
        "- some columns are high relationship of other and some variable have less relationsheep in the dataset\n"
      ],
      "metadata": {
        "id": "bfSqtnDqZNRR"
      }
    },
    {
      "cell_type": "markdown",
      "source": [
        "#### Chart - 15 - Distplot"
      ],
      "metadata": {
        "id": "q29F0dvdveiT"
      }
    },
    {
      "cell_type": "code",
      "source": [
        "# Pair Plot visualization code\n",
        "sns.jointplot(data=df, x=\"Gender\", y='Age',kind='scatter')"
      ],
      "metadata": {
        "id": "o58-TEIhveiU"
      },
      "execution_count": null,
      "outputs": []
    },
    {
      "cell_type": "markdown",
      "source": [
        "##### 1. Why did you pick the specific chart?"
      ],
      "metadata": {
        "id": "EXh0U9oCveiU"
      }
    },
    {
      "cell_type": "markdown",
      "source": [
        "- joint plot help to understand the relation sheep of data"
      ],
      "metadata": {
        "id": "eMmPjTByveiU"
      }
    },
    {
      "cell_type": "markdown",
      "source": [
        "##### 2. What is/are the insight(s) found from the chart?"
      ],
      "metadata": {
        "id": "22aHeOlLveiV"
      }
    },
    {
      "cell_type": "markdown",
      "source": [
        "- both category are equal distribution\n",
        "- spead pf data observing silutaniously"
      ],
      "metadata": {
        "id": "uPQ8RGwHveiV"
      }
    },
    {
      "cell_type": "markdown",
      "source": [
        "#### Chart 16 : Correlation Heatmap"
      ],
      "metadata": {
        "id": "zpPCLwjUTHdT"
      }
    },
    {
      "cell_type": "code",
      "source": [
        "df.corr()"
      ],
      "metadata": {
        "id": "L94hR-TMTLgF"
      },
      "execution_count": null,
      "outputs": []
    },
    {
      "cell_type": "code",
      "source": [
        "sns.heatmap(df.corr())"
      ],
      "metadata": {
        "id": "_oz0M_JuTO9r"
      },
      "execution_count": null,
      "outputs": []
    },
    {
      "cell_type": "markdown",
      "source": [
        "## ***5. Hypothesis Testing***"
      ],
      "metadata": {
        "id": "g-ATYxFrGrvw"
      }
    },
    {
      "cell_type": "markdown",
      "source": [
        "### Based on your chart experiments, define three hypothetical statements from the dataset. In the next three questions, perform hypothesis testing to obtain final conclusion about the statements through your code and statistical testing."
      ],
      "metadata": {
        "id": "Yfr_Vlr8HBkt"
      }
    },
    {
      "cell_type": "markdown",
      "source": [
        "Answer Here."
      ],
      "metadata": {
        "id": "-7MS06SUHkB-"
      }
    },
    {
      "cell_type": "markdown",
      "source": [
        "### Hypothetical Statement - 1"
      ],
      "metadata": {
        "id": "8yEUt7NnHlrM"
      }
    },
    {
      "cell_type": "markdown",
      "source": [
        "#### 1. State Your research hypothesis as a null hypothesis and alternate hypothesis."
      ],
      "metadata": {
        "id": "tEA2Xm5dHt1r"
      }
    },
    {
      "cell_type": "markdown",
      "source": [
        "Null Hypothesis : H0 : Avg age of customer is 30\n",
        "\n",
        "Alternate Hypothesis : H1 : Avg age of customer is below 30"
      ],
      "metadata": {
        "id": "HI9ZP0laH0D-"
      }
    },
    {
      "cell_type": "markdown",
      "source": [
        "#### 2. Perform an appropriate statistical test."
      ],
      "metadata": {
        "id": "I79__PHVH19G"
      }
    },
    {
      "cell_type": "code",
      "source": [
        "# collected 100 sample of the dataset which are random\n",
        "from scipy import stats\n",
        "avg , std_deviation = np.mean(df['Age']), np.std(df['Age'])\n",
        "print(\"Population mean : {} and \\nstd deviation is : {} \".format(avg , std_deviation))\n",
        "num = np.random.randint(1,30000,100)\n",
        "sample = df['Age'].loc[num]\n",
        "sample_mean, Sample_std = np.mean(sample), np.std(sample)\n",
        "print(\"Sample mean : {} and \\nstd deviation is : {} \".format(sample_mean , Sample_std))\n",
        "\n",
        "Z_score = (sample_mean - avg)/(std_deviation/np.sqrt(len(sample)))\n",
        "print(\"Z score of data is : \",Z_score)\n",
        "\n",
        "z_critical = stats.norm.ppf(0.05)\n",
        "print(\"Z critical values is : \",z_critical)\n",
        "\n",
        "p_value = 1-stats.norm.cdf(Z_score)\n",
        "\n",
        "print('p-value :',p_value)\n",
        "\n",
        "# Hypothesis\n",
        "if p_value <=  0.05:\n",
        "    print(\"Reject Null Hypothesis\")\n",
        "else:\n",
        "  print(\"Fail to Reject Null Hypothesis\")"
      ],
      "metadata": {
        "id": "y4u8eJmaO8yM"
      },
      "execution_count": null,
      "outputs": []
    },
    {
      "cell_type": "code",
      "source": [
        "# Perform Statistical Test to obtain P-Value\n",
        "sns.histplot(df['Age'], kde=True)\n",
        "plt.axvline(30,color='red')\n",
        "plt.plot(X=30, linewidth =6, color='red')\n",
        "plt.show()"
      ],
      "metadata": {
        "id": "kD2m7ENG2NG-",
        "collapsed": true
      },
      "execution_count": null,
      "outputs": []
    },
    {
      "cell_type": "markdown",
      "source": [
        "##### Which statistical test have you done to obtain P-Value?"
      ],
      "metadata": {
        "id": "Ou-I18pAyIpj"
      }
    },
    {
      "cell_type": "markdown",
      "source": [
        "- Ztest"
      ],
      "metadata": {
        "id": "s2U0kk00ygSB"
      }
    },
    {
      "cell_type": "markdown",
      "source": [
        "##### Why did you choose the specific statistical test?"
      ],
      "metadata": {
        "id": "fF3858GYyt-u"
      }
    },
    {
      "cell_type": "markdown",
      "source": [
        "This is type of one test sample data where population and sample test are assume in dataset. To test hypothesis 100 sample points are collected and test the null and alternate hypothesis."
      ],
      "metadata": {
        "id": "HO4K0gP5y3B4"
      }
    },
    {
      "cell_type": "markdown",
      "source": [
        "### Hypothetical Statement - 2"
      ],
      "metadata": {
        "id": "4_0_7-oCpUZd"
      }
    },
    {
      "cell_type": "markdown",
      "source": [
        "#### 1. State Your research hypothesis as a null hypothesis and alternate hypothesis."
      ],
      "metadata": {
        "id": "hwyV_J3ipUZe"
      }
    },
    {
      "cell_type": "markdown",
      "source": [
        "Null Hypothesis : H0 : Premium is equal to population mean\n",
        "\n",
        "Alternate Hypothesis : H1 : Premium is equal to not population mean"
      ],
      "metadata": {
        "id": "FnpLGJ-4pUZe"
      }
    },
    {
      "cell_type": "markdown",
      "source": [
        "#### 2. Perform an appropriate statistical test."
      ],
      "metadata": {
        "id": "3yB-zSqbpUZe"
      }
    },
    {
      "cell_type": "code",
      "source": [
        "# Perform Statistical Test to obtain P-Value\n",
        "# collected 100 sample of the dataset which are random\n",
        "from scipy import stats\n",
        "avg , std_deviation = np.mean(df['Annual_Premium']), np.std(df['Annual_Premium'])\n",
        "print(\"Population mean : {} and \\nstd deviation is : {} \".format(avg , std_deviation))\n",
        "num = np.random.randint(1,30000,100)\n",
        "sample = df['Annual_Premium'].loc[num]\n",
        "sample_mean, Sample_std = np.mean(sample), np.std(sample)\n",
        "print(\"Sample mean : {} and \\nstd deviation is : {} \".format(sample_mean , Sample_std))\n",
        "\n",
        "Z_score = (sample_mean - avg)/(std_deviation/np.sqrt(len(sample)))\n",
        "print(\"Z score of data is : \",Z_score)\n",
        "\n",
        "z_critical = stats.norm.ppf(0.05)\n",
        "print(\"Z critical values is : \",z_critical)\n",
        "\n",
        "if Z_score> z_critical:\n",
        "  print(\"Null Hypothesis is Rejected : Avg age of Customer is not 30\")\n",
        "else:\n",
        "  print(\"Null Hypothesis is Acdepted : Avg age of Customer is 30\")\n",
        "\n",
        "p_value = 1-stats.norm.cdf(Z_score)\n",
        "\n",
        "print('p-value :',p_value)\n",
        "\n",
        "# Hypothesis\n",
        "if p_value <  0.05:\n",
        "    print(\"Reject Null Hypothesis\")\n",
        "else:\n",
        "  print(\"Fail to Reject Null Hypothesis\")"
      ],
      "metadata": {
        "id": "sWxdNTXNpUZe"
      },
      "execution_count": null,
      "outputs": []
    },
    {
      "cell_type": "markdown",
      "source": [
        "##### Which statistical test have you done to obtain P-Value?"
      ],
      "metadata": {
        "id": "dEUvejAfpUZe"
      }
    },
    {
      "cell_type": "markdown",
      "source": [
        "Answer Here."
      ],
      "metadata": {
        "id": "oLDrPz7HpUZf"
      }
    },
    {
      "cell_type": "markdown",
      "source": [
        "##### Why did you choose the specific statistical test?"
      ],
      "metadata": {
        "id": "Fd15vwWVpUZf"
      }
    },
    {
      "cell_type": "markdown",
      "source": [
        "Answer Here."
      ],
      "metadata": {
        "id": "4xOGYyiBpUZf"
      }
    },
    {
      "cell_type": "markdown",
      "source": [
        "### Hypothetical Statement - 3"
      ],
      "metadata": {
        "id": "bn_IUdTipZyH"
      }
    },
    {
      "cell_type": "markdown",
      "source": [
        "#### 1. State Your research hypothesis as a null hypothesis and alternate hypothesis."
      ],
      "metadata": {
        "id": "49K5P_iCpZyH"
      }
    },
    {
      "cell_type": "markdown",
      "source": [
        "- Null Hypothesis      : H0 : Premium is equal to mean of population\n",
        "- Alternate Hypothesis : H1 : Premium is not equal to mean of population\n",
        "\n",
        "For practice select or assume there is no standard deviation of population available and sample is less than 30\n",
        "\n",
        "Perform T test"
      ],
      "metadata": {
        "id": "7gWI5rT9pZyH"
      }
    },
    {
      "cell_type": "markdown",
      "source": [
        "#### 2. Perform an appropriate statistical test."
      ],
      "metadata": {
        "id": "Nff-vKELpZyI"
      }
    },
    {
      "cell_type": "code",
      "source": [
        "# Perform Statistical Test to obtain P-Value\n",
        "# Select 25 sample\n",
        "from scipy.stats import ttest_1samp\n",
        "\n",
        "num = np.random.randint(1,len(df),25)\n",
        "sample = df['Age'].loc[num]\n",
        "sample_mean, Sample_std = np.mean(sample), np.std(sample)\n",
        "print(\"Sample mean : {} and \\nstd deviation is : {} \".format(sample_mean , Sample_std))\n",
        "\n",
        "t_score = (sample_mean - avg)/(Sample_std/np.sqrt(len(sample)))\n",
        "print(\"t score of data is : \",t_score)\n",
        "\n",
        "t_critical, pvalue = stats.ttest_1samp(sample, df['Age'].mean())\n",
        "print(\"t stats, pvalues values is : \",t_critical,pvalue)\n",
        "\n",
        "\n",
        "p_value = 1-stats.norm.cdf(t_score)\n",
        "\n",
        "print('p-value :',p_value)\n",
        "\n",
        "# Hypothesis\n",
        "if p_value <  0.05:\n",
        "    print(\"Reject Null Hypothesis\")\n",
        "else:\n",
        "  print(\"Fail to Reject Null Hypothesis\")"
      ],
      "metadata": {
        "id": "s6AnJQjtpZyI"
      },
      "execution_count": null,
      "outputs": []
    },
    {
      "cell_type": "markdown",
      "source": [
        "##### Which statistical test have you done to obtain P-Value?"
      ],
      "metadata": {
        "id": "kLW572S8pZyI"
      }
    },
    {
      "cell_type": "markdown",
      "source": [
        "Selectred for practice\n",
        "Assume standard deviation is not available and sample size is less than 30"
      ],
      "metadata": {
        "id": "ytWJ8v15pZyI"
      }
    },
    {
      "cell_type": "markdown",
      "source": [
        "## ***6. Feature Engineering & Data Pre-processing***"
      ],
      "metadata": {
        "id": "yLjJCtPM0KBk"
      }
    },
    {
      "cell_type": "markdown",
      "source": [
        "### 2. Handling Outliers"
      ],
      "metadata": {
        "id": "id1riN9m0vUs"
      }
    },
    {
      "cell_type": "code",
      "source": [
        "# Handling Outliers & Outlier treatment\n",
        "plt.subplot(3,2,1)\n",
        "sns.boxplot(df[\"Vintage\"])\n",
        "plt.subplot(3,2,2)\n",
        "sns.boxplot(df[\"Policy_Sales_Channel\"])\n",
        "plt.subplot(3,2,3)\n",
        "sns.boxplot(df[\"Annual_Premium\"])\n",
        "plt.subplot(3,2,4)\n",
        "sns.boxplot(df[\"Region_Code\"])\n",
        "plt.subplot(3,2,5)\n",
        "sns.boxplot(df[\"Age\"])"
      ],
      "metadata": {
        "id": "9qdOINAyG4_c"
      },
      "execution_count": null,
      "outputs": []
    },
    {
      "cell_type": "markdown",
      "source": [
        "### 4. Feature Manipulation & Selection"
      ],
      "metadata": {
        "id": "-oLEiFgy-5Pf"
      }
    },
    {
      "cell_type": "markdown",
      "source": [
        "#### 1. Feature Manipulation"
      ],
      "metadata": {
        "id": "C74aWNz2AliB"
      }
    },
    {
      "cell_type": "code",
      "source": [
        "df.head()"
      ],
      "metadata": {
        "id": "Zu4rLX-vJJ0H"
      },
      "execution_count": null,
      "outputs": []
    },
    {
      "cell_type": "code",
      "source": [
        "# Manipulate Features to minimize feature correlation and create new features\n",
        "df.corr()"
      ],
      "metadata": {
        "id": "h1qC4yhBApWC"
      },
      "execution_count": null,
      "outputs": []
    },
    {
      "cell_type": "code",
      "source": [
        "plt.figure(figsize=(14,6))\n",
        "sns.heatmap(df.corr(), annot=True)"
      ],
      "metadata": {
        "id": "j6tMiYZ1KfM8"
      },
      "execution_count": null,
      "outputs": []
    },
    {
      "cell_type": "markdown",
      "source": [
        "#### 2. Feature Selection"
      ],
      "metadata": {
        "id": "2DejudWSA-a0"
      }
    },
    {
      "cell_type": "markdown",
      "source": [
        "From the above observation some variable are less correlated with output\n",
        "-  need to select specific data variable"
      ],
      "metadata": {
        "id": "tw1CMT4-LDct"
      }
    },
    {
      "cell_type": "markdown",
      "source": [
        "### 6. Data Scaling"
      ],
      "metadata": {
        "id": "rMDnDkt2B6du"
      }
    },
    {
      "cell_type": "code",
      "source": [
        "# Scaling your data\n",
        "\n",
        "df['Annual_Premium'] = np.log(df['Annual_Premium'])"
      ],
      "metadata": {
        "id": "dL9LWpySC6x_"
      },
      "execution_count": null,
      "outputs": []
    },
    {
      "cell_type": "markdown",
      "source": [
        "##### Which method have you used to scale you data and why?"
      ],
      "metadata": {
        "id": "yiiVWRdJDDil"
      }
    },
    {
      "cell_type": "markdown",
      "source": [
        "There are many outlier in the dataset"
      ],
      "metadata": {
        "id": "L-A__LJyKHO4"
      }
    },
    {
      "cell_type": "markdown",
      "source": [
        "### 7. Dimesionality Reduction"
      ],
      "metadata": {
        "id": "1UUpS68QDMuG"
      }
    },
    {
      "cell_type": "markdown",
      "source": [
        "##### Do you think that dimensionality reduction is needed? Explain Why?"
      ],
      "metadata": {
        "id": "kexQrXU-DjzY"
      }
    },
    {
      "cell_type": "markdown",
      "source": [
        "Answer Here."
      ],
      "metadata": {
        "id": "GGRlBsSGDtTQ"
      }
    },
    {
      "cell_type": "code",
      "source": [
        "# DImensionality Reduction (If needed)\n",
        "from sklearn.decomposition import PCA\n",
        "from sklearn.preprocessing import StandardScaler\n",
        "X=df.drop(columns=\"Response\")\n",
        "scaler = StandardScaler()\n",
        "X = scaler.fit_transform(X)\n",
        "pca = PCA()\n",
        "principal_components = pca.fit_transform(X)"
      ],
      "metadata": {
        "id": "kQfvxBBHDvCa"
      },
      "execution_count": null,
      "outputs": []
    },
    {
      "cell_type": "code",
      "source": [
        "X = principal_components"
      ],
      "metadata": {
        "id": "mPiBTqK-KT_x"
      },
      "execution_count": null,
      "outputs": []
    },
    {
      "cell_type": "markdown",
      "source": [
        "##### Which dimensionality reduction technique have you used and why? (If dimensionality reduction done on dataset.)"
      ],
      "metadata": {
        "id": "T5CmagL3EC8N"
      }
    },
    {
      "cell_type": "markdown",
      "source": [
        "Answer Here."
      ],
      "metadata": {
        "id": "ZKr75IDuEM7t"
      }
    },
    {
      "cell_type": "markdown",
      "source": [
        "### 8. Data Splitting"
      ],
      "metadata": {
        "id": "BhH2vgX9EjGr"
      }
    },
    {
      "cell_type": "code",
      "source": [
        "# Split your data to train and test. Choose Splitting ratio wisely.\n",
        "from sklearn.model_selection import train_test_split\n",
        "X_train, X_test, y_train, y_test = train_test_split(X, df['Response'], random_state=40, test_size=20)"
      ],
      "metadata": {
        "id": "0CTyd2UwEyNM"
      },
      "execution_count": null,
      "outputs": []
    },
    {
      "cell_type": "markdown",
      "source": [
        "##### What data splitting ratio have you used and why?"
      ],
      "metadata": {
        "id": "qjKvONjwE8ra"
      }
    },
    {
      "cell_type": "markdown",
      "source": [
        "Test data should be always less than the train dataset and its should be the less than 33 %\n",
        "- large test sampling will lead to model inaccuracy"
      ],
      "metadata": {
        "id": "Y2lJ8cobFDb_"
      }
    },
    {
      "cell_type": "markdown",
      "source": [
        "## ***7. ML Model Implementation***"
      ],
      "metadata": {
        "id": "VfCC591jGiD4"
      }
    },
    {
      "cell_type": "markdown",
      "source": [
        "### ML Model - 1"
      ],
      "metadata": {
        "id": "OB4l2ZhMeS1U"
      }
    },
    {
      "cell_type": "code",
      "source": [
        "# ML Model - 1 Implementation\n",
        "from sklearn.linear_model import LogisticRegression\n",
        "model = LogisticRegression()\n",
        "\n",
        "# Fit the Algorithm\n",
        "model.fit(X_train, y_train)\n",
        "# Predict on the model\n",
        "y_pred = model.predict(X_test)"
      ],
      "metadata": {
        "id": "7ebyywQieS1U"
      },
      "execution_count": null,
      "outputs": []
    },
    {
      "cell_type": "markdown",
      "source": [
        "#### 1. Explain the ML Model used and it's performance using Evaluation metric Score Chart."
      ],
      "metadata": {
        "id": "ArJBuiUVfxKd"
      }
    },
    {
      "cell_type": "code",
      "source": [
        "# Visualizing evaluation Metric Score chart\n",
        "from sklearn.metrics import accuracy_score, precision_score, recall_score, confusion_matrix, classification_report, roc_auc_score\n",
        "\n",
        "# Calculate evaluation metrics\n",
        "accuracy = accuracy_score(y_test, y_pred)\n",
        "precision = precision_score(y_test, y_pred)\n",
        "recall = recall_score(y_test, y_pred)\n",
        "cm = confusion_matrix(y_test, y_pred)\n",
        "report = classification_report(y_test, y_pred)\n",
        "\n",
        "# Print the results\n",
        "print(\"Accuracy:\", accuracy)\n",
        "print(\"Precision:\", precision)\n",
        "print(\"Recall:\", recall)\n",
        "print(\"Confusion Matrix:\\n\", cm)\n",
        "print(\"Classification Report:\\n\", report)"
      ],
      "metadata": {
        "id": "rqD5ZohzfxKe"
      },
      "execution_count": null,
      "outputs": []
    },
    {
      "cell_type": "markdown",
      "source": [
        "#### 2. Cross- Validation & Hyperparameter Tuning"
      ],
      "metadata": {
        "id": "4qY1EAkEfxKe"
      }
    },
    {
      "cell_type": "code",
      "source": [
        "from sklearn.model_selection import GridSearchCV\n",
        "# ML Model - 1 Implementation with hyperparameter optimization techniques (i.e., GridSearch CV, RandomSearch CV, Bayesian Optimization etc.)\n",
        "model = LogisticRegression()\n",
        "param_grid = {\n",
        "  'C': np.logspace(-4, 4, 5),  # Range of C values (use log-scale for better exploration)\n",
        "  'solver': ['liblinear', 'lbfgs'],\n",
        "  'penalty': ['l2', 'elasticnet']\n",
        "}\n",
        "\n",
        "grid_search = GridSearchCV(model, param_grid, cv=5, scoring='accuracy')\n",
        "\n",
        "# Fit the Algorithm\n",
        "grid_search.fit(X_train, y_train)\n",
        "\n",
        "best_model = grid_search.best_estimator_\n",
        "best_score = grid_search.best_score_\n",
        "\n",
        "print(\"Best Model Parameters:\", best_model.get_params())\n",
        "print(\"Best Score:\", best_score)\n",
        "\n",
        "# Predict on the model\n",
        "y_pred = best_model.predict(X_test)"
      ],
      "metadata": {
        "id": "Dy61ujd6fxKe"
      },
      "execution_count": null,
      "outputs": []
    },
    {
      "cell_type": "code",
      "source": [
        "# Calculate evaluation metrics\n",
        "accuracy = accuracy_score(y_test, y_pred)\n",
        "precision = precision_score(y_test, y_pred)\n",
        "recall = recall_score(y_test, y_pred)\n",
        "cm = confusion_matrix(y_test, y_pred)\n",
        "report = classification_report(y_test, y_pred)\n",
        "\n",
        "# Print the results\n",
        "print(\"Accuracy:\", accuracy)\n",
        "print(\"Precision:\", precision)\n",
        "print(\"Recall:\", recall)\n",
        "print(\"Confusion Matrix:\\n\", cm)\n",
        "print(\"Classification Report:\\n\", report)"
      ],
      "metadata": {
        "id": "idjrW-SRO0JR"
      },
      "execution_count": null,
      "outputs": []
    },
    {
      "cell_type": "markdown",
      "source": [
        "##### Which hyperparameter optimization technique have you used and why?"
      ],
      "metadata": {
        "id": "PiV4Ypx8fxKe"
      }
    },
    {
      "cell_type": "markdown",
      "source": [
        "Answer Here."
      ],
      "metadata": {
        "id": "negyGRa7fxKf"
      }
    },
    {
      "cell_type": "markdown",
      "source": [
        "##### Have you seen any improvement? Note down the improvement with updates Evaluation metric Score Chart."
      ],
      "metadata": {
        "id": "TfvqoZmBfxKf"
      }
    },
    {
      "cell_type": "markdown",
      "source": [
        "Answer Here."
      ],
      "metadata": {
        "id": "OaLui8CcfxKf"
      }
    },
    {
      "cell_type": "markdown",
      "source": [
        "### ML Model - 2"
      ],
      "metadata": {
        "id": "dJ2tPlVmpsJ0"
      }
    },
    {
      "cell_type": "code",
      "source": [
        "from sklearn.tree import DecisionTreeClassifier\n",
        "\n",
        "d_model = DecisionTreeClassifier()\n",
        "\n",
        "d_model.fit(X_train,y_train)\n",
        "\n",
        "ypred = d_model.predict(X_test)"
      ],
      "metadata": {
        "id": "b6RnOfl6PegU"
      },
      "execution_count": null,
      "outputs": []
    },
    {
      "cell_type": "markdown",
      "source": [
        "#### 1. Explain the ML Model used and it's performance using Evaluation metric Score Chart."
      ],
      "metadata": {
        "id": "JWYfwnehpsJ1"
      }
    },
    {
      "cell_type": "code",
      "source": [
        "# Visualizing evaluation Metric Score chart\n",
        "# Calculate evaluation metrics\n",
        "accuracy = accuracy_score(y_test, y_pred)\n",
        "precision = precision_score(y_test, y_pred)\n",
        "recall = recall_score(y_test, y_pred)\n",
        "cm = confusion_matrix(y_test, y_pred)\n",
        "report = classification_report(y_test, y_pred)\n",
        "\n",
        "# Print the results\n",
        "print(\"Accuracy:\", accuracy)\n",
        "print(\"Precision:\", precision)\n",
        "print(\"Recall:\", recall)\n",
        "print(\"Confusion Matrix:\\n\", cm)\n",
        "print(\"Classification Report:\\n\", report)"
      ],
      "metadata": {
        "id": "yEl-hgQWpsJ1"
      },
      "execution_count": null,
      "outputs": []
    },
    {
      "cell_type": "markdown",
      "source": [
        "#### 2. Cross- Validation & Hyperparameter Tuning"
      ],
      "metadata": {
        "id": "-jK_YjpMpsJ2"
      }
    },
    {
      "cell_type": "code",
      "source": [
        "\n",
        "from sklearn.model_selection import GridSearchCV\n",
        "# ML Model - 1 Implementation with hyperparameter optimization techniques (i.e., GridSearch CV, RandomSearch CV, Bayesian Optimization etc.)\n",
        "model = DecisionTreeClassifier()\n",
        "\n",
        "param = {\n",
        "  'max_depth': [1,3,6],  # Range of maximum tree depths\n",
        "  'min_samples_split': [1,5],  # Range of minimum samples for splitting\n",
        "  'min_samples_leaf': [1,3],  # Range of minimum samples in leaves\n",
        "  'criterion': ['gini', 'entropy']  # Splitting criteria options\n",
        "}\n",
        "grid_search = GridSearchCV(model, cv=5,param_grid=param, scoring='accuracy')\n",
        "\n",
        "# Fit the Algorithm\n",
        "grid_search.fit(X_train, y_train)\n",
        "\n",
        "best_model = grid_search.best_estimator_\n",
        "best_score = grid_search.best_score_\n",
        "\n",
        "print(\"Best Model Parameters:\", best_model.get_params())\n",
        "print(\"Best Score:\", best_score)\n",
        "\n",
        "# Predict on the model\n",
        "y_pred = best_model.predict(X_test)"
      ],
      "metadata": {
        "id": "nJ_e-1x2S3-N"
      },
      "execution_count": null,
      "outputs": []
    },
    {
      "cell_type": "code",
      "source": [
        "# Calculate evaluation metrics\n",
        "accuracy = accuracy_score(y_test, y_pred)\n",
        "precision = precision_score(y_test, y_pred)\n",
        "recall = recall_score(y_test, y_pred)\n",
        "cm = confusion_matrix(y_test, y_pred)\n",
        "report = classification_report(y_test, y_pred)\n",
        "\n",
        "# Print the results\n",
        "print(\"Accuracy:\", accuracy)\n",
        "print(\"Precision:\", precision)\n",
        "print(\"Recall:\", recall)\n",
        "print(\"Confusion Matrix:\\n\", cm)\n",
        "print(\"Classification Report:\\n\", report)"
      ],
      "metadata": {
        "id": "8isbaRlWRi9q"
      },
      "execution_count": null,
      "outputs": []
    },
    {
      "cell_type": "markdown",
      "source": [
        "##### Which hyperparameter optimization technique have you used and why?"
      ],
      "metadata": {
        "id": "HAih1iBOpsJ2"
      }
    },
    {
      "cell_type": "markdown",
      "source": [
        "grid search CV"
      ],
      "metadata": {
        "id": "9kBgjYcdpsJ2"
      }
    },
    {
      "cell_type": "markdown",
      "source": [
        "##### Have you seen any improvement? Note down the improvement with updates Evaluation metric Score Chart."
      ],
      "metadata": {
        "id": "zVGeBEFhpsJ2"
      }
    },
    {
      "cell_type": "markdown",
      "source": [
        "Answer Here."
      ],
      "metadata": {
        "id": "74yRdG6UpsJ3"
      }
    },
    {
      "cell_type": "markdown",
      "source": [
        "### ML Model - 3"
      ],
      "metadata": {
        "id": "Fze-IPXLpx6K"
      }
    },
    {
      "cell_type": "code",
      "source": [
        "from sklearn.ensemble import RandomForestClassifier\n",
        "y=df['Response']\n",
        "# ML Model - 3 Implementation\n",
        "clf = RandomForestClassifier(n_estimators=2)\n",
        "# Fit the Algorithm\n",
        "clf.fit(X, y)\n",
        "# Predict on the model\n",
        "y_pred = clf.predict(X_test)"
      ],
      "metadata": {
        "id": "FFrSXAtrpx6M"
      },
      "execution_count": null,
      "outputs": []
    },
    {
      "cell_type": "markdown",
      "source": [
        "#### 1. Explain the ML Model used and it's performance using Evaluation metric Score Chart."
      ],
      "metadata": {
        "id": "7AN1z2sKpx6M"
      }
    },
    {
      "cell_type": "code",
      "source": [
        "# Visualizing evaluation Metric Score chart\n",
        "# Calculate evaluation metrics\n",
        "accuracy = accuracy_score(y_test, y_pred)\n",
        "precision = precision_score(y_test, y_pred)\n",
        "recall = recall_score(y_test, y_pred)\n",
        "cm = confusion_matrix(y_test, y_pred)\n",
        "report = classification_report(y_test, y_pred)\n",
        "\n",
        "# Print the results\n",
        "print(\"Accuracy:\", accuracy)\n",
        "print(\"Precision:\", precision)\n",
        "print(\"Recall:\", recall)\n",
        "print(\"Confusion Matrix:\\n\", cm)\n",
        "print(\"Classification Report:\\n\", report)"
      ],
      "metadata": {
        "id": "xIY4lxxGpx6M"
      },
      "execution_count": null,
      "outputs": []
    },
    {
      "cell_type": "markdown",
      "source": [
        "#### 2. Cross- Validation & Hyperparameter Tuning"
      ],
      "metadata": {
        "id": "9PIHJqyupx6M"
      }
    },
    {
      "cell_type": "code",
      "source": [
        "# ML Model - 3 Implementation with hyperparameter optimization techniques (i.e., GridSearch CV, RandomSearch CV, Bayesian Optimization etc.)\n",
        "param_grid = {\n",
        "    'n_estimators': [100],\n",
        "    'max_depth': [3],  # Range of maximum tree depths\n",
        "    'min_samples_split': [4],\n",
        "    'min_samples_leaf': [4],\n",
        "    'max_features': ['auto', 'log2']  # Different feature selection strategies\n",
        "}\n",
        "model = RandomForestClassifier()\n",
        "grid_search = GridSearchCV(model, param_grid, cv=5, scoring='accuracy')\n",
        "# Fit the Algorithm\n",
        "grid_search.fit(X_train, y_train)\n",
        "\n",
        "best_model = grid_search.best_estimator_\n",
        "best_score = grid_search.best_score_\n",
        "\n",
        "print(\"Best Model Parameters:\", best_model.get_params())\n",
        "print(\"Best Score:\", best_score)\n",
        "# Predict on the model\n",
        "y_pred = best_model.predict(X_test)"
      ],
      "metadata": {
        "id": "eSVXuaSKpx6M"
      },
      "execution_count": null,
      "outputs": []
    },
    {
      "cell_type": "code",
      "source": [
        "# Calculate evaluation metrics\n",
        "accuracy = accuracy_score(y_test, y_pred)\n",
        "precision = precision_score(y_test, y_pred)\n",
        "recall = recall_score(y_test, y_pred)\n",
        "cm = confusion_matrix(y_test, y_pred)\n",
        "report = classification_report(y_test, y_pred)\n",
        "\n",
        "# Print the results\n",
        "print(\"Accuracy:\", accuracy)\n",
        "print(\"Precision:\", precision)\n",
        "print(\"Recall:\", recall)\n",
        "print(\"Confusion Matrix:\\n\", cm)\n",
        "print(\"Classification Report:\\n\", report)"
      ],
      "metadata": {
        "id": "VKSuhYgfSut0"
      },
      "execution_count": null,
      "outputs": []
    },
    {
      "cell_type": "markdown",
      "source": [
        "##### Which hyperparameter optimization technique have you used and why?"
      ],
      "metadata": {
        "id": "_-qAgymDpx6N"
      }
    },
    {
      "cell_type": "markdown",
      "source": [
        "grid search"
      ],
      "metadata": {
        "id": "lQMffxkwpx6N"
      }
    },
    {
      "cell_type": "markdown",
      "source": [
        "##### Have you seen any improvement? Note down the improvement with updates Evaluation metric Score Chart."
      ],
      "metadata": {
        "id": "Z-hykwinpx6N"
      }
    },
    {
      "cell_type": "markdown",
      "source": [
        "No while training without hyperparamer"
      ],
      "metadata": {
        "id": "MzVzZC6opx6N"
      }
    },
    {
      "cell_type": "markdown",
      "source": [
        "### 1. Which Evaluation metrics did you consider for a positive business impact and why?"
      ],
      "metadata": {
        "id": "h_CCil-SKHpo"
      }
    },
    {
      "cell_type": "markdown",
      "source": [
        "- Accuracy of all the model is almost same as 0.9\n",
        "- After hyperparameter its observed some different result\n",
        "- Ist very hard to choice the moel base on the result But Random Forest technique gives better result as others model"
      ],
      "metadata": {
        "id": "jHVz9hHDKFms"
      }
    },
    {
      "cell_type": "markdown",
      "source": [
        "### 2. Which ML model did you choose from the above created models as your final prediction model and why?"
      ],
      "metadata": {
        "id": "cBFFvTBNJzUa"
      }
    },
    {
      "cell_type": "markdown",
      "source": [
        "Random Forest model is the better to select because its result are good"
      ],
      "metadata": {
        "id": "6ksF5Q1LKTVm"
      }
    },
    {
      "cell_type": "markdown",
      "source": [
        "### 3. Explain the model which you have used and the feature importance using any model explainability tool?"
      ],
      "metadata": {
        "id": "HvGl1hHyA_VK"
      }
    },
    {
      "cell_type": "markdown",
      "source": [
        "Random forest with hyperparameter is the best model as other evaluated\n",
        "- After hyperparameter tunning its result are satisfactory"
      ],
      "metadata": {
        "id": "YnvVTiIxBL-C"
      }
    },
    {
      "cell_type": "markdown",
      "source": [
        "# **Conclusion**"
      ],
      "metadata": {
        "id": "qX1fQM4JvCzM"
      }
    },
    {
      "cell_type": "markdown",
      "source": [
        "In this project small study on insurance dataset is conducted. In this project follows Data Understanding, Data Pre-Processing, Data Wrangling, Data Encoding, Data Visualization, EDA, Feature engg, feature selectiom , modeling , evaluation and Comment on the Business Problem to effective solution. This Anakysis concludes Male and Female are equal chance of taking insurance, customer who has Driving license more than 90% are interested in insurance, vehicle age 1-2 are shown interest to buy insurance.\n",
        "Finaly concluded the random forest classifiers is the best model after avaluation is concluded."
      ],
      "metadata": {
        "id": "rG6wL1cQvCzN"
      }
    },
    {
      "cell_type": "markdown",
      "source": [
        "### ***Hurrah! You have successfully completed your Machine Learning Capstone Project !!!***"
      ],
      "metadata": {
        "id": "eUF5ZJEwvCzN"
      }
    }
  ]
}